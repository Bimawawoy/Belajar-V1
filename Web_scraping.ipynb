{
  "cells": [
    {
      "cell_type": "markdown",
      "metadata": {
        "id": "view-in-github",
        "colab_type": "text"
      },
      "source": [
        "<a href=\"https://colab.research.google.com/github/Bimawawoy/Belajar-V1/blob/main/Web_scraping.ipynb\" target=\"_parent\"><img src=\"https://colab.research.google.com/assets/colab-badge.svg\" alt=\"Open In Colab\"/></a>"
      ]
    },
    {
      "cell_type": "code",
      "execution_count": 3,
      "metadata": {
        "colab": {
          "base_uri": "https://localhost:8080/",
          "height": 1000
        },
        "id": "nU0M7TAjjm_m",
        "outputId": "72bba0a4-1cb0-4629-cf83-0544cb02b396"
      },
      "outputs": [
        {
          "data": {
            "text/html": [
              "<pre style=\"white-space:pre;overflow-x:auto;line-height:normal;font-family:Menlo,'DejaVu Sans Mono',consolas,'Courier New',monospace\"><span style=\"color: #008000; text-decoration-color: #008000\">🙉 </span> Memuat data...\n",
              "</pre>\n"
            ],
            "text/plain": [
              "\u001b[32m🙉 \u001b[0m Memuat data...\n"
            ]
          },
          "metadata": {},
          "output_type": "display_data"
        },
        {
          "data": {
            "text/html": [
              "<pre style=\"white-space:pre;overflow-x:auto;line-height:normal;font-family:Menlo,'DejaVu Sans Mono',consolas,'Courier New',monospace\"></pre>\n"
            ],
            "text/plain": []
          },
          "metadata": {},
          "output_type": "display_data"
        },
        {
          "data": {
            "text/html": [
              "<pre style=\"white-space:pre;overflow-x:auto;line-height:normal;font-family:Menlo,'DejaVu Sans Mono',consolas,'Courier New',monospace\"><span style=\"color: #808000; text-decoration-color: #808000\">─────── </span><span style=\"color: #008080; text-decoration-color: #008080; font-weight: bold\">Program Web Scraping CODE by BIMZ</span><span style=\"color: #808000; text-decoration-color: #808000\"> ────────</span>\n",
              "</pre>\n"
            ],
            "text/plain": [
              "\u001b[33m─────── \u001b[0m\u001b[1;36mProgram Web Scraping CODE by BIMZ\u001b[0m\u001b[33m ────────\u001b[0m\n"
            ]
          },
          "metadata": {},
          "output_type": "display_data"
        },
        {
          "data": {
            "text/html": [
              "<pre style=\"white-space:pre;overflow-x:auto;line-height:normal;font-family:Menlo,'DejaVu Sans Mono',consolas,'Courier New',monospace\">╭──────────────────────╮\n",
              "│ <span style=\"color: #008080; text-decoration-color: #008080; background-color: #800080; font-weight: bold\">Selamat Pagi,Bima 🗿</span> │\n",
              "╰──────────────────────╯\n",
              "</pre>\n"
            ],
            "text/plain": [
              "╭──────────────────────╮\n",
              "│ \u001b[1;36;45mSelamat Pagi,Bima 🗿\u001b[0m │\n",
              "╰──────────────────────╯\n"
            ]
          },
          "metadata": {},
          "output_type": "display_data"
        },
        {
          "data": {
            "text/html": [
              "<pre style=\"white-space:pre;overflow-x:auto;line-height:normal;font-family:Menlo,'DejaVu Sans Mono',consolas,'Courier New',monospace\"><span style=\"color: #000080; text-decoration-color: #000080\">╭───────────────────────────────────────╮</span>\n",
              "<span style=\"color: #000080; text-decoration-color: #000080\">│</span> <span style=\"color: #c0c0c0; text-decoration-color: #c0c0c0; background-color: #800000; font-weight: bold\">Link/Sumber : https://otakudesu.cloud</span> <span style=\"color: #000080; text-decoration-color: #000080\">│</span>\n",
              "<span style=\"color: #000080; text-decoration-color: #000080\">│</span> <span style=\"color: #c0c0c0; text-decoration-color: #c0c0c0; background-color: #808000; font-weight: bold\">Waktu saat ini : 8 : 22</span>               <span style=\"color: #000080; text-decoration-color: #000080\">│</span>\n",
              "<span style=\"color: #000080; text-decoration-color: #000080\">│</span> <span style=\"color: #c0c0c0; text-decoration-color: #c0c0c0; background-color: #008000; font-weight: bold\">Status code Web : 200</span>                 <span style=\"color: #000080; text-decoration-color: #000080\">│</span>\n",
              "<span style=\"color: #000080; text-decoration-color: #000080\">│</span> <span style=\"color: #800080; text-decoration-color: #800080; background-color: #008000; font-weight: bold\">Ip kamu : 34.125.40.173</span>               <span style=\"color: #000080; text-decoration-color: #000080\">│</span>\n",
              "<span style=\"color: #000080; text-decoration-color: #000080\">│</span> <span style=\"color: #000080; text-decoration-color: #000080; background-color: #008000; font-weight: bold\">Country : Unknown</span>                     <span style=\"color: #000080; text-decoration-color: #000080\">│</span>\n",
              "<span style=\"color: #000080; text-decoration-color: #000080\">╰───────────────────────────────────────╯</span>\n",
              "</pre>\n"
            ],
            "text/plain": [
              "\u001b[34m╭───────────────────────────────────────╮\u001b[0m\n",
              "\u001b[34m│\u001b[0m \u001b[1;37;41mLink/Sumber : https://otakudesu.cloud\u001b[0m \u001b[34m│\u001b[0m\n",
              "\u001b[34m│\u001b[0m \u001b[1;37;43mWaktu saat ini : 8 : 22\u001b[0m               \u001b[34m│\u001b[0m\n",
              "\u001b[34m│\u001b[0m \u001b[1;37;42mStatus code Web : 200\u001b[0m                 \u001b[34m│\u001b[0m\n",
              "\u001b[34m│\u001b[0m \u001b[1;35;42mIp kamu : 34.125.40.173\u001b[0m               \u001b[34m│\u001b[0m\n",
              "\u001b[34m│\u001b[0m \u001b[1;34;42mCountry : Unknown\u001b[0m                     \u001b[34m│\u001b[0m\n",
              "\u001b[34m╰───────────────────────────────────────╯\u001b[0m\n"
            ]
          },
          "metadata": {},
          "output_type": "display_data"
        },
        {
          "data": {
            "text/html": [
              "<pre style=\"white-space:pre;overflow-x:auto;line-height:normal;font-family:Menlo,'DejaVu Sans Mono',consolas,'Courier New',monospace\"><span style=\"color: #808000; text-decoration-color: #808000\">─────────────────── </span><span style=\"color: #008080; text-decoration-color: #008080; font-weight: bold\"> Main Menu</span><span style=\"color: #808000; text-decoration-color: #808000\"> ───────────────────</span>\n",
              "</pre>\n"
            ],
            "text/plain": [
              "\u001b[33m─────────────────── \u001b[0m\u001b[1;36m Main Menu\u001b[0m\u001b[33m ───────────────────\u001b[0m\n"
            ]
          },
          "metadata": {},
          "output_type": "display_data"
        },
        {
          "data": {
            "text/html": [
              "<pre style=\"white-space:pre;overflow-x:auto;line-height:normal;font-family:Menlo,'DejaVu Sans Mono',consolas,'Courier New',monospace\">                 <span style=\"color: #800080; text-decoration-color: #800080; font-weight: bold\">1.</span><span style=\"color: #800080; text-decoration-color: #800080; font-weight: bold\">Trending Anime</span>                 \n",
              "               <span style=\"color: #800080; text-decoration-color: #800080; font-weight: bold\">2.</span><span style=\"color: #800080; text-decoration-color: #800080; font-weight: bold\">Jadwal rilis Anime</span>               \n",
              "         <span style=\"color: #800080; text-decoration-color: #800080; font-weight: bold\">3.</span><span style=\"color: #800080; text-decoration-color: #800080; font-weight: bold\">List semua Anime A-Z</span><span style=\"color: #800000; text-decoration-color: #800000; font-weight: bold\">(Unstable)</span>         \n",
              "                <span style=\"color: #800080; text-decoration-color: #800080; font-weight: bold\">4.</span><span style=\"color: #800080; text-decoration-color: #800080; font-weight: bold\">Cari Anime</span><span style=\"color: #800000; text-decoration-color: #800000; font-weight: bold\">(Beta)</span>                \n",
              "                     <span style=\"color: #800080; text-decoration-color: #800080; font-weight: bold\">5.</span><span style=\"color: #800080; text-decoration-color: #800080; font-weight: bold\">Keluar</span>                     \n",
              "</pre>\n"
            ],
            "text/plain": [
              "                 \u001b[1;35m1.\u001b[0m\u001b[1;35mTrending Anime\u001b[0m                 \n",
              "               \u001b[1;35m2.\u001b[0m\u001b[1;35mJadwal rilis Anime\u001b[0m               \n",
              "         \u001b[1;35m3.\u001b[0m\u001b[1;35mList semua Anime A-\u001b[0m\u001b[1;35mZ\u001b[0m\u001b[1;31m(\u001b[0m\u001b[1;31mUnstable\u001b[0m\u001b[1;31m)\u001b[0m         \n",
              "                \u001b[1;35m4.\u001b[0m\u001b[1;35mCari \u001b[0m\u001b[1;35mAnime\u001b[0m\u001b[1;31m(\u001b[0m\u001b[1;31mBeta\u001b[0m\u001b[1;31m)\u001b[0m                \n",
              "                     \u001b[1;35m5.\u001b[0m\u001b[1;35mKeluar\u001b[0m                     \n"
            ]
          },
          "metadata": {},
          "output_type": "display_data"
        },
        {
          "data": {
            "text/html": [
              "<pre style=\"white-space:pre;overflow-x:auto;line-height:normal;font-family:Menlo,'DejaVu Sans Mono',consolas,'Courier New',monospace\">              <span style=\"color: #008080; text-decoration-color: #008080; font-weight: bold\">Created with ❤️ by BIMZ</span>              \n",
              "</pre>\n"
            ],
            "text/plain": [
              "              \u001b[1;36mCreated with ❤️ by BIMZ\u001b[0m              \n"
            ]
          },
          "metadata": {},
          "output_type": "display_data"
        },
        {
          "data": {
            "text/html": [
              "<pre style=\"white-space:pre;overflow-x:auto;line-height:normal;font-family:Menlo,'DejaVu Sans Mono',consolas,'Courier New',monospace\"><span style=\"color: #800000; text-decoration-color: #800000; font-weight: bold\">$[BIMZ😃] &gt;&gt;</span></pre>\n"
            ],
            "text/plain": [
              "\u001b[1;31m$\u001b[0m\u001b[1;31m[\u001b[0m\u001b[1;31mBIMZ😃\u001b[0m\u001b[1;31m]\u001b[0m\u001b[1;31m >>\u001b[0m"
            ]
          },
          "metadata": {},
          "output_type": "display_data"
        },
        {
          "data": {
            "text/html": [
              "<pre style=\"white-space:pre;overflow-x:auto;line-height:normal;font-family:Menlo,'DejaVu Sans Mono',consolas,'Courier New',monospace\"><span style=\"color: #800000; text-decoration-color: #800000; font-weight: bold\">Cari Anime : ⚠(type </span><span style=\"color: #800000; text-decoration-color: #800000; font-weight: bold\">'exit'</span><span style=\"color: #800000; text-decoration-color: #800000; font-weight: bold\"> to exit)</span></pre>\n"
            ],
            "text/plain": [
              "\u001b[1;31mCari Anime : ⚠\u001b[0m\u001b[1;31m(\u001b[0m\u001b[1;31mtype \u001b[0m\u001b[1;31m'exit'\u001b[0m\u001b[1;31m to exit\u001b[0m\u001b[1;31m)\u001b[0m"
            ]
          },
          "metadata": {},
          "output_type": "display_data"
        },
        {
          "data": {
            "text/html": [
              "<pre style=\"white-space:pre;overflow-x:auto;line-height:normal;font-family:Menlo,'DejaVu Sans Mono',consolas,'Courier New',monospace\"><span style=\"color: #808000; text-decoration-color: #808000\">─────── </span><span style=\"color: #008080; text-decoration-color: #008080; font-weight: bold\">Program Web Scraping CODE by BIMZ</span><span style=\"color: #808000; text-decoration-color: #808000\"> ────────</span>\n",
              "</pre>\n"
            ],
            "text/plain": [
              "\u001b[33m─────── \u001b[0m\u001b[1;36mProgram Web Scraping CODE by BIMZ\u001b[0m\u001b[33m ────────\u001b[0m\n"
            ]
          },
          "metadata": {},
          "output_type": "display_data"
        },
        {
          "data": {
            "text/html": [
              "<pre style=\"white-space:pre;overflow-x:auto;line-height:normal;font-family:Menlo,'DejaVu Sans Mono',consolas,'Courier New',monospace\">╭──────────────────────╮\n",
              "│ <span style=\"color: #008080; text-decoration-color: #008080; background-color: #800080; font-weight: bold\">Selamat Pagi,Bima 🗿</span> │\n",
              "╰──────────────────────╯\n",
              "</pre>\n"
            ],
            "text/plain": [
              "╭──────────────────────╮\n",
              "│ \u001b[1;36;45mSelamat Pagi,Bima 🗿\u001b[0m │\n",
              "╰──────────────────────╯\n"
            ]
          },
          "metadata": {},
          "output_type": "display_data"
        },
        {
          "data": {
            "text/html": [
              "<pre style=\"white-space:pre;overflow-x:auto;line-height:normal;font-family:Menlo,'DejaVu Sans Mono',consolas,'Courier New',monospace\"><span style=\"color: #000080; text-decoration-color: #000080\">╭───────────────────────────────────────╮</span>\n",
              "<span style=\"color: #000080; text-decoration-color: #000080\">│</span> <span style=\"color: #c0c0c0; text-decoration-color: #c0c0c0; background-color: #800000; font-weight: bold\">Link/Sumber : https://otakudesu.cloud</span> <span style=\"color: #000080; text-decoration-color: #000080\">│</span>\n",
              "<span style=\"color: #000080; text-decoration-color: #000080\">│</span> <span style=\"color: #c0c0c0; text-decoration-color: #c0c0c0; background-color: #808000; font-weight: bold\">Waktu saat ini : 8 : 23</span>               <span style=\"color: #000080; text-decoration-color: #000080\">│</span>\n",
              "<span style=\"color: #000080; text-decoration-color: #000080\">│</span> <span style=\"color: #c0c0c0; text-decoration-color: #c0c0c0; background-color: #008000; font-weight: bold\">Status code Web : 200</span>                 <span style=\"color: #000080; text-decoration-color: #000080\">│</span>\n",
              "<span style=\"color: #000080; text-decoration-color: #000080\">│</span> <span style=\"color: #800080; text-decoration-color: #800080; background-color: #008000; font-weight: bold\">Ip kamu : 34.125.40.173</span>               <span style=\"color: #000080; text-decoration-color: #000080\">│</span>\n",
              "<span style=\"color: #000080; text-decoration-color: #000080\">│</span> <span style=\"color: #000080; text-decoration-color: #000080; background-color: #008000; font-weight: bold\">Country : Unknown</span>                     <span style=\"color: #000080; text-decoration-color: #000080\">│</span>\n",
              "<span style=\"color: #000080; text-decoration-color: #000080\">╰───────────────────────────────────────╯</span>\n",
              "</pre>\n"
            ],
            "text/plain": [
              "\u001b[34m╭───────────────────────────────────────╮\u001b[0m\n",
              "\u001b[34m│\u001b[0m \u001b[1;37;41mLink/Sumber : https://otakudesu.cloud\u001b[0m \u001b[34m│\u001b[0m\n",
              "\u001b[34m│\u001b[0m \u001b[1;37;43mWaktu saat ini : 8 : 23\u001b[0m               \u001b[34m│\u001b[0m\n",
              "\u001b[34m│\u001b[0m \u001b[1;37;42mStatus code Web : 200\u001b[0m                 \u001b[34m│\u001b[0m\n",
              "\u001b[34m│\u001b[0m \u001b[1;35;42mIp kamu : 34.125.40.173\u001b[0m               \u001b[34m│\u001b[0m\n",
              "\u001b[34m│\u001b[0m \u001b[1;34;42mCountry : Unknown\u001b[0m                     \u001b[34m│\u001b[0m\n",
              "\u001b[34m╰───────────────────────────────────────╯\u001b[0m\n"
            ]
          },
          "metadata": {},
          "output_type": "display_data"
        },
        {
          "data": {
            "text/html": [
              "<pre style=\"white-space:pre;overflow-x:auto;line-height:normal;font-family:Menlo,'DejaVu Sans Mono',consolas,'Courier New',monospace\"><span style=\"color: #808000; text-decoration-color: #808000\">─────────────────── </span><span style=\"color: #008080; text-decoration-color: #008080; font-weight: bold\"> Main Menu</span><span style=\"color: #808000; text-decoration-color: #808000\"> ───────────────────</span>\n",
              "</pre>\n"
            ],
            "text/plain": [
              "\u001b[33m─────────────────── \u001b[0m\u001b[1;36m Main Menu\u001b[0m\u001b[33m ───────────────────\u001b[0m\n"
            ]
          },
          "metadata": {},
          "output_type": "display_data"
        },
        {
          "data": {
            "text/html": [
              "<pre style=\"white-space:pre;overflow-x:auto;line-height:normal;font-family:Menlo,'DejaVu Sans Mono',consolas,'Courier New',monospace\">                 <span style=\"color: #800080; text-decoration-color: #800080; font-weight: bold\">1.</span><span style=\"color: #800080; text-decoration-color: #800080; font-weight: bold\">Trending Anime</span>                 \n",
              "               <span style=\"color: #800080; text-decoration-color: #800080; font-weight: bold\">2.</span><span style=\"color: #800080; text-decoration-color: #800080; font-weight: bold\">Jadwal rilis Anime</span>               \n",
              "         <span style=\"color: #800080; text-decoration-color: #800080; font-weight: bold\">3.</span><span style=\"color: #800080; text-decoration-color: #800080; font-weight: bold\">List semua Anime A-Z</span><span style=\"color: #800000; text-decoration-color: #800000; font-weight: bold\">(Unstable)</span>         \n",
              "                <span style=\"color: #800080; text-decoration-color: #800080; font-weight: bold\">4.</span><span style=\"color: #800080; text-decoration-color: #800080; font-weight: bold\">Cari Anime</span><span style=\"color: #800000; text-decoration-color: #800000; font-weight: bold\">(Beta)</span>                \n",
              "                     <span style=\"color: #800080; text-decoration-color: #800080; font-weight: bold\">5.</span><span style=\"color: #800080; text-decoration-color: #800080; font-weight: bold\">Keluar</span>                     \n",
              "</pre>\n"
            ],
            "text/plain": [
              "                 \u001b[1;35m1.\u001b[0m\u001b[1;35mTrending Anime\u001b[0m                 \n",
              "               \u001b[1;35m2.\u001b[0m\u001b[1;35mJadwal rilis Anime\u001b[0m               \n",
              "         \u001b[1;35m3.\u001b[0m\u001b[1;35mList semua Anime A-\u001b[0m\u001b[1;35mZ\u001b[0m\u001b[1;31m(\u001b[0m\u001b[1;31mUnstable\u001b[0m\u001b[1;31m)\u001b[0m         \n",
              "                \u001b[1;35m4.\u001b[0m\u001b[1;35mCari \u001b[0m\u001b[1;35mAnime\u001b[0m\u001b[1;31m(\u001b[0m\u001b[1;31mBeta\u001b[0m\u001b[1;31m)\u001b[0m                \n",
              "                     \u001b[1;35m5.\u001b[0m\u001b[1;35mKeluar\u001b[0m                     \n"
            ]
          },
          "metadata": {},
          "output_type": "display_data"
        },
        {
          "data": {
            "text/html": [
              "<pre style=\"white-space:pre;overflow-x:auto;line-height:normal;font-family:Menlo,'DejaVu Sans Mono',consolas,'Courier New',monospace\">              <span style=\"color: #008080; text-decoration-color: #008080; font-weight: bold\">Created with ❤️ by BIMZ</span>              \n",
              "</pre>\n"
            ],
            "text/plain": [
              "              \u001b[1;36mCreated with ❤️ by BIMZ\u001b[0m              \n"
            ]
          },
          "metadata": {},
          "output_type": "display_data"
        },
        {
          "data": {
            "text/html": [
              "<pre style=\"white-space:pre;overflow-x:auto;line-height:normal;font-family:Menlo,'DejaVu Sans Mono',consolas,'Courier New',monospace\"><span style=\"color: #800000; text-decoration-color: #800000; font-weight: bold\">$[BIMZ😃] &gt;&gt;</span></pre>\n"
            ],
            "text/plain": [
              "\u001b[1;31m$\u001b[0m\u001b[1;31m[\u001b[0m\u001b[1;31mBIMZ😃\u001b[0m\u001b[1;31m]\u001b[0m\u001b[1;31m >>\u001b[0m"
            ]
          },
          "metadata": {},
          "output_type": "display_data"
        },
        {
          "data": {
            "text/html": [
              "<pre style=\"white-space:pre;overflow-x:auto;line-height:normal;font-family:Menlo,'DejaVu Sans Mono',consolas,'Courier New',monospace\"><span style=\"color: #800000; text-decoration-color: #800000; font-weight: bold\">Cari Anime : ⚠(type </span><span style=\"color: #800000; text-decoration-color: #800000; font-weight: bold\">'exit'</span><span style=\"color: #800000; text-decoration-color: #800000; font-weight: bold\"> to exit)</span></pre>\n"
            ],
            "text/plain": [
              "\u001b[1;31mCari Anime : ⚠\u001b[0m\u001b[1;31m(\u001b[0m\u001b[1;31mtype \u001b[0m\u001b[1;31m'exit'\u001b[0m\u001b[1;31m to exit\u001b[0m\u001b[1;31m)\u001b[0m"
            ]
          },
          "metadata": {},
          "output_type": "display_data"
        },
        {
          "metadata": {
            "tags": null
          },
          "name": "stdout",
          "output_type": "stream",
          "text": [
            "\n",
            "\n"
          ]
        },
        {
          "data": {
            "text/html": [
              "<pre style=\"white-space:pre;overflow-x:auto;line-height:normal;font-family:Menlo,'DejaVu Sans Mono',consolas,'Courier New',monospace\">👍 Anime ditemukan!\n",
              "</pre>\n"
            ],
            "text/plain": [
              "👍 Anime ditemukan!\n"
            ]
          },
          "metadata": {},
          "output_type": "display_data"
        },
        {
          "data": {
            "text/html": [
              "<pre style=\"white-space:pre;overflow-x:auto;line-height:normal;font-family:Menlo,'DejaVu Sans Mono',consolas,'Courier New',monospace\"><span style=\"color: #008080; text-decoration-color: #008080\">╭────────────────────────────────────────────────╮</span>\n",
              "<span style=\"color: #008080; text-decoration-color: #008080\">│</span> <span style=\"color: #008000; text-decoration-color: #008000; font-weight: bold\">Judul : Level 1 dakedo Unique Skill de Saikyou</span> <span style=\"color: #008080; text-decoration-color: #008080\">│</span>\n",
              "<span style=\"color: #008080; text-decoration-color: #008080\">│</span> <span style=\"color: #008000; text-decoration-color: #008000; font-weight: bold\">desu (Episode 1 – 12) Subtitle Indonesia</span>       <span style=\"color: #008080; text-decoration-color: #008080\">│</span>\n",
              "<span style=\"color: #008080; text-decoration-color: #008080\">│</span> <span style=\"color: #800080; text-decoration-color: #800080; font-weight: bold\">Status : Completed</span>                             <span style=\"color: #008080; text-decoration-color: #008080\">│</span>\n",
              "<span style=\"color: #008080; text-decoration-color: #008080\">│</span> <span style=\"color: #c0c0c0; text-decoration-color: #c0c0c0; font-weight: bold\">Skor: 6.26</span>                                     <span style=\"color: #008080; text-decoration-color: #008080\">│</span>\n",
              "<span style=\"color: #008080; text-decoration-color: #008080\">│</span> <span style=\"color: #808000; text-decoration-color: #808000; font-weight: bold\">Tanggal Rilis: Jul 08, 2023</span>                    <span style=\"color: #008080; text-decoration-color: #008080\">│</span>\n",
              "<span style=\"color: #008080; text-decoration-color: #008080\">│</span> <span style=\"color: #008080; text-decoration-color: #008080; font-weight: bold\">Produser: Kodansha</span>                             <span style=\"color: #008080; text-decoration-color: #008080\">│</span>\n",
              "<span style=\"color: #008080; text-decoration-color: #008080\">│</span> <span style=\"color: #800000; text-decoration-color: #800000; font-weight: bold\">Genre : Fantasy, Harem, Isekai, Reincarnation,</span> <span style=\"color: #008080; text-decoration-color: #008080\">│</span>\n",
              "<span style=\"color: #008080; text-decoration-color: #008080\">│</span> <span style=\"color: #800000; text-decoration-color: #800000; font-weight: bold\">Action, Adventure, Fantasy, Isekai, School, </span>   <span style=\"color: #008080; text-decoration-color: #008080\">│</span>\n",
              "<span style=\"color: #008080; text-decoration-color: #008080\">│</span> <span style=\"color: #800000; text-decoration-color: #800000; font-weight: bold\">Comedy, Fantasy, Isekai, Seinen, Adventure, </span>   <span style=\"color: #008080; text-decoration-color: #008080\">│</span>\n",
              "<span style=\"color: #008080; text-decoration-color: #008080\">│</span> <span style=\"color: #800000; text-decoration-color: #800000; font-weight: bold\">Comedy, Fantasy, Isekai, Action, Adventure, </span>   <span style=\"color: #008080; text-decoration-color: #008080\">│</span>\n",
              "<span style=\"color: #008080; text-decoration-color: #008080\">│</span> <span style=\"color: #800000; text-decoration-color: #800000; font-weight: bold\">Fantasy, Action, Adventure, Fantasy, Action, </span>  <span style=\"color: #008080; text-decoration-color: #008080\">│</span>\n",
              "<span style=\"color: #008080; text-decoration-color: #008080\">│</span> <span style=\"color: #800000; text-decoration-color: #800000; font-weight: bold\">Comedy, Ecchi, School, Super Power, Action, </span>   <span style=\"color: #008080; text-decoration-color: #008080\">│</span>\n",
              "<span style=\"color: #008080; text-decoration-color: #008080\">│</span> <span style=\"color: #800000; text-decoration-color: #800000; font-weight: bold\">Adventure, Comedy, Fantasy, Video Game, </span>       <span style=\"color: #008080; text-decoration-color: #008080\">│</span>\n",
              "<span style=\"color: #008080; text-decoration-color: #008080\">│</span> <span style=\"color: #800000; text-decoration-color: #800000; font-weight: bold\">Adventure, Fantasy, Isekai, Reincarnation, </span>    <span style=\"color: #008080; text-decoration-color: #008080\">│</span>\n",
              "<span style=\"color: #008080; text-decoration-color: #008080\">│</span> <span style=\"color: #800000; text-decoration-color: #800000; font-weight: bold\">Action, Adventure, Ecchi, Fantasy, Harem, </span>     <span style=\"color: #008080; text-decoration-color: #008080\">│</span>\n",
              "<span style=\"color: #008080; text-decoration-color: #008080\">│</span> <span style=\"color: #800000; text-decoration-color: #800000; font-weight: bold\">Isekai, Romance, Adventure, Fantasy, Romance, </span> <span style=\"color: #008080; text-decoration-color: #008080\">│</span>\n",
              "<span style=\"color: #008080; text-decoration-color: #008080\">│</span> <span style=\"color: #800000; text-decoration-color: #800000; font-weight: bold\">Action, Adventure, Comedy, Fantasy, Sci-Fi, </span>   <span style=\"color: #008080; text-decoration-color: #008080\">│</span>\n",
              "<span style=\"color: #008080; text-decoration-color: #008080\">│</span> <span style=\"color: #800000; text-decoration-color: #800000; font-weight: bold\">Comedy, Ecchi, School, Seinen, Action, </span>        <span style=\"color: #008080; text-decoration-color: #008080\">│</span>\n",
              "<span style=\"color: #008080; text-decoration-color: #008080\">│</span> <span style=\"color: #800000; text-decoration-color: #800000; font-weight: bold\">Psychological, Sci-Fi, Seinen, Adventure, </span>     <span style=\"color: #008080; text-decoration-color: #008080\">│</span>\n",
              "<span style=\"color: #008080; text-decoration-color: #008080\">│</span> <span style=\"color: #800000; text-decoration-color: #800000; font-weight: bold\">Fantasy, Harem</span>                                 <span style=\"color: #008080; text-decoration-color: #008080\">│</span>\n",
              "<span style=\"color: #008080; text-decoration-color: #008080\">│</span> <span style=\"color: #000080; text-decoration-color: #000080; font-weight: bold\">Sinopsis : Menceritakan seorang pekerja </span>       <span style=\"color: #008080; text-decoration-color: #008080\">│</span>\n",
              "<span style=\"color: #008080; text-decoration-color: #008080\">│</span> <span style=\"color: #000080; text-decoration-color: #000080; font-weight: bold\">kantoran bernama Ryouta Satou yang bekerja di </span> <span style=\"color: #008080; text-decoration-color: #008080\">│</span>\n",
              "<span style=\"color: #008080; text-decoration-color: #008080\">│</span> <span style=\"color: #000080; text-decoration-color: #000080; font-weight: bold\">sebuah perusahaan illegal. Suatu hari, Satou </span>  <span style=\"color: #008080; text-decoration-color: #008080\">│</span>\n",
              "<span style=\"color: #008080; text-decoration-color: #008080\">│</span> <span style=\"color: #000080; text-decoration-color: #000080; font-weight: bold\">mengalami reinkarnasi setelah meninggal karena</span> <span style=\"color: #008080; text-decoration-color: #008080\">│</span>\n",
              "<span style=\"color: #008080; text-decoration-color: #008080\">│</span> <span style=\"color: #000080; text-decoration-color: #000080; font-weight: bold\">terlalu banyak bekerja seperti orang Jepang </span>   <span style=\"color: #008080; text-decoration-color: #008080\">│</span>\n",
              "<span style=\"color: #008080; text-decoration-color: #008080\">│</span> <span style=\"color: #000080; text-decoration-color: #000080; font-weight: bold\">pada umumnya.Ketika terbangun, ia menyadari </span>   <span style=\"color: #008080; text-decoration-color: #008080\">│</span>\n",
              "<span style=\"color: #008080; text-decoration-color: #008080\">│</span> <span style=\"color: #000080; text-decoration-color: #000080; font-weight: bold\">bahwa dirinya telah berada di sebuah ruangan </span>  <span style=\"color: #008080; text-decoration-color: #008080\">│</span>\n",
              "<span style=\"color: #008080; text-decoration-color: #008080\">│</span> <span style=\"color: #000080; text-decoration-color: #000080; font-weight: bold\">bawah tanah atau Domain. Di tempat tersebut, </span>  <span style=\"color: #008080; text-decoration-color: #008080\">│</span>\n",
              "<span style=\"color: #008080; text-decoration-color: #008080\">│</span> <span style=\"color: #000080; text-decoration-color: #000080; font-weight: bold\">ia bertemu dengan seorang gadis muda bernama </span>  <span style=\"color: #008080; text-decoration-color: #008080\">│</span>\n",
              "<span style=\"color: #008080; text-decoration-color: #008080\">│</span> <span style=\"color: #000080; text-decoration-color: #000080; font-weight: bold\">Emily Brown.Satou yang belum mengetahui </span>       <span style=\"color: #008080; text-decoration-color: #008080\">│</span>\n",
              "<span style=\"color: #008080; text-decoration-color: #008080\">│</span> <span style=\"color: #000080; text-decoration-color: #000080; font-weight: bold\">berbagai hal di dunia baru ini meminta kepada </span> <span style=\"color: #008080; text-decoration-color: #008080\">│</span>\n",
              "<span style=\"color: #008080; text-decoration-color: #008080\">│</span> <span style=\"color: #000080; text-decoration-color: #000080; font-weight: bold\">Emily untuk memperlihatkan statusnya. Siapa </span>   <span style=\"color: #008080; text-decoration-color: #008080\">│</span>\n",
              "<span style=\"color: #008080; text-decoration-color: #008080\">│</span> <span style=\"color: #000080; text-decoration-color: #000080; font-weight: bold\">sangka, status Satou sangatlah rendah. Walau </span>  <span style=\"color: #008080; text-decoration-color: #008080\">│</span>\n",
              "<span style=\"color: #008080; text-decoration-color: #008080\">│</span> <span style=\"color: #000080; text-decoration-color: #000080; font-weight: bold\">begitu, status drop miliknya sangatlah </span>        <span style=\"color: #008080; text-decoration-color: #008080\">│</span>\n",
              "<span style=\"color: #008080; text-decoration-color: #008080\">│</span> <span style=\"color: #000080; text-decoration-color: #000080; font-weight: bold\">tinggi.Mengetahui hal ini, Satou bersama Emily</span> <span style=\"color: #008080; text-decoration-color: #008080\">│</span>\n",
              "<span style=\"color: #008080; text-decoration-color: #008080\">│</span> <span style=\"color: #000080; text-decoration-color: #000080; font-weight: bold\">memulai petualangannya sendiri. </span>               <span style=\"color: #008080; text-decoration-color: #008080\">│</span>\n",
              "<span style=\"color: #008080; text-decoration-color: #008080\">╰────────────────────────────────────────────────╯</span>\n",
              "</pre>\n"
            ],
            "text/plain": [
              "\u001b[36m╭────────────────────────────────────────────────╮\u001b[0m\n",
              "\u001b[36m│\u001b[0m \u001b[1;32mJudul : Level 1 dakedo Unique Skill de Saikyou\u001b[0m \u001b[36m│\u001b[0m\n",
              "\u001b[36m│\u001b[0m \u001b[1;32mdesu (Episode 1 – 12) Subtitle Indonesia\u001b[0m       \u001b[36m│\u001b[0m\n",
              "\u001b[36m│\u001b[0m \u001b[1;35mStatus : Completed\u001b[0m                             \u001b[36m│\u001b[0m\n",
              "\u001b[36m│\u001b[0m \u001b[1;37mSkor: 6.26\u001b[0m                                     \u001b[36m│\u001b[0m\n",
              "\u001b[36m│\u001b[0m \u001b[1;33mTanggal Rilis: Jul 08, 2023\u001b[0m                    \u001b[36m│\u001b[0m\n",
              "\u001b[36m│\u001b[0m \u001b[1;36mProduser: Kodansha\u001b[0m                             \u001b[36m│\u001b[0m\n",
              "\u001b[36m│\u001b[0m \u001b[1;31mGenre : Fantasy, Harem, Isekai, Reincarnation,\u001b[0m \u001b[36m│\u001b[0m\n",
              "\u001b[36m│\u001b[0m \u001b[1;31mAction, Adventure, Fantasy, Isekai, School, \u001b[0m   \u001b[36m│\u001b[0m\n",
              "\u001b[36m│\u001b[0m \u001b[1;31mComedy, Fantasy, Isekai, Seinen, Adventure, \u001b[0m   \u001b[36m│\u001b[0m\n",
              "\u001b[36m│\u001b[0m \u001b[1;31mComedy, Fantasy, Isekai, Action, Adventure, \u001b[0m   \u001b[36m│\u001b[0m\n",
              "\u001b[36m│\u001b[0m \u001b[1;31mFantasy, Action, Adventure, Fantasy, Action, \u001b[0m  \u001b[36m│\u001b[0m\n",
              "\u001b[36m│\u001b[0m \u001b[1;31mComedy, Ecchi, School, Super Power, Action, \u001b[0m   \u001b[36m│\u001b[0m\n",
              "\u001b[36m│\u001b[0m \u001b[1;31mAdventure, Comedy, Fantasy, Video Game, \u001b[0m       \u001b[36m│\u001b[0m\n",
              "\u001b[36m│\u001b[0m \u001b[1;31mAdventure, Fantasy, Isekai, Reincarnation, \u001b[0m    \u001b[36m│\u001b[0m\n",
              "\u001b[36m│\u001b[0m \u001b[1;31mAction, Adventure, Ecchi, Fantasy, Harem, \u001b[0m     \u001b[36m│\u001b[0m\n",
              "\u001b[36m│\u001b[0m \u001b[1;31mIsekai, Romance, Adventure, Fantasy, Romance, \u001b[0m \u001b[36m│\u001b[0m\n",
              "\u001b[36m│\u001b[0m \u001b[1;31mAction, Adventure, Comedy, Fantasy, Sci-Fi, \u001b[0m   \u001b[36m│\u001b[0m\n",
              "\u001b[36m│\u001b[0m \u001b[1;31mComedy, Ecchi, School, Seinen, Action, \u001b[0m        \u001b[36m│\u001b[0m\n",
              "\u001b[36m│\u001b[0m \u001b[1;31mPsychological, Sci-Fi, Seinen, Adventure, \u001b[0m     \u001b[36m│\u001b[0m\n",
              "\u001b[36m│\u001b[0m \u001b[1;31mFantasy, Harem\u001b[0m                                 \u001b[36m│\u001b[0m\n",
              "\u001b[36m│\u001b[0m \u001b[1;34mSinopsis : Menceritakan seorang pekerja \u001b[0m       \u001b[36m│\u001b[0m\n",
              "\u001b[36m│\u001b[0m \u001b[1;34mkantoran bernama Ryouta Satou yang bekerja di \u001b[0m \u001b[36m│\u001b[0m\n",
              "\u001b[36m│\u001b[0m \u001b[1;34msebuah perusahaan illegal. Suatu hari, Satou \u001b[0m  \u001b[36m│\u001b[0m\n",
              "\u001b[36m│\u001b[0m \u001b[1;34mmengalami reinkarnasi setelah meninggal karena\u001b[0m \u001b[36m│\u001b[0m\n",
              "\u001b[36m│\u001b[0m \u001b[1;34mterlalu banyak bekerja seperti orang Jepang \u001b[0m   \u001b[36m│\u001b[0m\n",
              "\u001b[36m│\u001b[0m \u001b[1;34mpada umumnya.Ketika terbangun, ia menyadari \u001b[0m   \u001b[36m│\u001b[0m\n",
              "\u001b[36m│\u001b[0m \u001b[1;34mbahwa dirinya telah berada di sebuah ruangan \u001b[0m  \u001b[36m│\u001b[0m\n",
              "\u001b[36m│\u001b[0m \u001b[1;34mbawah tanah atau Domain. Di tempat tersebut, \u001b[0m  \u001b[36m│\u001b[0m\n",
              "\u001b[36m│\u001b[0m \u001b[1;34mia bertemu dengan seorang gadis muda bernama \u001b[0m  \u001b[36m│\u001b[0m\n",
              "\u001b[36m│\u001b[0m \u001b[1;34mEmily Brown.Satou yang belum mengetahui \u001b[0m       \u001b[36m│\u001b[0m\n",
              "\u001b[36m│\u001b[0m \u001b[1;34mberbagai hal di dunia baru ini meminta kepada \u001b[0m \u001b[36m│\u001b[0m\n",
              "\u001b[36m│\u001b[0m \u001b[1;34mEmily untuk memperlihatkan statusnya. Siapa \u001b[0m   \u001b[36m│\u001b[0m\n",
              "\u001b[36m│\u001b[0m \u001b[1;34msangka, status Satou sangatlah rendah. Walau \u001b[0m  \u001b[36m│\u001b[0m\n",
              "\u001b[36m│\u001b[0m \u001b[1;34mbegitu, status drop miliknya sangatlah \u001b[0m        \u001b[36m│\u001b[0m\n",
              "\u001b[36m│\u001b[0m \u001b[1;34mtinggi.Mengetahui hal ini, Satou bersama Emily\u001b[0m \u001b[36m│\u001b[0m\n",
              "\u001b[36m│\u001b[0m \u001b[1;34mmemulai petualangannya sendiri. \u001b[0m               \u001b[36m│\u001b[0m\n",
              "\u001b[36m╰────────────────────────────────────────────────╯\u001b[0m\n"
            ]
          },
          "metadata": {},
          "output_type": "display_data"
        },
        {
          "metadata": {
            "tags": null
          },
          "name": "stdout",
          "output_type": "stream",
          "text": [
            "Link: https://otakudesu.cloud/anime/lv1-unique-skill-sub-indo/\n",
            "--------------------\n"
          ]
        },
        {
          "data": {
            "text/html": [
              "<pre style=\"white-space:pre;overflow-x:auto;line-height:normal;font-family:Menlo,'DejaVu Sans Mono',consolas,'Courier New',monospace\"><span style=\"color: #800000; text-decoration-color: #800000; font-weight: bold\">Cari Anime : ⚠(type </span><span style=\"color: #800000; text-decoration-color: #800000; font-weight: bold\">'exit'</span><span style=\"color: #800000; text-decoration-color: #800000; font-weight: bold\"> to exit)</span></pre>\n"
            ],
            "text/plain": [
              "\u001b[1;31mCari Anime : ⚠\u001b[0m\u001b[1;31m(\u001b[0m\u001b[1;31mtype \u001b[0m\u001b[1;31m'exit'\u001b[0m\u001b[1;31m to exit\u001b[0m\u001b[1;31m)\u001b[0m"
            ]
          },
          "metadata": {},
          "output_type": "display_data"
        },
        {
          "metadata": {
            "tags": null
          },
          "name": "stdout",
          "output_type": "stream",
          "text": [
            "\n",
            "\n"
          ]
        },
        {
          "data": {
            "text/html": [
              "<pre style=\"white-space:pre;overflow-x:auto;line-height:normal;font-family:Menlo,'DejaVu Sans Mono',consolas,'Courier New',monospace\">👍 Anime ditemukan!\n",
              "</pre>\n"
            ],
            "text/plain": [
              "👍 Anime ditemukan!\n"
            ]
          },
          "metadata": {},
          "output_type": "display_data"
        },
        {
          "data": {
            "text/html": [
              "<pre style=\"white-space:pre;overflow-x:auto;line-height:normal;font-family:Menlo,'DejaVu Sans Mono',consolas,'Courier New',monospace\"><span style=\"color: #008080; text-decoration-color: #008080\">╭────────────────────────────────────────────────╮</span>\n",
              "<span style=\"color: #008080; text-decoration-color: #008080\">│</span> <span style=\"color: #008000; text-decoration-color: #008000; font-weight: bold\">Judul : Tomodachi Game (Episode 1 – 12) </span>       <span style=\"color: #008080; text-decoration-color: #008080\">│</span>\n",
              "<span style=\"color: #008080; text-decoration-color: #008080\">│</span> <span style=\"color: #008000; text-decoration-color: #008000; font-weight: bold\">Subtitle Indonesia</span>                             <span style=\"color: #008080; text-decoration-color: #008080\">│</span>\n",
              "<span style=\"color: #008080; text-decoration-color: #008080\">│</span> <span style=\"color: #800080; text-decoration-color: #800080; font-weight: bold\">Status : Completed</span>                             <span style=\"color: #008080; text-decoration-color: #008080\">│</span>\n",
              "<span style=\"color: #008080; text-decoration-color: #008080\">│</span> <span style=\"color: #c0c0c0; text-decoration-color: #c0c0c0; font-weight: bold\">Skor: 7.70</span>                                     <span style=\"color: #008080; text-decoration-color: #008080\">│</span>\n",
              "<span style=\"color: #008080; text-decoration-color: #008080\">│</span> <span style=\"color: #808000; text-decoration-color: #808000; font-weight: bold\">Tanggal Rilis: Apr 06, 2022</span>                    <span style=\"color: #008080; text-decoration-color: #008080\">│</span>\n",
              "<span style=\"color: #008080; text-decoration-color: #008080\">│</span> <span style=\"color: #008080; text-decoration-color: #008080; font-weight: bold\">Produser: Studio Mausu, Nippon Television </span>     <span style=\"color: #008080; text-decoration-color: #008080\">│</span>\n",
              "<span style=\"color: #008080; text-decoration-color: #008080\">│</span> <span style=\"color: #008080; text-decoration-color: #008080; font-weight: bold\">Network</span>                                        <span style=\"color: #008080; text-decoration-color: #008080\">│</span>\n",
              "<span style=\"color: #008080; text-decoration-color: #008080\">│</span> <span style=\"color: #800000; text-decoration-color: #800000; font-weight: bold\">Genre : Game, Psychological, Shounen, Fantasy,</span> <span style=\"color: #008080; text-decoration-color: #008080\">│</span>\n",
              "<span style=\"color: #008080; text-decoration-color: #008080\">│</span> <span style=\"color: #800000; text-decoration-color: #800000; font-weight: bold\">Harem, Isekai, Mecha, Romance, School, Drama, </span> <span style=\"color: #008080; text-decoration-color: #008080\">│</span>\n",
              "<span style=\"color: #008080; text-decoration-color: #008080\">│</span> <span style=\"color: #800000; text-decoration-color: #800000; font-weight: bold\">Historical, Military, Comedy, School, Shounen,</span> <span style=\"color: #008080; text-decoration-color: #008080\">│</span>\n",
              "<span style=\"color: #008080; text-decoration-color: #008080\">│</span> <span style=\"color: #800000; text-decoration-color: #800000; font-weight: bold\">Slice of Life, Action, Mystery, Shounen, </span>      <span style=\"color: #008080; text-decoration-color: #008080\">│</span>\n",
              "<span style=\"color: #008080; text-decoration-color: #008080\">│</span> <span style=\"color: #800000; text-decoration-color: #800000; font-weight: bold\">Comedy, Game, Slice of Life, Comedy, Slice of </span> <span style=\"color: #008080; text-decoration-color: #008080\">│</span>\n",
              "<span style=\"color: #008080; text-decoration-color: #008080\">│</span> <span style=\"color: #800000; text-decoration-color: #800000; font-weight: bold\">Life, Comedy, Romance, School, Adventure, </span>     <span style=\"color: #008080; text-decoration-color: #008080\">│</span>\n",
              "<span style=\"color: #008080; text-decoration-color: #008080\">│</span> <span style=\"color: #800000; text-decoration-color: #800000; font-weight: bold\">Comedy, Fantasy, Game, Supernatural, Comedy, </span>  <span style=\"color: #008080; text-decoration-color: #008080\">│</span>\n",
              "<span style=\"color: #008080; text-decoration-color: #008080\">│</span> <span style=\"color: #800000; text-decoration-color: #800000; font-weight: bold\">Ecchi, Fantasy, Game, Supernatural, School, </span>   <span style=\"color: #008080; text-decoration-color: #008080\">│</span>\n",
              "<span style=\"color: #008080; text-decoration-color: #008080\">│</span> <span style=\"color: #800000; text-decoration-color: #800000; font-weight: bold\">Shounen, Sports, Action, Comedy, Fantasy, </span>     <span style=\"color: #008080; text-decoration-color: #008080\">│</span>\n",
              "<span style=\"color: #008080; text-decoration-color: #008080\">│</span> <span style=\"color: #800000; text-decoration-color: #800000; font-weight: bold\">Parody, Sci-Fi, Supernatural, Comedy, Fantasy,</span> <span style=\"color: #008080; text-decoration-color: #008080\">│</span>\n",
              "<span style=\"color: #008080; text-decoration-color: #008080\">│</span> <span style=\"color: #800000; text-decoration-color: #800000; font-weight: bold\">Girls Love, Isekai, School, Shoujo Ai, Action,</span> <span style=\"color: #008080; text-decoration-color: #008080\">│</span>\n",
              "<span style=\"color: #008080; text-decoration-color: #008080\">│</span> <span style=\"color: #800000; text-decoration-color: #800000; font-weight: bold\">Adventure, Comedy, Fantasy, Video Game, </span>       <span style=\"color: #008080; text-decoration-color: #008080\">│</span>\n",
              "<span style=\"color: #008080; text-decoration-color: #008080\">│</span> <span style=\"color: #800000; text-decoration-color: #800000; font-weight: bold\">Fantasy, Isekai, Josei, Reincarnation</span>          <span style=\"color: #008080; text-decoration-color: #008080\">│</span>\n",
              "<span style=\"color: #008080; text-decoration-color: #008080\">│</span> <span style=\"color: #000080; text-decoration-color: #000080; font-weight: bold\">Sinopsis : Yuuichi Katagiri, seorang siswa SMA</span> <span style=\"color: #008080; text-decoration-color: #008080\">│</span>\n",
              "<span style=\"color: #008080; text-decoration-color: #008080\">│</span> <span style=\"color: #000080; text-decoration-color: #000080; font-weight: bold\">yang tengah berjuang menghadapi kesulitan </span>     <span style=\"color: #008080; text-decoration-color: #008080\">│</span>\n",
              "<span style=\"color: #008080; text-decoration-color: #008080\">│</span> <span style=\"color: #000080; text-decoration-color: #000080; font-weight: bold\">keuangan dalam beberapa tahun terakhir. Walau </span> <span style=\"color: #008080; text-decoration-color: #008080\">│</span>\n",
              "<span style=\"color: #008080; text-decoration-color: #008080\">│</span> <span style=\"color: #000080; text-decoration-color: #000080; font-weight: bold\">terlilit masalah finansial, Yuuichi masih </span>     <span style=\"color: #008080; text-decoration-color: #008080\">│</span>\n",
              "<span style=\"color: #008080; text-decoration-color: #008080\">│</span> <span style=\"color: #000080; text-decoration-color: #000080; font-weight: bold\">mampu bertahan berkat teman-teman </span>             <span style=\"color: #008080; text-decoration-color: #008080\">│</span>\n",
              "<span style=\"color: #008080; text-decoration-color: #008080\">│</span> <span style=\"color: #000080; text-decoration-color: #000080; font-weight: bold\">terdekatnya.Suatu hari, Yuuichi berjanji ke </span>   <span style=\"color: #008080; text-decoration-color: #008080\">│</span>\n",
              "<span style=\"color: #008080; text-decoration-color: #008080\">│</span> <span style=\"color: #000080; text-decoration-color: #000080; font-weight: bold\">temannya bahwa ia akan mengikuti </span>              <span style=\"color: #008080; text-decoration-color: #008080\">│</span>\n",
              "<span style=\"color: #008080; text-decoration-color: #008080\">│</span> <span style=\"color: #000080; text-decoration-color: #000080; font-weight: bold\">teman-temannya di perjalanan Sekolah. Untuk </span>   <span style=\"color: #008080; text-decoration-color: #008080\">│</span>\n",
              "<span style=\"color: #008080; text-decoration-color: #008080\">│</span> <span style=\"color: #000080; text-decoration-color: #000080; font-weight: bold\">itu, Yuuichi bekerja keras guna mencari uang. </span> <span style=\"color: #008080; text-decoration-color: #008080\">│</span>\n",
              "<span style=\"color: #008080; text-decoration-color: #008080\">│</span> <span style=\"color: #000080; text-decoration-color: #000080; font-weight: bold\">Namun, kejadian tak terduga terjadi di </span>        <span style=\"color: #008080; text-decoration-color: #008080\">│</span>\n",
              "<span style=\"color: #008080; text-decoration-color: #008080\">│</span> <span style=\"color: #000080; text-decoration-color: #000080; font-weight: bold\">kelasnya. Uang untuk Perjalanan Sekolah </span>       <span style=\"color: #008080; text-decoration-color: #008080\">│</span>\n",
              "<span style=\"color: #008080; text-decoration-color: #008080\">│</span> <span style=\"color: #000080; text-decoration-color: #000080; font-weight: bold\">senilai 2 Juta Yen hilang. Dua temannya, Shiho</span> <span style=\"color: #008080; text-decoration-color: #008080\">│</span>\n",
              "<span style=\"color: #008080; text-decoration-color: #008080\">│</span> <span style=\"color: #000080; text-decoration-color: #000080; font-weight: bold\">dan Makoto memilih bertanggung jawab atas </span>     <span style=\"color: #008080; text-decoration-color: #008080\">│</span>\n",
              "<span style=\"color: #008080; text-decoration-color: #008080\">│</span> <span style=\"color: #000080; text-decoration-color: #000080; font-weight: bold\">kejadian tersebut.Setelah kejadian tersebut, </span>  <span style=\"color: #008080; text-decoration-color: #008080\">│</span>\n",
              "<span style=\"color: #008080; text-decoration-color: #008080\">│</span> <span style=\"color: #000080; text-decoration-color: #000080; font-weight: bold\">seluruh rekan Yuuichi dan termasuk dirinya </span>    <span style=\"color: #008080; text-decoration-color: #008080\">│</span>\n",
              "<span style=\"color: #008080; text-decoration-color: #008080\">│</span> <span style=\"color: #000080; text-decoration-color: #000080; font-weight: bold\">sendiri mendapatkan surat misterius yang </span>      <span style=\"color: #008080; text-decoration-color: #008080\">│</span>\n",
              "<span style=\"color: #008080; text-decoration-color: #008080\">│</span> <span style=\"color: #000080; text-decoration-color: #000080; font-weight: bold\">meminta mereka semua berkumpul. Ketika bertemu</span> <span style=\"color: #008080; text-decoration-color: #008080\">│</span>\n",
              "<span style=\"color: #008080; text-decoration-color: #008080\">│</span> <span style=\"color: #000080; text-decoration-color: #000080; font-weight: bold\">satu sama lain, tanpa di duga mereka berada di</span> <span style=\"color: #008080; text-decoration-color: #008080\">│</span>\n",
              "<span style=\"color: #008080; text-decoration-color: #008080\">│</span> <span style=\"color: #000080; text-decoration-color: #000080; font-weight: bold\">sebuah ruangan. Sekarang, apa yang terjadi </span>    <span style=\"color: #008080; text-decoration-color: #008080\">│</span>\n",
              "<span style=\"color: #008080; text-decoration-color: #008080\">│</span> <span style=\"color: #000080; text-decoration-color: #000080; font-weight: bold\">kepada mereka semua? </span>                          <span style=\"color: #008080; text-decoration-color: #008080\">│</span>\n",
              "<span style=\"color: #008080; text-decoration-color: #008080\">╰────────────────────────────────────────────────╯</span>\n",
              "</pre>\n"
            ],
            "text/plain": [
              "\u001b[36m╭────────────────────────────────────────────────╮\u001b[0m\n",
              "\u001b[36m│\u001b[0m \u001b[1;32mJudul : Tomodachi Game (Episode 1 – 12) \u001b[0m       \u001b[36m│\u001b[0m\n",
              "\u001b[36m│\u001b[0m \u001b[1;32mSubtitle Indonesia\u001b[0m                             \u001b[36m│\u001b[0m\n",
              "\u001b[36m│\u001b[0m \u001b[1;35mStatus : Completed\u001b[0m                             \u001b[36m│\u001b[0m\n",
              "\u001b[36m│\u001b[0m \u001b[1;37mSkor: 7.70\u001b[0m                                     \u001b[36m│\u001b[0m\n",
              "\u001b[36m│\u001b[0m \u001b[1;33mTanggal Rilis: Apr 06, 2022\u001b[0m                    \u001b[36m│\u001b[0m\n",
              "\u001b[36m│\u001b[0m \u001b[1;36mProduser: Studio Mausu, Nippon Television \u001b[0m     \u001b[36m│\u001b[0m\n",
              "\u001b[36m│\u001b[0m \u001b[1;36mNetwork\u001b[0m                                        \u001b[36m│\u001b[0m\n",
              "\u001b[36m│\u001b[0m \u001b[1;31mGenre : Game, Psychological, Shounen, Fantasy,\u001b[0m \u001b[36m│\u001b[0m\n",
              "\u001b[36m│\u001b[0m \u001b[1;31mHarem, Isekai, Mecha, Romance, School, Drama, \u001b[0m \u001b[36m│\u001b[0m\n",
              "\u001b[36m│\u001b[0m \u001b[1;31mHistorical, Military, Comedy, School, Shounen,\u001b[0m \u001b[36m│\u001b[0m\n",
              "\u001b[36m│\u001b[0m \u001b[1;31mSlice of Life, Action, Mystery, Shounen, \u001b[0m      \u001b[36m│\u001b[0m\n",
              "\u001b[36m│\u001b[0m \u001b[1;31mComedy, Game, Slice of Life, Comedy, Slice of \u001b[0m \u001b[36m│\u001b[0m\n",
              "\u001b[36m│\u001b[0m \u001b[1;31mLife, Comedy, Romance, School, Adventure, \u001b[0m     \u001b[36m│\u001b[0m\n",
              "\u001b[36m│\u001b[0m \u001b[1;31mComedy, Fantasy, Game, Supernatural, Comedy, \u001b[0m  \u001b[36m│\u001b[0m\n",
              "\u001b[36m│\u001b[0m \u001b[1;31mEcchi, Fantasy, Game, Supernatural, School, \u001b[0m   \u001b[36m│\u001b[0m\n",
              "\u001b[36m│\u001b[0m \u001b[1;31mShounen, Sports, Action, Comedy, Fantasy, \u001b[0m     \u001b[36m│\u001b[0m\n",
              "\u001b[36m│\u001b[0m \u001b[1;31mParody, Sci-Fi, Supernatural, Comedy, Fantasy,\u001b[0m \u001b[36m│\u001b[0m\n",
              "\u001b[36m│\u001b[0m \u001b[1;31mGirls Love, Isekai, School, Shoujo Ai, Action,\u001b[0m \u001b[36m│\u001b[0m\n",
              "\u001b[36m│\u001b[0m \u001b[1;31mAdventure, Comedy, Fantasy, Video Game, \u001b[0m       \u001b[36m│\u001b[0m\n",
              "\u001b[36m│\u001b[0m \u001b[1;31mFantasy, Isekai, Josei, Reincarnation\u001b[0m          \u001b[36m│\u001b[0m\n",
              "\u001b[36m│\u001b[0m \u001b[1;34mSinopsis : Yuuichi Katagiri, seorang siswa SMA\u001b[0m \u001b[36m│\u001b[0m\n",
              "\u001b[36m│\u001b[0m \u001b[1;34myang tengah berjuang menghadapi kesulitan \u001b[0m     \u001b[36m│\u001b[0m\n",
              "\u001b[36m│\u001b[0m \u001b[1;34mkeuangan dalam beberapa tahun terakhir. Walau \u001b[0m \u001b[36m│\u001b[0m\n",
              "\u001b[36m│\u001b[0m \u001b[1;34mterlilit masalah finansial, Yuuichi masih \u001b[0m     \u001b[36m│\u001b[0m\n",
              "\u001b[36m│\u001b[0m \u001b[1;34mmampu bertahan berkat teman-teman \u001b[0m             \u001b[36m│\u001b[0m\n",
              "\u001b[36m│\u001b[0m \u001b[1;34mterdekatnya.Suatu hari, Yuuichi berjanji ke \u001b[0m   \u001b[36m│\u001b[0m\n",
              "\u001b[36m│\u001b[0m \u001b[1;34mtemannya bahwa ia akan mengikuti \u001b[0m              \u001b[36m│\u001b[0m\n",
              "\u001b[36m│\u001b[0m \u001b[1;34mteman-temannya di perjalanan Sekolah. Untuk \u001b[0m   \u001b[36m│\u001b[0m\n",
              "\u001b[36m│\u001b[0m \u001b[1;34mitu, Yuuichi bekerja keras guna mencari uang. \u001b[0m \u001b[36m│\u001b[0m\n",
              "\u001b[36m│\u001b[0m \u001b[1;34mNamun, kejadian tak terduga terjadi di \u001b[0m        \u001b[36m│\u001b[0m\n",
              "\u001b[36m│\u001b[0m \u001b[1;34mkelasnya. Uang untuk Perjalanan Sekolah \u001b[0m       \u001b[36m│\u001b[0m\n",
              "\u001b[36m│\u001b[0m \u001b[1;34msenilai 2 Juta Yen hilang. Dua temannya, Shiho\u001b[0m \u001b[36m│\u001b[0m\n",
              "\u001b[36m│\u001b[0m \u001b[1;34mdan Makoto memilih bertanggung jawab atas \u001b[0m     \u001b[36m│\u001b[0m\n",
              "\u001b[36m│\u001b[0m \u001b[1;34mkejadian tersebut.Setelah kejadian tersebut, \u001b[0m  \u001b[36m│\u001b[0m\n",
              "\u001b[36m│\u001b[0m \u001b[1;34mseluruh rekan Yuuichi dan termasuk dirinya \u001b[0m    \u001b[36m│\u001b[0m\n",
              "\u001b[36m│\u001b[0m \u001b[1;34msendiri mendapatkan surat misterius yang \u001b[0m      \u001b[36m│\u001b[0m\n",
              "\u001b[36m│\u001b[0m \u001b[1;34mmeminta mereka semua berkumpul. Ketika bertemu\u001b[0m \u001b[36m│\u001b[0m\n",
              "\u001b[36m│\u001b[0m \u001b[1;34msatu sama lain, tanpa di duga mereka berada di\u001b[0m \u001b[36m│\u001b[0m\n",
              "\u001b[36m│\u001b[0m \u001b[1;34msebuah ruangan. Sekarang, apa yang terjadi \u001b[0m    \u001b[36m│\u001b[0m\n",
              "\u001b[36m│\u001b[0m \u001b[1;34mkepada mereka semua? \u001b[0m                          \u001b[36m│\u001b[0m\n",
              "\u001b[36m╰────────────────────────────────────────────────╯\u001b[0m\n"
            ]
          },
          "metadata": {},
          "output_type": "display_data"
        },
        {
          "metadata": {
            "tags": null
          },
          "name": "stdout",
          "output_type": "stream",
          "text": [
            "Link: https://otakudesu.cloud/anime/tomo-game-sub-indo/\n",
            "--------------------\n"
          ]
        },
        {
          "data": {
            "text/html": [
              "<pre style=\"white-space:pre;overflow-x:auto;line-height:normal;font-family:Menlo,'DejaVu Sans Mono',consolas,'Courier New',monospace\"><span style=\"color: #800000; text-decoration-color: #800000; font-weight: bold\">Cari Anime : ⚠(type </span><span style=\"color: #800000; text-decoration-color: #800000; font-weight: bold\">'exit'</span><span style=\"color: #800000; text-decoration-color: #800000; font-weight: bold\"> to exit)</span></pre>\n"
            ],
            "text/plain": [
              "\u001b[1;31mCari Anime : ⚠\u001b[0m\u001b[1;31m(\u001b[0m\u001b[1;31mtype \u001b[0m\u001b[1;31m'exit'\u001b[0m\u001b[1;31m to exit\u001b[0m\u001b[1;31m)\u001b[0m"
            ]
          },
          "metadata": {},
          "output_type": "display_data"
        },
        {
          "metadata": {
            "tags": null
          },
          "name": "stdout",
          "output_type": "stream",
          "text": [
            "\n",
            "\n"
          ]
        },
        {
          "data": {
            "text/html": [
              "<pre style=\"white-space:pre;overflow-x:auto;line-height:normal;font-family:Menlo,'DejaVu Sans Mono',consolas,'Courier New',monospace\">👍 Anime ditemukan!\n",
              "</pre>\n"
            ],
            "text/plain": [
              "👍 Anime ditemukan!\n"
            ]
          },
          "metadata": {},
          "output_type": "display_data"
        },
        {
          "data": {
            "text/html": [
              "<pre style=\"white-space:pre;overflow-x:auto;line-height:normal;font-family:Menlo,'DejaVu Sans Mono',consolas,'Courier New',monospace\"><span style=\"color: #008080; text-decoration-color: #008080\">╭────────────────────────────────────────────────╮</span>\n",
              "<span style=\"color: #008080; text-decoration-color: #008080\">│</span> <span style=\"color: #008000; text-decoration-color: #008000; font-weight: bold\">Judul : Tokyo Ghoul:re (Episode 1 – 12) </span>       <span style=\"color: #008080; text-decoration-color: #008080\">│</span>\n",
              "<span style=\"color: #008080; text-decoration-color: #008080\">│</span> <span style=\"color: #008000; text-decoration-color: #008000; font-weight: bold\">Subtitle Indonesia</span>                             <span style=\"color: #008080; text-decoration-color: #008080\">│</span>\n",
              "<span style=\"color: #008080; text-decoration-color: #008080\">│</span> <span style=\"color: #800080; text-decoration-color: #800080; font-weight: bold\">Status : Completed</span>                             <span style=\"color: #008080; text-decoration-color: #008080\">│</span>\n",
              "<span style=\"color: #008080; text-decoration-color: #008080\">│</span> <span style=\"color: #c0c0c0; text-decoration-color: #c0c0c0; font-weight: bold\">Skor: 8.65</span>                                     <span style=\"color: #008080; text-decoration-color: #008080\">│</span>\n",
              "<span style=\"color: #008080; text-decoration-color: #008080\">│</span> <span style=\"color: #808000; text-decoration-color: #808000; font-weight: bold\">Tanggal Rilis: Apr 3, 2018 sampai Jun 19, 2018</span> <span style=\"color: #008080; text-decoration-color: #008080\">│</span>\n",
              "<span style=\"color: #008080; text-decoration-color: #008080\">│</span> <span style=\"color: #008080; text-decoration-color: #008080; font-weight: bold\">Produser: Pierrot Plus, Shueisha</span>               <span style=\"color: #008080; text-decoration-color: #008080\">│</span>\n",
              "<span style=\"color: #008080; text-decoration-color: #008080\">│</span> <span style=\"color: #800000; text-decoration-color: #800000; font-weight: bold\">Genre : Action, Drama, Horror, Mystery, </span>       <span style=\"color: #008080; text-decoration-color: #008080\">│</span>\n",
              "<span style=\"color: #008080; text-decoration-color: #008080\">│</span> <span style=\"color: #800000; text-decoration-color: #800000; font-weight: bold\">Psychological, Seinen, Supernatural, Action, </span>  <span style=\"color: #008080; text-decoration-color: #008080\">│</span>\n",
              "<span style=\"color: #008080; text-decoration-color: #008080\">│</span> <span style=\"color: #800000; text-decoration-color: #800000; font-weight: bold\">Drama, Horror, Mystery, Psychological, Seinen,</span> <span style=\"color: #008080; text-decoration-color: #008080\">│</span>\n",
              "<span style=\"color: #008080; text-decoration-color: #008080\">│</span> <span style=\"color: #800000; text-decoration-color: #800000; font-weight: bold\">Supernatural, Action, Drama, Horror, Mystery, </span> <span style=\"color: #008080; text-decoration-color: #008080\">│</span>\n",
              "<span style=\"color: #008080; text-decoration-color: #008080\">│</span> <span style=\"color: #800000; text-decoration-color: #800000; font-weight: bold\">Psychological, Seinen, Supernatural, ction, </span>   <span style=\"color: #008080; text-decoration-color: #008080\">│</span>\n",
              "<span style=\"color: #008080; text-decoration-color: #008080\">│</span> <span style=\"color: #800000; text-decoration-color: #800000; font-weight: bold\">Drama, Horror, Mystery, Psychological, Seinen,</span> <span style=\"color: #008080; text-decoration-color: #008080\">│</span>\n",
              "<span style=\"color: #008080; text-decoration-color: #008080\">│</span> <span style=\"color: #800000; text-decoration-color: #800000; font-weight: bold\">Supernatural</span>                                   <span style=\"color: #008080; text-decoration-color: #008080\">│</span>\n",
              "<span style=\"color: #008080; text-decoration-color: #008080\">│</span> <span style=\"color: #000080; text-decoration-color: #000080; font-weight: bold\">Sinopsis : Tokyo Ghoul;re merupakan Season </span>    <span style=\"color: #008080; text-decoration-color: #008080\">│</span>\n",
              "<span style=\"color: #008080; text-decoration-color: #008080\">│</span> <span style=\"color: #000080; text-decoration-color: #000080; font-weight: bold\">ke-3 dari anime Tokyo Ghoul.2 tahun telah </span>     <span style=\"color: #008080; text-decoration-color: #008080\">│</span>\n",
              "<span style=\"color: #008080; text-decoration-color: #008080\">│</span> <span style=\"color: #000080; text-decoration-color: #000080; font-weight: bold\">berlalu sejak peperangan antara CCG dengan </span>    <span style=\"color: #008080; text-decoration-color: #008080\">│</span>\n",
              "<span style=\"color: #008080; text-decoration-color: #008080\">│</span> <span style=\"color: #000080; text-decoration-color: #000080; font-weight: bold\">Anteiku. kini keadaan mulai kembali normal </span>    <span style=\"color: #008080; text-decoration-color: #008080\">│</span>\n",
              "<span style=\"color: #008080; text-decoration-color: #008080\">│</span> <span style=\"color: #000080; text-decoration-color: #000080; font-weight: bold\">karena pengaruh CCG, beberapa ghoul tetap </span>     <span style=\"color: #008080; text-decoration-color: #008080\">│</span>\n",
              "<span style=\"color: #008080; text-decoration-color: #008080\">│</span> <span style=\"color: #000080; text-decoration-color: #000080; font-weight: bold\">berbuat onar harus tetap diwaspadai, terutama </span> <span style=\"color: #008080; text-decoration-color: #008080\">│</span>\n",
              "<span style=\"color: #008080; text-decoration-color: #008080\">│</span> <span style=\"color: #000080; text-decoration-color: #000080; font-weight: bold\">organisasi teroris yang bernama Aogiri Tree, </span>  <span style=\"color: #008080; text-decoration-color: #008080\">│</span>\n",
              "<span style=\"color: #008080; text-decoration-color: #008080\">│</span> <span style=\"color: #000080; text-decoration-color: #000080; font-weight: bold\">yang menyebut bahwa ancaman CCG serta </span>         <span style=\"color: #008080; text-decoration-color: #008080\">│</span>\n",
              "<span style=\"color: #008080; text-decoration-color: #008080\">│</span> <span style=\"color: #000080; text-decoration-color: #000080; font-weight: bold\">keberadaan mereka menjadi ancaman terbesarKini</span> <span style=\"color: #008080; text-decoration-color: #008080\">│</span>\n",
              "<span style=\"color: #008080; text-decoration-color: #008080\">│</span> <span style=\"color: #000080; text-decoration-color: #000080; font-weight: bold\">CCG mulai membentuk tim bernama Quinx, yaitu </span>  <span style=\"color: #008080; text-decoration-color: #008080\">│</span>\n",
              "<span style=\"color: #008080; text-decoration-color: #008080\">│</span> <span style=\"color: #000080; text-decoration-color: #000080; font-weight: bold\">tim yang berisi para manusia berkekuatan Ghoul</span> <span style=\"color: #008080; text-decoration-color: #008080\">│</span>\n",
              "<span style=\"color: #008080; text-decoration-color: #008080\">│</span> <span style=\"color: #000080; text-decoration-color: #000080; font-weight: bold\">yang dibertujuan untuk mengamankan kota dan </span>   <span style=\"color: #008080; text-decoration-color: #008080\">│</span>\n",
              "<span style=\"color: #008080; text-decoration-color: #008080\">│</span> <span style=\"color: #000080; text-decoration-color: #000080; font-weight: bold\">memberantas ghoul-ghoul yang </span>                  <span style=\"color: #008080; text-decoration-color: #008080\">│</span>\n",
              "<span style=\"color: #008080; text-decoration-color: #008080\">│</span> <span style=\"color: #000080; text-decoration-color: #000080; font-weight: bold\">berbahaya.Pemimpin dari Quinx adalah Sasaki </span>   <span style=\"color: #008080; text-decoration-color: #008080\">│</span>\n",
              "<span style=\"color: #008080; text-decoration-color: #008080\">│</span> <span style=\"color: #000080; text-decoration-color: #000080; font-weight: bold\">Haise, ia merupakan seseorang manusia setengah</span> <span style=\"color: #008080; text-decoration-color: #008080\">│</span>\n",
              "<span style=\"color: #008080; text-decoration-color: #008080\">│</span> <span style=\"color: #000080; text-decoration-color: #000080; font-weight: bold\">ghoul, ia berada di bawah pengawasan khusus </span>   <span style=\"color: #008080; text-decoration-color: #008080\">│</span>\n",
              "<span style=\"color: #008080; text-decoration-color: #008080\">│</span> <span style=\"color: #000080; text-decoration-color: #000080; font-weight: bold\">sang penyidik spesial Arima Kishou.Dari </span>       <span style=\"color: #008080; text-decoration-color: #008080\">│</span>\n",
              "<span style=\"color: #008080; text-decoration-color: #008080\">│</span> <span style=\"color: #000080; text-decoration-color: #000080; font-weight: bold\">sinilah Sasaki mulai disibukkan dengan urusan </span> <span style=\"color: #008080; text-decoration-color: #008080\">│</span>\n",
              "<span style=\"color: #008080; text-decoration-color: #008080\">│</span> <span style=\"color: #000080; text-decoration-color: #000080; font-weight: bold\">para ghoul serta posisinya sebagai pemimpin </span>   <span style=\"color: #008080; text-decoration-color: #008080\">│</span>\n",
              "<span style=\"color: #008080; text-decoration-color: #008080\">│</span> <span style=\"color: #000080; text-decoration-color: #000080; font-weight: bold\">dari Quinx, dan perasaan anehnya tentang masa </span> <span style=\"color: #008080; text-decoration-color: #008080\">│</span>\n",
              "<span style=\"color: #008080; text-decoration-color: #008080\">│</span> <span style=\"color: #000080; text-decoration-color: #000080; font-weight: bold\">lalu yang sekarang mulai muncul menghantui </span>    <span style=\"color: #008080; text-decoration-color: #008080\">│</span>\n",
              "<span style=\"color: #008080; text-decoration-color: #008080\">│</span> <span style=\"color: #000080; text-decoration-color: #000080; font-weight: bold\">dirinya.Tonton juga kelanjutannya:– Tokyo </span>     <span style=\"color: #008080; text-decoration-color: #008080\">│</span>\n",
              "<span style=\"color: #008080; text-decoration-color: #008080\">│</span> <span style=\"color: #000080; text-decoration-color: #000080; font-weight: bold\">Ghoul– Tokyo Ghoul Season 2– Tokyo Ghoul:re– </span>  <span style=\"color: #008080; text-decoration-color: #008080\">│</span>\n",
              "<span style=\"color: #008080; text-decoration-color: #008080\">│</span> <span style=\"color: #000080; text-decoration-color: #000080; font-weight: bold\">Tokyo Ghoul:re Season 2 </span>                       <span style=\"color: #008080; text-decoration-color: #008080\">│</span>\n",
              "<span style=\"color: #008080; text-decoration-color: #008080\">╰────────────────────────────────────────────────╯</span>\n",
              "</pre>\n"
            ],
            "text/plain": [
              "\u001b[36m╭────────────────────────────────────────────────╮\u001b[0m\n",
              "\u001b[36m│\u001b[0m \u001b[1;32mJudul : Tokyo Ghoul:re (Episode 1 – 12) \u001b[0m       \u001b[36m│\u001b[0m\n",
              "\u001b[36m│\u001b[0m \u001b[1;32mSubtitle Indonesia\u001b[0m                             \u001b[36m│\u001b[0m\n",
              "\u001b[36m│\u001b[0m \u001b[1;35mStatus : Completed\u001b[0m                             \u001b[36m│\u001b[0m\n",
              "\u001b[36m│\u001b[0m \u001b[1;37mSkor: 8.65\u001b[0m                                     \u001b[36m│\u001b[0m\n",
              "\u001b[36m│\u001b[0m \u001b[1;33mTanggal Rilis: Apr 3, 2018 sampai Jun 19, 2018\u001b[0m \u001b[36m│\u001b[0m\n",
              "\u001b[36m│\u001b[0m \u001b[1;36mProduser: Pierrot Plus, Shueisha\u001b[0m               \u001b[36m│\u001b[0m\n",
              "\u001b[36m│\u001b[0m \u001b[1;31mGenre : Action, Drama, Horror, Mystery, \u001b[0m       \u001b[36m│\u001b[0m\n",
              "\u001b[36m│\u001b[0m \u001b[1;31mPsychological, Seinen, Supernatural, Action, \u001b[0m  \u001b[36m│\u001b[0m\n",
              "\u001b[36m│\u001b[0m \u001b[1;31mDrama, Horror, Mystery, Psychological, Seinen,\u001b[0m \u001b[36m│\u001b[0m\n",
              "\u001b[36m│\u001b[0m \u001b[1;31mSupernatural, Action, Drama, Horror, Mystery, \u001b[0m \u001b[36m│\u001b[0m\n",
              "\u001b[36m│\u001b[0m \u001b[1;31mPsychological, Seinen, Supernatural, ction, \u001b[0m   \u001b[36m│\u001b[0m\n",
              "\u001b[36m│\u001b[0m \u001b[1;31mDrama, Horror, Mystery, Psychological, Seinen,\u001b[0m \u001b[36m│\u001b[0m\n",
              "\u001b[36m│\u001b[0m \u001b[1;31mSupernatural\u001b[0m                                   \u001b[36m│\u001b[0m\n",
              "\u001b[36m│\u001b[0m \u001b[1;34mSinopsis : Tokyo Ghoul;re merupakan Season \u001b[0m    \u001b[36m│\u001b[0m\n",
              "\u001b[36m│\u001b[0m \u001b[1;34mke-3 dari anime Tokyo Ghoul.2 tahun telah \u001b[0m     \u001b[36m│\u001b[0m\n",
              "\u001b[36m│\u001b[0m \u001b[1;34mberlalu sejak peperangan antara CCG dengan \u001b[0m    \u001b[36m│\u001b[0m\n",
              "\u001b[36m│\u001b[0m \u001b[1;34mAnteiku. kini keadaan mulai kembali normal \u001b[0m    \u001b[36m│\u001b[0m\n",
              "\u001b[36m│\u001b[0m \u001b[1;34mkarena pengaruh CCG, beberapa ghoul tetap \u001b[0m     \u001b[36m│\u001b[0m\n",
              "\u001b[36m│\u001b[0m \u001b[1;34mberbuat onar harus tetap diwaspadai, terutama \u001b[0m \u001b[36m│\u001b[0m\n",
              "\u001b[36m│\u001b[0m \u001b[1;34morganisasi teroris yang bernama Aogiri Tree, \u001b[0m  \u001b[36m│\u001b[0m\n",
              "\u001b[36m│\u001b[0m \u001b[1;34myang menyebut bahwa ancaman CCG serta \u001b[0m         \u001b[36m│\u001b[0m\n",
              "\u001b[36m│\u001b[0m \u001b[1;34mkeberadaan mereka menjadi ancaman terbesarKini\u001b[0m \u001b[36m│\u001b[0m\n",
              "\u001b[36m│\u001b[0m \u001b[1;34mCCG mulai membentuk tim bernama Quinx, yaitu \u001b[0m  \u001b[36m│\u001b[0m\n",
              "\u001b[36m│\u001b[0m \u001b[1;34mtim yang berisi para manusia berkekuatan Ghoul\u001b[0m \u001b[36m│\u001b[0m\n",
              "\u001b[36m│\u001b[0m \u001b[1;34myang dibertujuan untuk mengamankan kota dan \u001b[0m   \u001b[36m│\u001b[0m\n",
              "\u001b[36m│\u001b[0m \u001b[1;34mmemberantas ghoul-ghoul yang \u001b[0m                  \u001b[36m│\u001b[0m\n",
              "\u001b[36m│\u001b[0m \u001b[1;34mberbahaya.Pemimpin dari Quinx adalah Sasaki \u001b[0m   \u001b[36m│\u001b[0m\n",
              "\u001b[36m│\u001b[0m \u001b[1;34mHaise, ia merupakan seseorang manusia setengah\u001b[0m \u001b[36m│\u001b[0m\n",
              "\u001b[36m│\u001b[0m \u001b[1;34mghoul, ia berada di bawah pengawasan khusus \u001b[0m   \u001b[36m│\u001b[0m\n",
              "\u001b[36m│\u001b[0m \u001b[1;34msang penyidik spesial Arima Kishou.Dari \u001b[0m       \u001b[36m│\u001b[0m\n",
              "\u001b[36m│\u001b[0m \u001b[1;34msinilah Sasaki mulai disibukkan dengan urusan \u001b[0m \u001b[36m│\u001b[0m\n",
              "\u001b[36m│\u001b[0m \u001b[1;34mpara ghoul serta posisinya sebagai pemimpin \u001b[0m   \u001b[36m│\u001b[0m\n",
              "\u001b[36m│\u001b[0m \u001b[1;34mdari Quinx, dan perasaan anehnya tentang masa \u001b[0m \u001b[36m│\u001b[0m\n",
              "\u001b[36m│\u001b[0m \u001b[1;34mlalu yang sekarang mulai muncul menghantui \u001b[0m    \u001b[36m│\u001b[0m\n",
              "\u001b[36m│\u001b[0m \u001b[1;34mdirinya.Tonton juga kelanjutannya:– Tokyo \u001b[0m     \u001b[36m│\u001b[0m\n",
              "\u001b[36m│\u001b[0m \u001b[1;34mGhoul– Tokyo Ghoul Season 2– Tokyo Ghoul:re– \u001b[0m  \u001b[36m│\u001b[0m\n",
              "\u001b[36m│\u001b[0m \u001b[1;34mTokyo Ghoul:re Season 2 \u001b[0m                       \u001b[36m│\u001b[0m\n",
              "\u001b[36m╰────────────────────────────────────────────────╯\u001b[0m\n"
            ]
          },
          "metadata": {},
          "output_type": "display_data"
        },
        {
          "metadata": {
            "tags": null
          },
          "name": "stdout",
          "output_type": "stream",
          "text": [
            "Link: https://otakudesu.cloud/anime/toky-ghoul-re-subtitle-indonesia/\n",
            "--------------------\n"
          ]
        },
        {
          "data": {
            "text/html": [
              "<pre style=\"white-space:pre;overflow-x:auto;line-height:normal;font-family:Menlo,'DejaVu Sans Mono',consolas,'Courier New',monospace\"><span style=\"color: #800000; text-decoration-color: #800000; font-weight: bold\">Cari Anime : ⚠(type </span><span style=\"color: #800000; text-decoration-color: #800000; font-weight: bold\">'exit'</span><span style=\"color: #800000; text-decoration-color: #800000; font-weight: bold\"> to exit)</span></pre>\n"
            ],
            "text/plain": [
              "\u001b[1;31mCari Anime : ⚠\u001b[0m\u001b[1;31m(\u001b[0m\u001b[1;31mtype \u001b[0m\u001b[1;31m'exit'\u001b[0m\u001b[1;31m to exit\u001b[0m\u001b[1;31m)\u001b[0m"
            ]
          },
          "metadata": {},
          "output_type": "display_data"
        },
        {
          "metadata": {
            "tags": null
          },
          "name": "stdout",
          "output_type": "stream",
          "text": [
            "\n",
            "\n"
          ]
        },
        {
          "data": {
            "text/html": [
              "<pre style=\"white-space:pre;overflow-x:auto;line-height:normal;font-family:Menlo,'DejaVu Sans Mono',consolas,'Courier New',monospace\">👍 Anime ditemukan!\n",
              "</pre>\n"
            ],
            "text/plain": [
              "👍 Anime ditemukan!\n"
            ]
          },
          "metadata": {},
          "output_type": "display_data"
        },
        {
          "data": {
            "text/html": [
              "<pre style=\"white-space:pre;overflow-x:auto;line-height:normal;font-family:Menlo,'DejaVu Sans Mono',consolas,'Courier New',monospace\"><span style=\"color: #008080; text-decoration-color: #008080\">╭────────────────────────────────────────────────╮</span>\n",
              "<span style=\"color: #008080; text-decoration-color: #008080\">│</span> <span style=\"color: #008000; text-decoration-color: #008000; font-weight: bold\">Judul : Tokyo Revengers: Tenjiku-hen Subtitle </span> <span style=\"color: #008080; text-decoration-color: #008080\">│</span>\n",
              "<span style=\"color: #008080; text-decoration-color: #008080\">│</span> <span style=\"color: #008000; text-decoration-color: #008000; font-weight: bold\">Indonesia</span>                                      <span style=\"color: #008080; text-decoration-color: #008080\">│</span>\n",
              "<span style=\"color: #008080; text-decoration-color: #008080\">│</span> <span style=\"color: #800080; text-decoration-color: #800080; font-weight: bold\">Status : Ongoing</span>                               <span style=\"color: #008080; text-decoration-color: #008080\">│</span>\n",
              "<span style=\"color: #008080; text-decoration-color: #008080\">│</span> <span style=\"color: #c0c0c0; text-decoration-color: #c0c0c0; font-weight: bold\">Skor: 7.02</span>                                     <span style=\"color: #008080; text-decoration-color: #008080\">│</span>\n",
              "<span style=\"color: #008080; text-decoration-color: #008080\">│</span> <span style=\"color: #808000; text-decoration-color: #808000; font-weight: bold\">Tanggal Rilis: Okt 04, 2023</span>                    <span style=\"color: #008080; text-decoration-color: #008080\">│</span>\n",
              "<span style=\"color: #008080; text-decoration-color: #008080\">│</span> <span style=\"color: #008080; text-decoration-color: #008080; font-weight: bold\">Produser:</span>                                      <span style=\"color: #008080; text-decoration-color: #008080\">│</span>\n",
              "<span style=\"color: #008080; text-decoration-color: #008080\">│</span> <span style=\"color: #800000; text-decoration-color: #800000; font-weight: bold\">Genre : Action, Drama, Shounen, Supernatural, </span> <span style=\"color: #008080; text-decoration-color: #008080\">│</span>\n",
              "<span style=\"color: #008080; text-decoration-color: #008080\">│</span> <span style=\"color: #800000; text-decoration-color: #800000; font-weight: bold\">Action, Drama, Shounen, Supernatural, Time </span>    <span style=\"color: #008080; text-decoration-color: #008080\">│</span>\n",
              "<span style=\"color: #008080; text-decoration-color: #008080\">│</span> <span style=\"color: #800000; text-decoration-color: #800000; font-weight: bold\">Travel, Action, Drama, School, Shounen</span>         <span style=\"color: #008080; text-decoration-color: #008080\">│</span>\n",
              "<span style=\"color: #008080; text-decoration-color: #008080\">│</span> <span style=\"color: #000080; text-decoration-color: #000080; font-weight: bold\">Sinopsis : Sinopsis tidak tersedia!(Null) </span>     <span style=\"color: #008080; text-decoration-color: #008080\">│</span>\n",
              "<span style=\"color: #008080; text-decoration-color: #008080\">╰────────────────────────────────────────────────╯</span>\n",
              "</pre>\n"
            ],
            "text/plain": [
              "\u001b[36m╭────────────────────────────────────────────────╮\u001b[0m\n",
              "\u001b[36m│\u001b[0m \u001b[1;32mJudul : Tokyo Revengers: Tenjiku-hen Subtitle \u001b[0m \u001b[36m│\u001b[0m\n",
              "\u001b[36m│\u001b[0m \u001b[1;32mIndonesia\u001b[0m                                      \u001b[36m│\u001b[0m\n",
              "\u001b[36m│\u001b[0m \u001b[1;35mStatus : Ongoing\u001b[0m                               \u001b[36m│\u001b[0m\n",
              "\u001b[36m│\u001b[0m \u001b[1;37mSkor: 7.02\u001b[0m                                     \u001b[36m│\u001b[0m\n",
              "\u001b[36m│\u001b[0m \u001b[1;33mTanggal Rilis: Okt 04, 2023\u001b[0m                    \u001b[36m│\u001b[0m\n",
              "\u001b[36m│\u001b[0m \u001b[1;36mProduser:\u001b[0m                                      \u001b[36m│\u001b[0m\n",
              "\u001b[36m│\u001b[0m \u001b[1;31mGenre : Action, Drama, Shounen, Supernatural, \u001b[0m \u001b[36m│\u001b[0m\n",
              "\u001b[36m│\u001b[0m \u001b[1;31mAction, Drama, Shounen, Supernatural, Time \u001b[0m    \u001b[36m│\u001b[0m\n",
              "\u001b[36m│\u001b[0m \u001b[1;31mTravel, Action, Drama, School, Shounen\u001b[0m         \u001b[36m│\u001b[0m\n",
              "\u001b[36m│\u001b[0m \u001b[1;34mSinopsis : Sinopsis tidak tersedia!(Null) \u001b[0m     \u001b[36m│\u001b[0m\n",
              "\u001b[36m╰────────────────────────────────────────────────╯\u001b[0m\n"
            ]
          },
          "metadata": {},
          "output_type": "display_data"
        },
        {
          "metadata": {
            "tags": null
          },
          "name": "stdout",
          "output_type": "stream",
          "text": [
            "Link: https://otakudesu.cloud/anime/tokyo-revs-tenhen-sub-indo/\n",
            "--------------------\n"
          ]
        },
        {
          "data": {
            "text/html": [
              "<pre style=\"white-space:pre;overflow-x:auto;line-height:normal;font-family:Menlo,'DejaVu Sans Mono',consolas,'Courier New',monospace\"><span style=\"color: #800000; text-decoration-color: #800000; font-weight: bold\">Cari Anime : ⚠(type </span><span style=\"color: #800000; text-decoration-color: #800000; font-weight: bold\">'exit'</span><span style=\"color: #800000; text-decoration-color: #800000; font-weight: bold\"> to exit)</span></pre>\n"
            ],
            "text/plain": [
              "\u001b[1;31mCari Anime : ⚠\u001b[0m\u001b[1;31m(\u001b[0m\u001b[1;31mtype \u001b[0m\u001b[1;31m'exit'\u001b[0m\u001b[1;31m to exit\u001b[0m\u001b[1;31m)\u001b[0m"
            ]
          },
          "metadata": {},
          "output_type": "display_data"
        },
        {
          "metadata": {
            "tags": null
          },
          "name": "stdout",
          "output_type": "stream",
          "text": [
            "\n",
            "\n"
          ]
        },
        {
          "data": {
            "text/html": [
              "<pre style=\"white-space:pre;overflow-x:auto;line-height:normal;font-family:Menlo,'DejaVu Sans Mono',consolas,'Courier New',monospace\">👍 Anime ditemukan!\n",
              "</pre>\n"
            ],
            "text/plain": [
              "👍 Anime ditemukan!\n"
            ]
          },
          "metadata": {},
          "output_type": "display_data"
        },
        {
          "data": {
            "text/html": [
              "<pre style=\"white-space:pre;overflow-x:auto;line-height:normal;font-family:Menlo,'DejaVu Sans Mono',consolas,'Courier New',monospace\"><span style=\"color: #008080; text-decoration-color: #008080\">╭────────────────────────────────────────────────╮</span>\n",
              "<span style=\"color: #008080; text-decoration-color: #008080\">│</span> <span style=\"color: #008000; text-decoration-color: #008000; font-weight: bold\">Judul : Tokyo Revengers: Tenjiku-hen Subtitle </span> <span style=\"color: #008080; text-decoration-color: #008080\">│</span>\n",
              "<span style=\"color: #008080; text-decoration-color: #008080\">│</span> <span style=\"color: #008000; text-decoration-color: #008000; font-weight: bold\">Indonesia</span>                                      <span style=\"color: #008080; text-decoration-color: #008080\">│</span>\n",
              "<span style=\"color: #008080; text-decoration-color: #008080\">│</span> <span style=\"color: #800080; text-decoration-color: #800080; font-weight: bold\">Status : Ongoing</span>                               <span style=\"color: #008080; text-decoration-color: #008080\">│</span>\n",
              "<span style=\"color: #008080; text-decoration-color: #008080\">│</span> <span style=\"color: #c0c0c0; text-decoration-color: #c0c0c0; font-weight: bold\">Skor: 7.02</span>                                     <span style=\"color: #008080; text-decoration-color: #008080\">│</span>\n",
              "<span style=\"color: #008080; text-decoration-color: #008080\">│</span> <span style=\"color: #808000; text-decoration-color: #808000; font-weight: bold\">Tanggal Rilis: Okt 04, 2023</span>                    <span style=\"color: #008080; text-decoration-color: #008080\">│</span>\n",
              "<span style=\"color: #008080; text-decoration-color: #008080\">│</span> <span style=\"color: #008080; text-decoration-color: #008080; font-weight: bold\">Produser:</span>                                      <span style=\"color: #008080; text-decoration-color: #008080\">│</span>\n",
              "<span style=\"color: #008080; text-decoration-color: #008080\">│</span> <span style=\"color: #800000; text-decoration-color: #800000; font-weight: bold\">Genre : Action, Drama, Shounen, Supernatural, </span> <span style=\"color: #008080; text-decoration-color: #008080\">│</span>\n",
              "<span style=\"color: #008080; text-decoration-color: #008080\">│</span> <span style=\"color: #800000; text-decoration-color: #800000; font-weight: bold\">Action, Drama, Shounen, Supernatural, Time </span>    <span style=\"color: #008080; text-decoration-color: #008080\">│</span>\n",
              "<span style=\"color: #008080; text-decoration-color: #008080\">│</span> <span style=\"color: #800000; text-decoration-color: #800000; font-weight: bold\">Travel, Mystery, Sci-Fi, Super Power, Action, </span> <span style=\"color: #008080; text-decoration-color: #008080\">│</span>\n",
              "<span style=\"color: #008080; text-decoration-color: #008080\">│</span> <span style=\"color: #800000; text-decoration-color: #800000; font-weight: bold\">Drama, School, Shounen, Action, Drama, Horror,</span> <span style=\"color: #008080; text-decoration-color: #008080\">│</span>\n",
              "<span style=\"color: #008080; text-decoration-color: #008080\">│</span> <span style=\"color: #800000; text-decoration-color: #800000; font-weight: bold\">Mystery, Psychological, Seinen, Supernatural, </span> <span style=\"color: #008080; text-decoration-color: #008080\">│</span>\n",
              "<span style=\"color: #008080; text-decoration-color: #008080\">│</span> <span style=\"color: #800000; text-decoration-color: #800000; font-weight: bold\">Fantasy, Historical, Romance, Shoujo, Action, </span> <span style=\"color: #008080; text-decoration-color: #008080\">│</span>\n",
              "<span style=\"color: #008080; text-decoration-color: #008080\">│</span> <span style=\"color: #800000; text-decoration-color: #800000; font-weight: bold\">Drama, Horror, Mystery, Psychological, Seinen,</span> <span style=\"color: #008080; text-decoration-color: #008080\">│</span>\n",
              "<span style=\"color: #008080; text-decoration-color: #008080\">│</span> <span style=\"color: #800000; text-decoration-color: #800000; font-weight: bold\">Supernatural, Action, Drama, Horror, Mystery, </span> <span style=\"color: #008080; text-decoration-color: #008080\">│</span>\n",
              "<span style=\"color: #008080; text-decoration-color: #008080\">│</span> <span style=\"color: #800000; text-decoration-color: #800000; font-weight: bold\">Psychological, Seinen, Supernatural, Comedy, </span>  <span style=\"color: #008080; text-decoration-color: #008080\">│</span>\n",
              "<span style=\"color: #008080; text-decoration-color: #008080\">│</span> <span style=\"color: #800000; text-decoration-color: #800000; font-weight: bold\">School, Shounen, Super Power, Supernatural, </span>   <span style=\"color: #008080; text-decoration-color: #008080\">│</span>\n",
              "<span style=\"color: #008080; text-decoration-color: #008080\">│</span> <span style=\"color: #800000; text-decoration-color: #800000; font-weight: bold\">ction, Drama, Horror, Mystery, Psychological, </span> <span style=\"color: #008080; text-decoration-color: #008080\">│</span>\n",
              "<span style=\"color: #008080; text-decoration-color: #008080\">│</span> <span style=\"color: #800000; text-decoration-color: #800000; font-weight: bold\">Seinen, Supernatural, Action, Comedy, Sci-Fi, </span> <span style=\"color: #008080; text-decoration-color: #008080\">│</span>\n",
              "<span style=\"color: #008080; text-decoration-color: #008080\">│</span> <span style=\"color: #800000; text-decoration-color: #800000; font-weight: bold\">Shounen, Super Power, Supernatural, Drama, </span>    <span style=\"color: #008080; text-decoration-color: #008080\">│</span>\n",
              "<span style=\"color: #008080; text-decoration-color: #008080\">│</span> <span style=\"color: #800000; text-decoration-color: #800000; font-weight: bold\">Detective, Fantasy, Historical, Mystery, </span>      <span style=\"color: #008080; text-decoration-color: #008080\">│</span>\n",
              "<span style=\"color: #008080; text-decoration-color: #008080\">│</span> <span style=\"color: #800000; text-decoration-color: #800000; font-weight: bold\">Supernatural, Vampire, Adventure, Mystery, </span>    <span style=\"color: #008080; text-decoration-color: #008080\">│</span>\n",
              "<span style=\"color: #008080; text-decoration-color: #008080\">│</span> <span style=\"color: #800000; text-decoration-color: #800000; font-weight: bold\">Sci-Fi, Seinen, Survival, Drama, School</span>        <span style=\"color: #008080; text-decoration-color: #008080\">│</span>\n",
              "<span style=\"color: #008080; text-decoration-color: #008080\">│</span> <span style=\"color: #000080; text-decoration-color: #000080; font-weight: bold\">Sinopsis : Sinopsis tidak tersedia!(Null) </span>     <span style=\"color: #008080; text-decoration-color: #008080\">│</span>\n",
              "<span style=\"color: #008080; text-decoration-color: #008080\">╰────────────────────────────────────────────────╯</span>\n",
              "</pre>\n"
            ],
            "text/plain": [
              "\u001b[36m╭────────────────────────────────────────────────╮\u001b[0m\n",
              "\u001b[36m│\u001b[0m \u001b[1;32mJudul : Tokyo Revengers: Tenjiku-hen Subtitle \u001b[0m \u001b[36m│\u001b[0m\n",
              "\u001b[36m│\u001b[0m \u001b[1;32mIndonesia\u001b[0m                                      \u001b[36m│\u001b[0m\n",
              "\u001b[36m│\u001b[0m \u001b[1;35mStatus : Ongoing\u001b[0m                               \u001b[36m│\u001b[0m\n",
              "\u001b[36m│\u001b[0m \u001b[1;37mSkor: 7.02\u001b[0m                                     \u001b[36m│\u001b[0m\n",
              "\u001b[36m│\u001b[0m \u001b[1;33mTanggal Rilis: Okt 04, 2023\u001b[0m                    \u001b[36m│\u001b[0m\n",
              "\u001b[36m│\u001b[0m \u001b[1;36mProduser:\u001b[0m                                      \u001b[36m│\u001b[0m\n",
              "\u001b[36m│\u001b[0m \u001b[1;31mGenre : Action, Drama, Shounen, Supernatural, \u001b[0m \u001b[36m│\u001b[0m\n",
              "\u001b[36m│\u001b[0m \u001b[1;31mAction, Drama, Shounen, Supernatural, Time \u001b[0m    \u001b[36m│\u001b[0m\n",
              "\u001b[36m│\u001b[0m \u001b[1;31mTravel, Mystery, Sci-Fi, Super Power, Action, \u001b[0m \u001b[36m│\u001b[0m\n",
              "\u001b[36m│\u001b[0m \u001b[1;31mDrama, School, Shounen, Action, Drama, Horror,\u001b[0m \u001b[36m│\u001b[0m\n",
              "\u001b[36m│\u001b[0m \u001b[1;31mMystery, Psychological, Seinen, Supernatural, \u001b[0m \u001b[36m│\u001b[0m\n",
              "\u001b[36m│\u001b[0m \u001b[1;31mFantasy, Historical, Romance, Shoujo, Action, \u001b[0m \u001b[36m│\u001b[0m\n",
              "\u001b[36m│\u001b[0m \u001b[1;31mDrama, Horror, Mystery, Psychological, Seinen,\u001b[0m \u001b[36m│\u001b[0m\n",
              "\u001b[36m│\u001b[0m \u001b[1;31mSupernatural, Action, Drama, Horror, Mystery, \u001b[0m \u001b[36m│\u001b[0m\n",
              "\u001b[36m│\u001b[0m \u001b[1;31mPsychological, Seinen, Supernatural, Comedy, \u001b[0m  \u001b[36m│\u001b[0m\n",
              "\u001b[36m│\u001b[0m \u001b[1;31mSchool, Shounen, Super Power, Supernatural, \u001b[0m   \u001b[36m│\u001b[0m\n",
              "\u001b[36m│\u001b[0m \u001b[1;31mction, Drama, Horror, Mystery, Psychological, \u001b[0m \u001b[36m│\u001b[0m\n",
              "\u001b[36m│\u001b[0m \u001b[1;31mSeinen, Supernatural, Action, Comedy, Sci-Fi, \u001b[0m \u001b[36m│\u001b[0m\n",
              "\u001b[36m│\u001b[0m \u001b[1;31mShounen, Super Power, Supernatural, Drama, \u001b[0m    \u001b[36m│\u001b[0m\n",
              "\u001b[36m│\u001b[0m \u001b[1;31mDetective, Fantasy, Historical, Mystery, \u001b[0m      \u001b[36m│\u001b[0m\n",
              "\u001b[36m│\u001b[0m \u001b[1;31mSupernatural, Vampire, Adventure, Mystery, \u001b[0m    \u001b[36m│\u001b[0m\n",
              "\u001b[36m│\u001b[0m \u001b[1;31mSci-Fi, Seinen, Survival, Drama, School\u001b[0m        \u001b[36m│\u001b[0m\n",
              "\u001b[36m│\u001b[0m \u001b[1;34mSinopsis : Sinopsis tidak tersedia!(Null) \u001b[0m     \u001b[36m│\u001b[0m\n",
              "\u001b[36m╰────────────────────────────────────────────────╯\u001b[0m\n"
            ]
          },
          "metadata": {},
          "output_type": "display_data"
        },
        {
          "metadata": {
            "tags": null
          },
          "name": "stdout",
          "output_type": "stream",
          "text": [
            "Link: https://otakudesu.cloud/anime/tokyo-revs-tenhen-sub-indo/\n",
            "--------------------\n"
          ]
        },
        {
          "data": {
            "text/html": [
              "<pre style=\"white-space:pre;overflow-x:auto;line-height:normal;font-family:Menlo,'DejaVu Sans Mono',consolas,'Courier New',monospace\"><span style=\"color: #800000; text-decoration-color: #800000; font-weight: bold\">Cari Anime : ⚠(type </span><span style=\"color: #800000; text-decoration-color: #800000; font-weight: bold\">'exit'</span><span style=\"color: #800000; text-decoration-color: #800000; font-weight: bold\"> to exit)</span></pre>\n"
            ],
            "text/plain": [
              "\u001b[1;31mCari Anime : ⚠\u001b[0m\u001b[1;31m(\u001b[0m\u001b[1;31mtype \u001b[0m\u001b[1;31m'exit'\u001b[0m\u001b[1;31m to exit\u001b[0m\u001b[1;31m)\u001b[0m"
            ]
          },
          "metadata": {},
          "output_type": "display_data"
        },
        {
          "metadata": {
            "tags": null
          },
          "name": "stdout",
          "output_type": "stream",
          "text": [
            "\n",
            "\n"
          ]
        },
        {
          "data": {
            "text/html": [
              "<pre style=\"white-space:pre;overflow-x:auto;line-height:normal;font-family:Menlo,'DejaVu Sans Mono',consolas,'Courier New',monospace\">👍 Anime ditemukan!\n",
              "</pre>\n"
            ],
            "text/plain": [
              "👍 Anime ditemukan!\n"
            ]
          },
          "metadata": {},
          "output_type": "display_data"
        },
        {
          "data": {
            "text/html": [
              "<pre style=\"white-space:pre;overflow-x:auto;line-height:normal;font-family:Menlo,'DejaVu Sans Mono',consolas,'Courier New',monospace\"><span style=\"color: #008080; text-decoration-color: #008080\">╭────────────────────────────────────────────────╮</span>\n",
              "<span style=\"color: #008080; text-decoration-color: #008080\">│</span> <span style=\"color: #008000; text-decoration-color: #008000; font-weight: bold\">Judul : Bleach: Sennen Kessen-hen – </span>           <span style=\"color: #008080; text-decoration-color: #008080\">│</span>\n",
              "<span style=\"color: #008080; text-decoration-color: #008080\">│</span> <span style=\"color: #008000; text-decoration-color: #008000; font-weight: bold\">Ketsubetsu-tan (Episode 1 – 13) Subtitle </span>      <span style=\"color: #008080; text-decoration-color: #008080\">│</span>\n",
              "<span style=\"color: #008080; text-decoration-color: #008080\">│</span> <span style=\"color: #008000; text-decoration-color: #008000; font-weight: bold\">Indonesia</span>                                      <span style=\"color: #008080; text-decoration-color: #008080\">│</span>\n",
              "<span style=\"color: #008080; text-decoration-color: #008080\">│</span> <span style=\"color: #800080; text-decoration-color: #800080; font-weight: bold\">Status : Completed</span>                             <span style=\"color: #008080; text-decoration-color: #008080\">│</span>\n",
              "<span style=\"color: #008080; text-decoration-color: #008080\">│</span> <span style=\"color: #c0c0c0; text-decoration-color: #c0c0c0; font-weight: bold\">Skor: 8.76</span>                                     <span style=\"color: #008080; text-decoration-color: #008080\">│</span>\n",
              "<span style=\"color: #008080; text-decoration-color: #008080\">│</span> <span style=\"color: #808000; text-decoration-color: #808000; font-weight: bold\">Tanggal Rilis: Jul 08, 2023</span>                    <span style=\"color: #008080; text-decoration-color: #008080\">│</span>\n",
              "<span style=\"color: #008080; text-decoration-color: #008080\">│</span> <span style=\"color: #008080; text-decoration-color: #008080; font-weight: bold\">Produser: TV Tokyo, Aniplex, Dentsu, Shueisha,</span> <span style=\"color: #008080; text-decoration-color: #008080\">│</span>\n",
              "<span style=\"color: #008080; text-decoration-color: #008080\">│</span> <span style=\"color: #008080; text-decoration-color: #008080; font-weight: bold\">Zack Promotion</span>                                 <span style=\"color: #008080; text-decoration-color: #008080\">│</span>\n",
              "<span style=\"color: #008080; text-decoration-color: #008080\">│</span> <span style=\"color: #800000; text-decoration-color: #800000; font-weight: bold\">Genre : Action, Adventure, Fantasy, Shounen, </span>  <span style=\"color: #008080; text-decoration-color: #008080\">│</span>\n",
              "<span style=\"color: #008080; text-decoration-color: #008080\">│</span> <span style=\"color: #800000; text-decoration-color: #800000; font-weight: bold\">Action, Adventure, Fantasy, Shounen</span>            <span style=\"color: #008080; text-decoration-color: #008080\">│</span>\n",
              "<span style=\"color: #008080; text-decoration-color: #008080\">│</span> <span style=\"color: #000080; text-decoration-color: #000080; font-weight: bold\">Sinopsis : Part 2 dari kelanjutan Bleach: </span>     <span style=\"color: #008080; text-decoration-color: #008080\">│</span>\n",
              "<span style=\"color: #008080; text-decoration-color: #008080\">│</span> <span style=\"color: #000080; text-decoration-color: #000080; font-weight: bold\">Sennen Kessen-hen. </span>                            <span style=\"color: #008080; text-decoration-color: #008080\">│</span>\n",
              "<span style=\"color: #008080; text-decoration-color: #008080\">╰────────────────────────────────────────────────╯</span>\n",
              "</pre>\n"
            ],
            "text/plain": [
              "\u001b[36m╭────────────────────────────────────────────────╮\u001b[0m\n",
              "\u001b[36m│\u001b[0m \u001b[1;32mJudul : Bleach: Sennen Kessen-hen – \u001b[0m           \u001b[36m│\u001b[0m\n",
              "\u001b[36m│\u001b[0m \u001b[1;32mKetsubetsu-tan (Episode 1 – 13) Subtitle \u001b[0m      \u001b[36m│\u001b[0m\n",
              "\u001b[36m│\u001b[0m \u001b[1;32mIndonesia\u001b[0m                                      \u001b[36m│\u001b[0m\n",
              "\u001b[36m│\u001b[0m \u001b[1;35mStatus : Completed\u001b[0m                             \u001b[36m│\u001b[0m\n",
              "\u001b[36m│\u001b[0m \u001b[1;37mSkor: 8.76\u001b[0m                                     \u001b[36m│\u001b[0m\n",
              "\u001b[36m│\u001b[0m \u001b[1;33mTanggal Rilis: Jul 08, 2023\u001b[0m                    \u001b[36m│\u001b[0m\n",
              "\u001b[36m│\u001b[0m \u001b[1;36mProduser: TV Tokyo, Aniplex, Dentsu, Shueisha,\u001b[0m \u001b[36m│\u001b[0m\n",
              "\u001b[36m│\u001b[0m \u001b[1;36mZack Promotion\u001b[0m                                 \u001b[36m│\u001b[0m\n",
              "\u001b[36m│\u001b[0m \u001b[1;31mGenre : Action, Adventure, Fantasy, Shounen, \u001b[0m  \u001b[36m│\u001b[0m\n",
              "\u001b[36m│\u001b[0m \u001b[1;31mAction, Adventure, Fantasy, Shounen\u001b[0m            \u001b[36m│\u001b[0m\n",
              "\u001b[36m│\u001b[0m \u001b[1;34mSinopsis : Part 2 dari kelanjutan Bleach: \u001b[0m     \u001b[36m│\u001b[0m\n",
              "\u001b[36m│\u001b[0m \u001b[1;34mSennen Kessen-hen. \u001b[0m                            \u001b[36m│\u001b[0m\n",
              "\u001b[36m╰────────────────────────────────────────────────╯\u001b[0m\n"
            ]
          },
          "metadata": {},
          "output_type": "display_data"
        },
        {
          "metadata": {
            "tags": null
          },
          "name": "stdout",
          "output_type": "stream",
          "text": [
            "Link: https://otakudesu.cloud/anime/blch-kessen-hen-p2-sub-indo/\n",
            "--------------------\n"
          ]
        },
        {
          "data": {
            "text/html": [
              "<pre style=\"white-space:pre;overflow-x:auto;line-height:normal;font-family:Menlo,'DejaVu Sans Mono',consolas,'Courier New',monospace\"><span style=\"color: #800000; text-decoration-color: #800000; font-weight: bold\">Cari Anime : ⚠(type </span><span style=\"color: #800000; text-decoration-color: #800000; font-weight: bold\">'exit'</span><span style=\"color: #800000; text-decoration-color: #800000; font-weight: bold\"> to exit)</span></pre>\n"
            ],
            "text/plain": [
              "\u001b[1;31mCari Anime : ⚠\u001b[0m\u001b[1;31m(\u001b[0m\u001b[1;31mtype \u001b[0m\u001b[1;31m'exit'\u001b[0m\u001b[1;31m to exit\u001b[0m\u001b[1;31m)\u001b[0m"
            ]
          },
          "metadata": {},
          "output_type": "display_data"
        },
        {
          "metadata": {
            "tags": null
          },
          "name": "stdout",
          "output_type": "stream",
          "text": [
            "\n",
            "\n"
          ]
        },
        {
          "data": {
            "text/html": [
              "<pre style=\"white-space:pre;overflow-x:auto;line-height:normal;font-family:Menlo,'DejaVu Sans Mono',consolas,'Courier New',monospace\">👍 Anime ditemukan!\n",
              "</pre>\n"
            ],
            "text/plain": [
              "👍 Anime ditemukan!\n"
            ]
          },
          "metadata": {},
          "output_type": "display_data"
        },
        {
          "data": {
            "text/html": [
              "<pre style=\"white-space:pre;overflow-x:auto;line-height:normal;font-family:Menlo,'DejaVu Sans Mono',consolas,'Courier New',monospace\"><span style=\"color: #008080; text-decoration-color: #008080\">╭────────────────────────────────────────────────╮</span>\n",
              "<span style=\"color: #008080; text-decoration-color: #008080\">│</span> <span style=\"color: #008000; text-decoration-color: #008000; font-weight: bold\">Judul : Fairy Tail: Final Series Subtitle </span>     <span style=\"color: #008080; text-decoration-color: #008080\">│</span>\n",
              "<span style=\"color: #008080; text-decoration-color: #008080\">│</span> <span style=\"color: #008000; text-decoration-color: #008000; font-weight: bold\">Indonesia</span>                                      <span style=\"color: #008080; text-decoration-color: #008080\">│</span>\n",
              "<span style=\"color: #008080; text-decoration-color: #008080\">│</span> <span style=\"color: #800080; text-decoration-color: #800080; font-weight: bold\">Status : Completed</span>                             <span style=\"color: #008080; text-decoration-color: #008080\">│</span>\n",
              "<span style=\"color: #008080; text-decoration-color: #008080\">│</span> <span style=\"color: #c0c0c0; text-decoration-color: #c0c0c0; font-weight: bold\">Skor: 8.44</span>                                     <span style=\"color: #008080; text-decoration-color: #008080\">│</span>\n",
              "<span style=\"color: #008080; text-decoration-color: #008080\">│</span> <span style=\"color: #808000; text-decoration-color: #808000; font-weight: bold\">Tanggal Rilis: Oct 7, 2018</span>                     <span style=\"color: #008080; text-decoration-color: #008080\">│</span>\n",
              "<span style=\"color: #008080; text-decoration-color: #008080\">│</span> <span style=\"color: #008080; text-decoration-color: #008080; font-weight: bold\">Produser: Avex Pictures</span>                        <span style=\"color: #008080; text-decoration-color: #008080\">│</span>\n",
              "<span style=\"color: #008080; text-decoration-color: #008080\">│</span> <span style=\"color: #800000; text-decoration-color: #800000; font-weight: bold\">Genre : Action, Adventure, Comedy, Fantasy, </span>   <span style=\"color: #008080; text-decoration-color: #008080\">│</span>\n",
              "<span style=\"color: #008080; text-decoration-color: #008080\">│</span> <span style=\"color: #800000; text-decoration-color: #800000; font-weight: bold\">Magic, Shounen, Action, Adventure, Comedy, </span>    <span style=\"color: #008080; text-decoration-color: #008080\">│</span>\n",
              "<span style=\"color: #008080; text-decoration-color: #008080\">│</span> <span style=\"color: #800000; text-decoration-color: #800000; font-weight: bold\">Fantasy, Magic, Shounen</span>                        <span style=\"color: #008080; text-decoration-color: #008080\">│</span>\n",
              "<span style=\"color: #008080; text-decoration-color: #008080\">│</span> <span style=\"color: #000080; text-decoration-color: #000080; font-weight: bold\">Sinopsis : Fairy Tail: Final Series merupakan </span> <span style=\"color: #008080; text-decoration-color: #008080\">│</span>\n",
              "<span style=\"color: #008080; text-decoration-color: #008080\">│</span> <span style=\"color: #000080; text-decoration-color: #000080; font-weight: bold\">kelanjutan dari anime Fairy Tail dan akan </span>     <span style=\"color: #008080; text-decoration-color: #008080\">│</span>\n",
              "<span style=\"color: #008080; text-decoration-color: #008080\">│</span> <span style=\"color: #000080; text-decoration-color: #000080; font-weight: bold\">menjadi season terakhir dari series ini.Masih </span> <span style=\"color: #008080; text-decoration-color: #008080\">│</span>\n",
              "<span style=\"color: #008080; text-decoration-color: #008080\">│</span> <span style=\"color: #000080; text-decoration-color: #000080; font-weight: bold\">Bercerita tentang guild penyihir Fairy tail </span>   <span style=\"color: #008080; text-decoration-color: #008080\">│</span>\n",
              "<span style=\"color: #008080; text-decoration-color: #008080\">│</span> <span style=\"color: #000080; text-decoration-color: #000080; font-weight: bold\">beserta anggota-anggotanya yakni, Natsu, Lucy,</span> <span style=\"color: #008080; text-decoration-color: #008080\">│</span>\n",
              "<span style=\"color: #008080; text-decoration-color: #008080\">│</span> <span style=\"color: #000080; text-decoration-color: #000080; font-weight: bold\">Gray, Erza dan lainnya. Kisah Guild &amp; </span>         <span style=\"color: #008080; text-decoration-color: #008080\">│</span>\n",
              "<span style=\"color: #008080; text-decoration-color: #008080\">│</span> <span style=\"color: #000080; text-decoration-color: #000080; font-weight: bold\">perjalanan mereka kini telah mencapai </span>         <span style=\"color: #008080; text-decoration-color: #008080\">│</span>\n",
              "<span style=\"color: #008080; text-decoration-color: #008080\">│</span> <span style=\"color: #000080; text-decoration-color: #000080; font-weight: bold\">puncaknya.Kisah petualangan apakah yang akan </span>  <span style=\"color: #008080; text-decoration-color: #008080\">│</span>\n",
              "<span style=\"color: #008080; text-decoration-color: #008080\">│</span> <span style=\"color: #000080; text-decoration-color: #000080; font-weight: bold\">menanti mereka kali ini? </span>                      <span style=\"color: #008080; text-decoration-color: #008080\">│</span>\n",
              "<span style=\"color: #008080; text-decoration-color: #008080\">╰────────────────────────────────────────────────╯</span>\n",
              "</pre>\n"
            ],
            "text/plain": [
              "\u001b[36m╭────────────────────────────────────────────────╮\u001b[0m\n",
              "\u001b[36m│\u001b[0m \u001b[1;32mJudul : Fairy Tail: Final Series Subtitle \u001b[0m     \u001b[36m│\u001b[0m\n",
              "\u001b[36m│\u001b[0m \u001b[1;32mIndonesia\u001b[0m                                      \u001b[36m│\u001b[0m\n",
              "\u001b[36m│\u001b[0m \u001b[1;35mStatus : Completed\u001b[0m                             \u001b[36m│\u001b[0m\n",
              "\u001b[36m│\u001b[0m \u001b[1;37mSkor: 8.44\u001b[0m                                     \u001b[36m│\u001b[0m\n",
              "\u001b[36m│\u001b[0m \u001b[1;33mTanggal Rilis: Oct 7, 2018\u001b[0m                     \u001b[36m│\u001b[0m\n",
              "\u001b[36m│\u001b[0m \u001b[1;36mProduser: Avex Pictures\u001b[0m                        \u001b[36m│\u001b[0m\n",
              "\u001b[36m│\u001b[0m \u001b[1;31mGenre : Action, Adventure, Comedy, Fantasy, \u001b[0m   \u001b[36m│\u001b[0m\n",
              "\u001b[36m│\u001b[0m \u001b[1;31mMagic, Shounen, Action, Adventure, Comedy, \u001b[0m    \u001b[36m│\u001b[0m\n",
              "\u001b[36m│\u001b[0m \u001b[1;31mFantasy, Magic, Shounen\u001b[0m                        \u001b[36m│\u001b[0m\n",
              "\u001b[36m│\u001b[0m \u001b[1;34mSinopsis : Fairy Tail: Final Series merupakan \u001b[0m \u001b[36m│\u001b[0m\n",
              "\u001b[36m│\u001b[0m \u001b[1;34mkelanjutan dari anime Fairy Tail dan akan \u001b[0m     \u001b[36m│\u001b[0m\n",
              "\u001b[36m│\u001b[0m \u001b[1;34mmenjadi season terakhir dari series ini.Masih \u001b[0m \u001b[36m│\u001b[0m\n",
              "\u001b[36m│\u001b[0m \u001b[1;34mBercerita tentang guild penyihir Fairy tail \u001b[0m   \u001b[36m│\u001b[0m\n",
              "\u001b[36m│\u001b[0m \u001b[1;34mbeserta anggota-anggotanya yakni, Natsu, Lucy,\u001b[0m \u001b[36m│\u001b[0m\n",
              "\u001b[36m│\u001b[0m \u001b[1;34mGray, Erza dan lainnya. Kisah Guild & \u001b[0m         \u001b[36m│\u001b[0m\n",
              "\u001b[36m│\u001b[0m \u001b[1;34mperjalanan mereka kini telah mencapai \u001b[0m         \u001b[36m│\u001b[0m\n",
              "\u001b[36m│\u001b[0m \u001b[1;34mpuncaknya.Kisah petualangan apakah yang akan \u001b[0m  \u001b[36m│\u001b[0m\n",
              "\u001b[36m│\u001b[0m \u001b[1;34mmenanti mereka kali ini? \u001b[0m                      \u001b[36m│\u001b[0m\n",
              "\u001b[36m╰────────────────────────────────────────────────╯\u001b[0m\n"
            ]
          },
          "metadata": {},
          "output_type": "display_data"
        },
        {
          "metadata": {
            "tags": null
          },
          "name": "stdout",
          "output_type": "stream",
          "text": [
            "Link: https://otakudesu.cloud/anime/ftfs-sub-indo/\n",
            "--------------------\n"
          ]
        },
        {
          "data": {
            "text/html": [
              "<pre style=\"white-space:pre;overflow-x:auto;line-height:normal;font-family:Menlo,'DejaVu Sans Mono',consolas,'Courier New',monospace\"><span style=\"color: #800000; text-decoration-color: #800000; font-weight: bold\">Cari Anime : ⚠(type </span><span style=\"color: #800000; text-decoration-color: #800000; font-weight: bold\">'exit'</span><span style=\"color: #800000; text-decoration-color: #800000; font-weight: bold\"> to exit)</span></pre>\n"
            ],
            "text/plain": [
              "\u001b[1;31mCari Anime : ⚠\u001b[0m\u001b[1;31m(\u001b[0m\u001b[1;31mtype \u001b[0m\u001b[1;31m'exit'\u001b[0m\u001b[1;31m to exit\u001b[0m\u001b[1;31m)\u001b[0m"
            ]
          },
          "metadata": {},
          "output_type": "display_data"
        },
        {
          "metadata": {
            "tags": null
          },
          "name": "stdout",
          "output_type": "stream",
          "text": [
            "\n",
            "\n"
          ]
        },
        {
          "data": {
            "text/html": [
              "<pre style=\"white-space:pre;overflow-x:auto;line-height:normal;font-family:Menlo,'DejaVu Sans Mono',consolas,'Courier New',monospace\">👍 Anime ditemukan!\n",
              "</pre>\n"
            ],
            "text/plain": [
              "👍 Anime ditemukan!\n"
            ]
          },
          "metadata": {},
          "output_type": "display_data"
        },
        {
          "data": {
            "text/html": [
              "<pre style=\"white-space:pre;overflow-x:auto;line-height:normal;font-family:Menlo,'DejaVu Sans Mono',consolas,'Courier New',monospace\"><span style=\"color: #008080; text-decoration-color: #008080\">╭────────────────────────────────────────────────╮</span>\n",
              "<span style=\"color: #008080; text-decoration-color: #008080\">│</span> <span style=\"color: #008000; text-decoration-color: #008000; font-weight: bold\">Judul : Black Clover (Episode 1 – 170) </span>        <span style=\"color: #008080; text-decoration-color: #008080\">│</span>\n",
              "<span style=\"color: #008080; text-decoration-color: #008080\">│</span> <span style=\"color: #008000; text-decoration-color: #008000; font-weight: bold\">Subtitle Indonesia</span>                             <span style=\"color: #008080; text-decoration-color: #008080\">│</span>\n",
              "<span style=\"color: #008080; text-decoration-color: #008080\">│</span> <span style=\"color: #800080; text-decoration-color: #800080; font-weight: bold\">Status : Completed</span>                             <span style=\"color: #008080; text-decoration-color: #008080\">│</span>\n",
              "<span style=\"color: #008080; text-decoration-color: #008080\">│</span> <span style=\"color: #c0c0c0; text-decoration-color: #c0c0c0; font-weight: bold\">Skor: 8.02</span>                                     <span style=\"color: #008080; text-decoration-color: #008080\">│</span>\n",
              "<span style=\"color: #008080; text-decoration-color: #008080\">│</span> <span style=\"color: #808000; text-decoration-color: #808000; font-weight: bold\">Tanggal Rilis: Oct 3, 2017</span>                     <span style=\"color: #008080; text-decoration-color: #008080\">│</span>\n",
              "<span style=\"color: #008080; text-decoration-color: #008080\">│</span> <span style=\"color: #008080; text-decoration-color: #008080; font-weight: bold\">Produser: TV Tokyo, Avex Pictures, Shueisha</span>    <span style=\"color: #008080; text-decoration-color: #008080\">│</span>\n",
              "<span style=\"color: #008080; text-decoration-color: #008080\">│</span> <span style=\"color: #800000; text-decoration-color: #800000; font-weight: bold\">Genre : Action, Comedy, Fantasy, Magic, </span>       <span style=\"color: #008080; text-decoration-color: #008080\">│</span>\n",
              "<span style=\"color: #008080; text-decoration-color: #008080\">│</span> <span style=\"color: #800000; text-decoration-color: #800000; font-weight: bold\">Shounen</span>                                        <span style=\"color: #008080; text-decoration-color: #008080\">│</span>\n",
              "<span style=\"color: #008080; text-decoration-color: #008080\">│</span> <span style=\"color: #000080; text-decoration-color: #000080; font-weight: bold\">Sinopsis : Asta dan Yuno sejak kecil telah </span>    <span style=\"color: #008080; text-decoration-color: #008080\">│</span>\n",
              "<span style=\"color: #008080; text-decoration-color: #008080\">│</span> <span style=\"color: #000080; text-decoration-color: #000080; font-weight: bold\">ditinggalkan oleh orang tua mereka di sebuah </span>  <span style=\"color: #008080; text-decoration-color: #008080\">│</span>\n",
              "<span style=\"color: #008080; text-decoration-color: #008080\">│</span> <span style=\"color: #000080; text-decoration-color: #000080; font-weight: bold\">gereja pada saat yang sama, sejak saat itu </span>    <span style=\"color: #008080; text-decoration-color: #008080\">│</span>\n",
              "<span style=\"color: #008080; text-decoration-color: #008080\">│</span> <span style=\"color: #000080; text-decoration-color: #000080; font-weight: bold\">hingga kini mereka telah di besarkan oleh </span>     <span style=\"color: #008080; text-decoration-color: #008080\">│</span>\n",
              "<span style=\"color: #008080; text-decoration-color: #008080\">│</span> <span style=\"color: #000080; text-decoration-color: #000080; font-weight: bold\">pemilik gereja. Mereka berdua selalu saja </span>     <span style=\"color: #008080; text-decoration-color: #008080\">│</span>\n",
              "<span style=\"color: #008080; text-decoration-color: #008080\">│</span> <span style=\"color: #000080; text-decoration-color: #000080; font-weight: bold\">bersaing untuk menentukan siapa yang lebih </span>    <span style=\"color: #008080; text-decoration-color: #008080\">│</span>\n",
              "<span style=\"color: #008080; text-decoration-color: #008080\">│</span> <span style=\"color: #000080; text-decoration-color: #000080; font-weight: bold\">hebat. Walaupun begitu, kini mulai terlihat </span>   <span style=\"color: #008080; text-decoration-color: #008080\">│</span>\n",
              "<span style=\"color: #008080; text-decoration-color: #008080\">│</span> <span style=\"color: #000080; text-decoration-color: #000080; font-weight: bold\">jauh kemampuan diantara keduanya.Yuno memilki </span> <span style=\"color: #008080; text-decoration-color: #008080\">│</span>\n",
              "<span style=\"color: #008080; text-decoration-color: #008080\">│</span> <span style=\"color: #000080; text-decoration-color: #000080; font-weight: bold\">bakat alami serta kemampuan dalam </span>             <span style=\"color: #008080; text-decoration-color: #008080\">│</span>\n",
              "<span style=\"color: #008080; text-decoration-color: #008080\">│</span> <span style=\"color: #000080; text-decoration-color: #000080; font-weight: bold\">mengendalikan sihir layaknya seorang jenius, </span>  <span style=\"color: #008080; text-decoration-color: #008080\">│</span>\n",
              "<span style=\"color: #008080; text-decoration-color: #008080\">│</span> <span style=\"color: #000080; text-decoration-color: #000080; font-weight: bold\">sementara Asta sama sekali tak dapat </span>          <span style=\"color: #008080; text-decoration-color: #008080\">│</span>\n",
              "<span style=\"color: #008080; text-decoration-color: #008080\">│</span> <span style=\"color: #000080; text-decoration-color: #000080; font-weight: bold\">menggunakan sihir, suatu hal yang sangat </span>      <span style=\"color: #008080; text-decoration-color: #008080\">│</span>\n",
              "<span style=\"color: #008080; text-decoration-color: #008080\">│</span> <span style=\"color: #000080; text-decoration-color: #000080; font-weight: bold\">jarang terjadi bagi dunia yang setiap orang </span>   <span style=\"color: #008080; text-decoration-color: #008080\">│</span>\n",
              "<span style=\"color: #008080; text-decoration-color: #008080\">│</span> <span style=\"color: #000080; text-decoration-color: #000080; font-weight: bold\">dapat memiliki kemampuan sihir. Walaupun </span>      <span style=\"color: #008080; text-decoration-color: #008080\">│</span>\n",
              "<span style=\"color: #008080; text-decoration-color: #008080\">│</span> <span style=\"color: #000080; text-decoration-color: #000080; font-weight: bold\">begitu, Asta tak pernah menyerah, ia selalu </span>   <span style=\"color: #008080; text-decoration-color: #008080\">│</span>\n",
              "<span style=\"color: #008080; text-decoration-color: #008080\">│</span> <span style=\"color: #000080; text-decoration-color: #000080; font-weight: bold\">bejuang dan berusaha keras berlatih serta </span>     <span style=\"color: #008080; text-decoration-color: #008080\">│</span>\n",
              "<span style=\"color: #008080; text-decoration-color: #008080\">│</span> <span style=\"color: #000080; text-decoration-color: #000080; font-weight: bold\">meningkatkan fisiknya agar dapat meraih </span>       <span style=\"color: #008080; text-decoration-color: #008080\">│</span>\n",
              "<span style=\"color: #008080; text-decoration-color: #008080\">│</span> <span style=\"color: #000080; text-decoration-color: #000080; font-weight: bold\">impiannya, yakni menjadi Kaisar Sihir, </span>        <span style=\"color: #008080; text-decoration-color: #008080\">│</span>\n",
              "<span style=\"color: #008080; text-decoration-color: #008080\">│</span> <span style=\"color: #000080; text-decoration-color: #000080; font-weight: bold\">walaupun dirinya tak memiliki sihir sama </span>      <span style=\"color: #008080; text-decoration-color: #008080\">│</span>\n",
              "<span style=\"color: #008080; text-decoration-color: #008080\">│</span> <span style=\"color: #000080; text-decoration-color: #000080; font-weight: bold\">sekali.Tiba saat hari penentuan penerimaan </span>    <span style=\"color: #008080; text-decoration-color: #008080\">│</span>\n",
              "<span style=\"color: #008080; text-decoration-color: #008080\">│</span> <span style=\"color: #000080; text-decoration-color: #000080; font-weight: bold\">Grimoire (buku sihir). Yuno mendapatkan </span>       <span style=\"color: #008080; text-decoration-color: #008080\">│</span>\n",
              "<span style=\"color: #008080; text-decoration-color: #008080\">│</span> <span style=\"color: #000080; text-decoration-color: #000080; font-weight: bold\">grimoire langka yakni semanggi daun empat </span>     <span style=\"color: #008080; text-decoration-color: #008080\">│</span>\n",
              "<span style=\"color: #008080; text-decoration-color: #008080\">│</span> <span style=\"color: #000080; text-decoration-color: #000080; font-weight: bold\">(biasanya orang-orang hanya mendapatkan </span>       <span style=\"color: #008080; text-decoration-color: #008080\">│</span>\n",
              "<span style=\"color: #008080; text-decoration-color: #008080\">│</span> <span style=\"color: #000080; text-decoration-color: #000080; font-weight: bold\">semanggi berdaun tiga), sayangnya saat itu </span>    <span style=\"color: #008080; text-decoration-color: #008080\">│</span>\n",
              "<span style=\"color: #008080; text-decoration-color: #008080\">│</span> <span style=\"color: #000080; text-decoration-color: #000080; font-weight: bold\">Asta tak mendapatkan apa-apa.Namun suatu hari,</span> <span style=\"color: #008080; text-decoration-color: #008080\">│</span>\n",
              "<span style=\"color: #008080; text-decoration-color: #008080\">│</span> <span style=\"color: #000080; text-decoration-color: #000080; font-weight: bold\">saat dirinya dalam keadaan bahaya, sebuah </span>     <span style=\"color: #008080; text-decoration-color: #008080\">│</span>\n",
              "<span style=\"color: #008080; text-decoration-color: #008080\">│</span> <span style=\"color: #000080; text-decoration-color: #000080; font-weight: bold\">Grimoire misterius muncul dihadapannya, </span>       <span style=\"color: #008080; text-decoration-color: #008080\">│</span>\n",
              "<span style=\"color: #008080; text-decoration-color: #008080\">│</span> <span style=\"color: #000080; text-decoration-color: #000080; font-weight: bold\">memberikan asta sebuah pedang dan kekuatan </span>    <span style=\"color: #008080; text-decoration-color: #008080\">│</span>\n",
              "<span style=\"color: #008080; text-decoration-color: #008080\">│</span> <span style=\"color: #000080; text-decoration-color: #000080; font-weight: bold\">yang luar biasa. Ternyata itu merupakan </span>       <span style=\"color: #008080; text-decoration-color: #008080\">│</span>\n",
              "<span style=\"color: #008080; text-decoration-color: #008080\">│</span> <span style=\"color: #000080; text-decoration-color: #000080; font-weight: bold\">Grimoire semanggi berdaun lima yang sangat </span>    <span style=\"color: #008080; text-decoration-color: #008080\">│</span>\n",
              "<span style=\"color: #008080; text-decoration-color: #008080\">│</span> <span style=\"color: #000080; text-decoration-color: #000080; font-weight: bold\">langka muncul.Dengan tekad serta grimoirenya </span>  <span style=\"color: #008080; text-decoration-color: #008080\">│</span>\n",
              "<span style=\"color: #008080; text-decoration-color: #008080\">│</span> <span style=\"color: #000080; text-decoration-color: #000080; font-weight: bold\">yang baru, kini Asta dan Yuno pergi menuju </span>    <span style=\"color: #008080; text-decoration-color: #008080\">│</span>\n",
              "<span style=\"color: #008080; text-decoration-color: #008080\">│</span> <span style=\"color: #000080; text-decoration-color: #000080; font-weight: bold\">Kerajaan Clover untuk mewujudkan impian </span>       <span style=\"color: #008080; text-decoration-color: #008080\">│</span>\n",
              "<span style=\"color: #008080; text-decoration-color: #008080\">│</span> <span style=\"color: #000080; text-decoration-color: #000080; font-weight: bold\">mereka. </span>                                       <span style=\"color: #008080; text-decoration-color: #008080\">│</span>\n",
              "<span style=\"color: #008080; text-decoration-color: #008080\">╰────────────────────────────────────────────────╯</span>\n",
              "</pre>\n"
            ],
            "text/plain": [
              "\u001b[36m╭────────────────────────────────────────────────╮\u001b[0m\n",
              "\u001b[36m│\u001b[0m \u001b[1;32mJudul : Black Clover (Episode 1 – 170) \u001b[0m        \u001b[36m│\u001b[0m\n",
              "\u001b[36m│\u001b[0m \u001b[1;32mSubtitle Indonesia\u001b[0m                             \u001b[36m│\u001b[0m\n",
              "\u001b[36m│\u001b[0m \u001b[1;35mStatus : Completed\u001b[0m                             \u001b[36m│\u001b[0m\n",
              "\u001b[36m│\u001b[0m \u001b[1;37mSkor: 8.02\u001b[0m                                     \u001b[36m│\u001b[0m\n",
              "\u001b[36m│\u001b[0m \u001b[1;33mTanggal Rilis: Oct 3, 2017\u001b[0m                     \u001b[36m│\u001b[0m\n",
              "\u001b[36m│\u001b[0m \u001b[1;36mProduser: TV Tokyo, Avex Pictures, Shueisha\u001b[0m    \u001b[36m│\u001b[0m\n",
              "\u001b[36m│\u001b[0m \u001b[1;31mGenre : Action, Comedy, Fantasy, Magic, \u001b[0m       \u001b[36m│\u001b[0m\n",
              "\u001b[36m│\u001b[0m \u001b[1;31mShounen\u001b[0m                                        \u001b[36m│\u001b[0m\n",
              "\u001b[36m│\u001b[0m \u001b[1;34mSinopsis : Asta dan Yuno sejak kecil telah \u001b[0m    \u001b[36m│\u001b[0m\n",
              "\u001b[36m│\u001b[0m \u001b[1;34mditinggalkan oleh orang tua mereka di sebuah \u001b[0m  \u001b[36m│\u001b[0m\n",
              "\u001b[36m│\u001b[0m \u001b[1;34mgereja pada saat yang sama, sejak saat itu \u001b[0m    \u001b[36m│\u001b[0m\n",
              "\u001b[36m│\u001b[0m \u001b[1;34mhingga kini mereka telah di besarkan oleh \u001b[0m     \u001b[36m│\u001b[0m\n",
              "\u001b[36m│\u001b[0m \u001b[1;34mpemilik gereja. Mereka berdua selalu saja \u001b[0m     \u001b[36m│\u001b[0m\n",
              "\u001b[36m│\u001b[0m \u001b[1;34mbersaing untuk menentukan siapa yang lebih \u001b[0m    \u001b[36m│\u001b[0m\n",
              "\u001b[36m│\u001b[0m \u001b[1;34mhebat. Walaupun begitu, kini mulai terlihat \u001b[0m   \u001b[36m│\u001b[0m\n",
              "\u001b[36m│\u001b[0m \u001b[1;34mjauh kemampuan diantara keduanya.Yuno memilki \u001b[0m \u001b[36m│\u001b[0m\n",
              "\u001b[36m│\u001b[0m \u001b[1;34mbakat alami serta kemampuan dalam \u001b[0m             \u001b[36m│\u001b[0m\n",
              "\u001b[36m│\u001b[0m \u001b[1;34mmengendalikan sihir layaknya seorang jenius, \u001b[0m  \u001b[36m│\u001b[0m\n",
              "\u001b[36m│\u001b[0m \u001b[1;34msementara Asta sama sekali tak dapat \u001b[0m          \u001b[36m│\u001b[0m\n",
              "\u001b[36m│\u001b[0m \u001b[1;34mmenggunakan sihir, suatu hal yang sangat \u001b[0m      \u001b[36m│\u001b[0m\n",
              "\u001b[36m│\u001b[0m \u001b[1;34mjarang terjadi bagi dunia yang setiap orang \u001b[0m   \u001b[36m│\u001b[0m\n",
              "\u001b[36m│\u001b[0m \u001b[1;34mdapat memiliki kemampuan sihir. Walaupun \u001b[0m      \u001b[36m│\u001b[0m\n",
              "\u001b[36m│\u001b[0m \u001b[1;34mbegitu, Asta tak pernah menyerah, ia selalu \u001b[0m   \u001b[36m│\u001b[0m\n",
              "\u001b[36m│\u001b[0m \u001b[1;34mbejuang dan berusaha keras berlatih serta \u001b[0m     \u001b[36m│\u001b[0m\n",
              "\u001b[36m│\u001b[0m \u001b[1;34mmeningkatkan fisiknya agar dapat meraih \u001b[0m       \u001b[36m│\u001b[0m\n",
              "\u001b[36m│\u001b[0m \u001b[1;34mimpiannya, yakni menjadi Kaisar Sihir, \u001b[0m        \u001b[36m│\u001b[0m\n",
              "\u001b[36m│\u001b[0m \u001b[1;34mwalaupun dirinya tak memiliki sihir sama \u001b[0m      \u001b[36m│\u001b[0m\n",
              "\u001b[36m│\u001b[0m \u001b[1;34msekali.Tiba saat hari penentuan penerimaan \u001b[0m    \u001b[36m│\u001b[0m\n",
              "\u001b[36m│\u001b[0m \u001b[1;34mGrimoire (buku sihir). Yuno mendapatkan \u001b[0m       \u001b[36m│\u001b[0m\n",
              "\u001b[36m│\u001b[0m \u001b[1;34mgrimoire langka yakni semanggi daun empat \u001b[0m     \u001b[36m│\u001b[0m\n",
              "\u001b[36m│\u001b[0m \u001b[1;34m(biasanya orang-orang hanya mendapatkan \u001b[0m       \u001b[36m│\u001b[0m\n",
              "\u001b[36m│\u001b[0m \u001b[1;34msemanggi berdaun tiga), sayangnya saat itu \u001b[0m    \u001b[36m│\u001b[0m\n",
              "\u001b[36m│\u001b[0m \u001b[1;34mAsta tak mendapatkan apa-apa.Namun suatu hari,\u001b[0m \u001b[36m│\u001b[0m\n",
              "\u001b[36m│\u001b[0m \u001b[1;34msaat dirinya dalam keadaan bahaya, sebuah \u001b[0m     \u001b[36m│\u001b[0m\n",
              "\u001b[36m│\u001b[0m \u001b[1;34mGrimoire misterius muncul dihadapannya, \u001b[0m       \u001b[36m│\u001b[0m\n",
              "\u001b[36m│\u001b[0m \u001b[1;34mmemberikan asta sebuah pedang dan kekuatan \u001b[0m    \u001b[36m│\u001b[0m\n",
              "\u001b[36m│\u001b[0m \u001b[1;34myang luar biasa. Ternyata itu merupakan \u001b[0m       \u001b[36m│\u001b[0m\n",
              "\u001b[36m│\u001b[0m \u001b[1;34mGrimoire semanggi berdaun lima yang sangat \u001b[0m    \u001b[36m│\u001b[0m\n",
              "\u001b[36m│\u001b[0m \u001b[1;34mlangka muncul.Dengan tekad serta grimoirenya \u001b[0m  \u001b[36m│\u001b[0m\n",
              "\u001b[36m│\u001b[0m \u001b[1;34myang baru, kini Asta dan Yuno pergi menuju \u001b[0m    \u001b[36m│\u001b[0m\n",
              "\u001b[36m│\u001b[0m \u001b[1;34mKerajaan Clover untuk mewujudkan impian \u001b[0m       \u001b[36m│\u001b[0m\n",
              "\u001b[36m│\u001b[0m \u001b[1;34mmereka. \u001b[0m                                       \u001b[36m│\u001b[0m\n",
              "\u001b[36m╰────────────────────────────────────────────────╯\u001b[0m\n"
            ]
          },
          "metadata": {},
          "output_type": "display_data"
        },
        {
          "metadata": {
            "tags": null
          },
          "name": "stdout",
          "output_type": "stream",
          "text": [
            "Link: https://otakudesu.cloud/anime/blck-clover-sub-indo/\n",
            "--------------------\n"
          ]
        },
        {
          "data": {
            "text/html": [
              "<pre style=\"white-space:pre;overflow-x:auto;line-height:normal;font-family:Menlo,'DejaVu Sans Mono',consolas,'Courier New',monospace\"><span style=\"color: #800000; text-decoration-color: #800000; font-weight: bold\">Cari Anime : ⚠(type </span><span style=\"color: #800000; text-decoration-color: #800000; font-weight: bold\">'exit'</span><span style=\"color: #800000; text-decoration-color: #800000; font-weight: bold\"> to exit)</span></pre>\n"
            ],
            "text/plain": [
              "\u001b[1;31mCari Anime : ⚠\u001b[0m\u001b[1;31m(\u001b[0m\u001b[1;31mtype \u001b[0m\u001b[1;31m'exit'\u001b[0m\u001b[1;31m to exit\u001b[0m\u001b[1;31m)\u001b[0m"
            ]
          },
          "metadata": {},
          "output_type": "display_data"
        },
        {
          "metadata": {
            "tags": null
          },
          "name": "stdout",
          "output_type": "stream",
          "text": [
            "\n",
            "\n"
          ]
        },
        {
          "data": {
            "text/html": [
              "<pre style=\"white-space:pre;overflow-x:auto;line-height:normal;font-family:Menlo,'DejaVu Sans Mono',consolas,'Courier New',monospace\">👍 Anime ditemukan!\n",
              "</pre>\n"
            ],
            "text/plain": [
              "👍 Anime ditemukan!\n"
            ]
          },
          "metadata": {},
          "output_type": "display_data"
        },
        {
          "data": {
            "text/html": [
              "<pre style=\"white-space:pre;overflow-x:auto;line-height:normal;font-family:Menlo,'DejaVu Sans Mono',consolas,'Courier New',monospace\"><span style=\"color: #008080; text-decoration-color: #008080\">╭────────────────────────────────────────────────╮</span>\n",
              "<span style=\"color: #008080; text-decoration-color: #008080\">│</span> <span style=\"color: #008000; text-decoration-color: #008000; font-weight: bold\">Judul : Black Bullet (Episode 1 – 13) Subtitle</span> <span style=\"color: #008080; text-decoration-color: #008080\">│</span>\n",
              "<span style=\"color: #008080; text-decoration-color: #008080\">│</span> <span style=\"color: #008000; text-decoration-color: #008000; font-weight: bold\">Indonesia</span>                                      <span style=\"color: #008080; text-decoration-color: #008080\">│</span>\n",
              "<span style=\"color: #008080; text-decoration-color: #008080\">│</span> <span style=\"color: #800080; text-decoration-color: #800080; font-weight: bold\">Status : Completed</span>                             <span style=\"color: #008080; text-decoration-color: #008080\">│</span>\n",
              "<span style=\"color: #008080; text-decoration-color: #008080\">│</span> <span style=\"color: #c0c0c0; text-decoration-color: #c0c0c0; font-weight: bold\">Skor: 7.40</span>                                     <span style=\"color: #008080; text-decoration-color: #008080\">│</span>\n",
              "<span style=\"color: #008080; text-decoration-color: #008080\">│</span> <span style=\"color: #808000; text-decoration-color: #808000; font-weight: bold\">Tanggal Rilis: Apr 8, 2014</span>                     <span style=\"color: #008080; text-decoration-color: #008080\">│</span>\n",
              "<span style=\"color: #008080; text-decoration-color: #008080\">│</span> <span style=\"color: #008080; text-decoration-color: #008080; font-weight: bold\">Produser: Geneon Universal Entertainment, </span>     <span style=\"color: #008080; text-decoration-color: #008080\">│</span>\n",
              "<span style=\"color: #008080; text-decoration-color: #008080\">│</span> <span style=\"color: #008080; text-decoration-color: #008080; font-weight: bold\">AT-X, Showgate, NBCUniversal Entertainment </span>    <span style=\"color: #008080; text-decoration-color: #008080\">│</span>\n",
              "<span style=\"color: #008080; text-decoration-color: #008080\">│</span> <span style=\"color: #008080; text-decoration-color: #008080; font-weight: bold\">Japan</span>                                          <span style=\"color: #008080; text-decoration-color: #008080\">│</span>\n",
              "<span style=\"color: #008080; text-decoration-color: #008080\">│</span> <span style=\"color: #800000; text-decoration-color: #800000; font-weight: bold\">Genre : Action, Mystery, Sci-Fi, Seinen</span>        <span style=\"color: #008080; text-decoration-color: #008080\">│</span>\n",
              "<span style=\"color: #008080; text-decoration-color: #008080\">│</span> <span style=\"color: #000080; text-decoration-color: #000080; font-weight: bold\">Sinopsis : Berlatar di tahun 2021,  tahun itu </span> <span style=\"color: #008080; text-decoration-color: #008080\">│</span>\n",
              "<span style=\"color: #008080; text-decoration-color: #008080\">│</span> <span style=\"color: #000080; text-decoration-color: #000080; font-weight: bold\">merupakan awal dari ambang kepunahan umat </span>     <span style=\"color: #008080; text-decoration-color: #008080\">│</span>\n",
              "<span style=\"color: #008080; text-decoration-color: #008080\">│</span> <span style=\"color: #000080; text-decoration-color: #000080; font-weight: bold\">manusia karena diserah oleh Gastrea, Gastrea </span>  <span style=\"color: #008080; text-decoration-color: #008080\">│</span>\n",
              "<span style=\"color: #008080; text-decoration-color: #008080\">│</span> <span style=\"color: #000080; text-decoration-color: #000080; font-weight: bold\">merupakan makhluk yang mirip dengan serangga, </span> <span style=\"color: #008080; text-decoration-color: #008080\">│</span>\n",
              "<span style=\"color: #008080; text-decoration-color: #008080\">│</span> <span style=\"color: #000080; text-decoration-color: #000080; font-weight: bold\">makhluk misterius yang membunuh orang-orang </span>   <span style=\"color: #008080; text-decoration-color: #008080\">│</span>\n",
              "<span style=\"color: #008080; text-decoration-color: #008080\">│</span> <span style=\"color: #000080; text-decoration-color: #000080; font-weight: bold\">serta menyebarkan virus yang dapat mengubah </span>   <span style=\"color: #008080; text-decoration-color: #008080\">│</span>\n",
              "<span style=\"color: #008080; text-decoration-color: #008080\">│</span> <span style=\"color: #000080; text-decoration-color: #000080; font-weight: bold\">manusia menjadi Gastrea.Ada suatu kejadian </span>    <span style=\"color: #008080; text-decoration-color: #008080\">│</span>\n",
              "<span style=\"color: #008080; text-decoration-color: #008080\">│</span> <span style=\"color: #000080; text-decoration-color: #000080; font-weight: bold\">yang dimanfaatkan manusia untuk melawan </span>       <span style=\"color: #008080; text-decoration-color: #008080\">│</span>\n",
              "<span style=\"color: #008080; text-decoration-color: #008080\">│</span> <span style=\"color: #000080; text-decoration-color: #000080; font-weight: bold\">Gastrea, untuk virus yang menyebar dari ibu </span>   <span style=\"color: #008080; text-decoration-color: #008080\">│</span>\n",
              "<span style=\"color: #008080; text-decoration-color: #008080\">│</span> <span style=\"color: #000080; text-decoration-color: #000080; font-weight: bold\">hamil ke bayinya, gadis yang dilahrikan </span>       <span style=\"color: #008080; text-decoration-color: #008080\">│</span>\n",
              "<span style=\"color: #008080; text-decoration-color: #008080\">│</span> <span style=\"color: #000080; text-decoration-color: #000080; font-weight: bold\">kemudian akan menjadi anak-anak yang digunakan</span> <span style=\"color: #008080; text-decoration-color: #008080\">│</span>\n",
              "<span style=\"color: #008080; text-decoration-color: #008080\">│</span> <span style=\"color: #000080; text-decoration-color: #000080; font-weight: bold\">untuk melawan Gastrea itu sendiri yang </span>        <span style=\"color: #008080; text-decoration-color: #008080\">│</span>\n",
              "<span style=\"color: #008080; text-decoration-color: #008080\">│</span> <span style=\"color: #000080; text-decoration-color: #000080; font-weight: bold\">dinamakan dengan “Anak-anak terkutuk”. </span>        <span style=\"color: #008080; text-decoration-color: #008080\">│</span>\n",
              "<span style=\"color: #008080; text-decoration-color: #008080\">│</span> <span style=\"color: #000080; text-decoration-color: #000080; font-weight: bold\">Walaupun telah terinfeksi virus tersebut, </span>     <span style=\"color: #008080; text-decoration-color: #008080\">│</span>\n",
              "<span style=\"color: #008080; text-decoration-color: #008080\">│</span> <span style=\"color: #000080; text-decoration-color: #000080; font-weight: bold\">namun perubahannya menjadi Gastrea sangat </span>     <span style=\"color: #008080; text-decoration-color: #008080\">│</span>\n",
              "<span style=\"color: #008080; text-decoration-color: #008080\">│</span> <span style=\"color: #000080; text-decoration-color: #000080; font-weight: bold\">lambat meski memiliki kekuatan bawaan seperti </span> <span style=\"color: #008080; text-decoration-color: #008080\">│</span>\n",
              "<span style=\"color: #008080; text-decoration-color: #008080\">│</span> <span style=\"color: #000080; text-decoration-color: #000080; font-weight: bold\">regenerasi cepat dan memiliki kekuatan luar </span>   <span style=\"color: #008080; text-decoration-color: #008080\">│</span>\n",
              "<span style=\"color: #008080; text-decoration-color: #008080\">│</span> <span style=\"color: #000080; text-decoration-color: #000080; font-weight: bold\">biasa.Sepuluh tahun berlalu, kini manusia </span>     <span style=\"color: #008080; text-decoration-color: #008080\">│</span>\n",
              "<span style=\"color: #008080; text-decoration-color: #008080\">│</span> <span style=\"color: #000080; text-decoration-color: #000080; font-weight: bold\">telah berhasil bertahan dari serangan Gastrea </span> <span style=\"color: #008080; text-decoration-color: #008080\">│</span>\n",
              "<span style=\"color: #008080; text-decoration-color: #008080\">│</span> <span style=\"color: #000080; text-decoration-color: #000080; font-weight: bold\">dengan membangun monolith (rakasasa) dari </span>     <span style=\"color: #008080; text-decoration-color: #008080\">│</span>\n",
              "<span style=\"color: #008080; text-decoration-color: #008080\">│</span> <span style=\"color: #000080; text-decoration-color: #000080; font-weight: bold\">Varanium (logam hitam).Walaupun begitu, masih </span> <span style=\"color: #008080; text-decoration-color: #008080\">│</span>\n",
              "<span style=\"color: #008080; text-decoration-color: #008080\">│</span> <span style=\"color: #000080; text-decoration-color: #000080; font-weight: bold\">saja ada gastrea yang dapat menyusup masuk </span>    <span style=\"color: #008080; text-decoration-color: #008080\">│</span>\n",
              "<span style=\"color: #008080; text-decoration-color: #008080\">│</span> <span style=\"color: #000080; text-decoration-color: #000080; font-weight: bold\">kedalam kota, karena alasan itulah manusia </span>    <span style=\"color: #008080; text-decoration-color: #008080\">│</span>\n",
              "<span style=\"color: #008080; text-decoration-color: #008080\">│</span> <span style=\"color: #000080; text-decoration-color: #000080; font-weight: bold\">memanfaatkan Anak terkutuk untuk membasmi para</span> <span style=\"color: #008080; text-decoration-color: #008080\">│</span>\n",
              "<span style=\"color: #008080; text-decoration-color: #008080\">│</span> <span style=\"color: #000080; text-decoration-color: #000080; font-weight: bold\">Gastrea yang berhasil menyusup, pekerjaan </span>     <span style=\"color: #008080; text-decoration-color: #008080\">│</span>\n",
              "<span style=\"color: #008080; text-decoration-color: #008080\">│</span> <span style=\"color: #000080; text-decoration-color: #000080; font-weight: bold\">mereka pun disebut dengan Minkan </span>              <span style=\"color: #008080; text-decoration-color: #008080\">│</span>\n",
              "<span style=\"color: #008080; text-decoration-color: #008080\">│</span> <span style=\"color: #000080; text-decoration-color: #000080; font-weight: bold\">Keibi.Bercerita tentang seorang siswa bernama </span> <span style=\"color: #008080; text-decoration-color: #008080\">│</span>\n",
              "<span style=\"color: #008080; text-decoration-color: #008080\">│</span> <span style=\"color: #000080; text-decoration-color: #000080; font-weight: bold\">Rentarou Satomi yang juga bekerja sebagai </span>     <span style=\"color: #008080; text-decoration-color: #008080\">│</span>\n",
              "<span style=\"color: #008080; text-decoration-color: #008080\">│</span> <span style=\"color: #000080; text-decoration-color: #000080; font-weight: bold\">Minkan Keibi bersamaan dengan partnernya Enju </span> <span style=\"color: #008080; text-decoration-color: #008080\">│</span>\n",
              "<span style=\"color: #008080; text-decoration-color: #008080\">│</span> <span style=\"color: #000080; text-decoration-color: #000080; font-weight: bold\">Aihara yang merupakan Anak terkutuk.Kekuatan </span>  <span style=\"color: #008080; text-decoration-color: #008080\">│</span>\n",
              "<span style=\"color: #008080; text-decoration-color: #008080\">│</span> <span style=\"color: #000080; text-decoration-color: #000080; font-weight: bold\">duet mereka sangatlah hebat karena Rentarou </span>   <span style=\"color: #008080; text-decoration-color: #008080\">│</span>\n",
              "<span style=\"color: #008080; text-decoration-color: #008080\">│</span> <span style=\"color: #000080; text-decoration-color: #000080; font-weight: bold\">adalah setengah tubuh modifikasi karena </span>       <span style=\"color: #008080; text-decoration-color: #008080\">│</span>\n",
              "<span style=\"color: #008080; text-decoration-color: #008080\">│</span> <span style=\"color: #000080; text-decoration-color: #000080; font-weight: bold\">kecelakaan yang menimpanya saat kecil dan </span>     <span style=\"color: #008080; text-decoration-color: #008080\">│</span>\n",
              "<span style=\"color: #008080; text-decoration-color: #008080\">│</span> <span style=\"color: #000080; text-decoration-color: #000080; font-weight: bold\">Einju yang merupakan Anak terkutuk membuat </span>    <span style=\"color: #008080; text-decoration-color: #008080\">│</span>\n",
              "<span style=\"color: #008080; text-decoration-color: #008080\">│</span> <span style=\"color: #000080; text-decoration-color: #000080; font-weight: bold\">mereka menjadi pasangan yang kuat </span>             <span style=\"color: #008080; text-decoration-color: #008080\">│</span>\n",
              "<span style=\"color: #008080; text-decoration-color: #008080\">╰────────────────────────────────────────────────╯</span>\n",
              "</pre>\n"
            ],
            "text/plain": [
              "\u001b[36m╭────────────────────────────────────────────────╮\u001b[0m\n",
              "\u001b[36m│\u001b[0m \u001b[1;32mJudul : Black Bullet (Episode 1 – 13) Subtitle\u001b[0m \u001b[36m│\u001b[0m\n",
              "\u001b[36m│\u001b[0m \u001b[1;32mIndonesia\u001b[0m                                      \u001b[36m│\u001b[0m\n",
              "\u001b[36m│\u001b[0m \u001b[1;35mStatus : Completed\u001b[0m                             \u001b[36m│\u001b[0m\n",
              "\u001b[36m│\u001b[0m \u001b[1;37mSkor: 7.40\u001b[0m                                     \u001b[36m│\u001b[0m\n",
              "\u001b[36m│\u001b[0m \u001b[1;33mTanggal Rilis: Apr 8, 2014\u001b[0m                     \u001b[36m│\u001b[0m\n",
              "\u001b[36m│\u001b[0m \u001b[1;36mProduser: Geneon Universal Entertainment, \u001b[0m     \u001b[36m│\u001b[0m\n",
              "\u001b[36m│\u001b[0m \u001b[1;36mAT-X, Showgate, NBCUniversal Entertainment \u001b[0m    \u001b[36m│\u001b[0m\n",
              "\u001b[36m│\u001b[0m \u001b[1;36mJapan\u001b[0m                                          \u001b[36m│\u001b[0m\n",
              "\u001b[36m│\u001b[0m \u001b[1;31mGenre : Action, Mystery, Sci-Fi, Seinen\u001b[0m        \u001b[36m│\u001b[0m\n",
              "\u001b[36m│\u001b[0m \u001b[1;34mSinopsis : Berlatar di tahun 2021,  tahun itu \u001b[0m \u001b[36m│\u001b[0m\n",
              "\u001b[36m│\u001b[0m \u001b[1;34mmerupakan awal dari ambang kepunahan umat \u001b[0m     \u001b[36m│\u001b[0m\n",
              "\u001b[36m│\u001b[0m \u001b[1;34mmanusia karena diserah oleh Gastrea, Gastrea \u001b[0m  \u001b[36m│\u001b[0m\n",
              "\u001b[36m│\u001b[0m \u001b[1;34mmerupakan makhluk yang mirip dengan serangga, \u001b[0m \u001b[36m│\u001b[0m\n",
              "\u001b[36m│\u001b[0m \u001b[1;34mmakhluk misterius yang membunuh orang-orang \u001b[0m   \u001b[36m│\u001b[0m\n",
              "\u001b[36m│\u001b[0m \u001b[1;34mserta menyebarkan virus yang dapat mengubah \u001b[0m   \u001b[36m│\u001b[0m\n",
              "\u001b[36m│\u001b[0m \u001b[1;34mmanusia menjadi Gastrea.Ada suatu kejadian \u001b[0m    \u001b[36m│\u001b[0m\n",
              "\u001b[36m│\u001b[0m \u001b[1;34myang dimanfaatkan manusia untuk melawan \u001b[0m       \u001b[36m│\u001b[0m\n",
              "\u001b[36m│\u001b[0m \u001b[1;34mGastrea, untuk virus yang menyebar dari ibu \u001b[0m   \u001b[36m│\u001b[0m\n",
              "\u001b[36m│\u001b[0m \u001b[1;34mhamil ke bayinya, gadis yang dilahrikan \u001b[0m       \u001b[36m│\u001b[0m\n",
              "\u001b[36m│\u001b[0m \u001b[1;34mkemudian akan menjadi anak-anak yang digunakan\u001b[0m \u001b[36m│\u001b[0m\n",
              "\u001b[36m│\u001b[0m \u001b[1;34muntuk melawan Gastrea itu sendiri yang \u001b[0m        \u001b[36m│\u001b[0m\n",
              "\u001b[36m│\u001b[0m \u001b[1;34mdinamakan dengan “Anak-anak terkutuk”. \u001b[0m        \u001b[36m│\u001b[0m\n",
              "\u001b[36m│\u001b[0m \u001b[1;34mWalaupun telah terinfeksi virus tersebut, \u001b[0m     \u001b[36m│\u001b[0m\n",
              "\u001b[36m│\u001b[0m \u001b[1;34mnamun perubahannya menjadi Gastrea sangat \u001b[0m     \u001b[36m│\u001b[0m\n",
              "\u001b[36m│\u001b[0m \u001b[1;34mlambat meski memiliki kekuatan bawaan seperti \u001b[0m \u001b[36m│\u001b[0m\n",
              "\u001b[36m│\u001b[0m \u001b[1;34mregenerasi cepat dan memiliki kekuatan luar \u001b[0m   \u001b[36m│\u001b[0m\n",
              "\u001b[36m│\u001b[0m \u001b[1;34mbiasa.Sepuluh tahun berlalu, kini manusia \u001b[0m     \u001b[36m│\u001b[0m\n",
              "\u001b[36m│\u001b[0m \u001b[1;34mtelah berhasil bertahan dari serangan Gastrea \u001b[0m \u001b[36m│\u001b[0m\n",
              "\u001b[36m│\u001b[0m \u001b[1;34mdengan membangun monolith (rakasasa) dari \u001b[0m     \u001b[36m│\u001b[0m\n",
              "\u001b[36m│\u001b[0m \u001b[1;34mVaranium (logam hitam).Walaupun begitu, masih \u001b[0m \u001b[36m│\u001b[0m\n",
              "\u001b[36m│\u001b[0m \u001b[1;34msaja ada gastrea yang dapat menyusup masuk \u001b[0m    \u001b[36m│\u001b[0m\n",
              "\u001b[36m│\u001b[0m \u001b[1;34mkedalam kota, karena alasan itulah manusia \u001b[0m    \u001b[36m│\u001b[0m\n",
              "\u001b[36m│\u001b[0m \u001b[1;34mmemanfaatkan Anak terkutuk untuk membasmi para\u001b[0m \u001b[36m│\u001b[0m\n",
              "\u001b[36m│\u001b[0m \u001b[1;34mGastrea yang berhasil menyusup, pekerjaan \u001b[0m     \u001b[36m│\u001b[0m\n",
              "\u001b[36m│\u001b[0m \u001b[1;34mmereka pun disebut dengan Minkan \u001b[0m              \u001b[36m│\u001b[0m\n",
              "\u001b[36m│\u001b[0m \u001b[1;34mKeibi.Bercerita tentang seorang siswa bernama \u001b[0m \u001b[36m│\u001b[0m\n",
              "\u001b[36m│\u001b[0m \u001b[1;34mRentarou Satomi yang juga bekerja sebagai \u001b[0m     \u001b[36m│\u001b[0m\n",
              "\u001b[36m│\u001b[0m \u001b[1;34mMinkan Keibi bersamaan dengan partnernya Enju \u001b[0m \u001b[36m│\u001b[0m\n",
              "\u001b[36m│\u001b[0m \u001b[1;34mAihara yang merupakan Anak terkutuk.Kekuatan \u001b[0m  \u001b[36m│\u001b[0m\n",
              "\u001b[36m│\u001b[0m \u001b[1;34mduet mereka sangatlah hebat karena Rentarou \u001b[0m   \u001b[36m│\u001b[0m\n",
              "\u001b[36m│\u001b[0m \u001b[1;34madalah setengah tubuh modifikasi karena \u001b[0m       \u001b[36m│\u001b[0m\n",
              "\u001b[36m│\u001b[0m \u001b[1;34mkecelakaan yang menimpanya saat kecil dan \u001b[0m     \u001b[36m│\u001b[0m\n",
              "\u001b[36m│\u001b[0m \u001b[1;34mEinju yang merupakan Anak terkutuk membuat \u001b[0m    \u001b[36m│\u001b[0m\n",
              "\u001b[36m│\u001b[0m \u001b[1;34mmereka menjadi pasangan yang kuat \u001b[0m             \u001b[36m│\u001b[0m\n",
              "\u001b[36m╰────────────────────────────────────────────────╯\u001b[0m\n"
            ]
          },
          "metadata": {},
          "output_type": "display_data"
        },
        {
          "metadata": {
            "tags": null
          },
          "name": "stdout",
          "output_type": "stream",
          "text": [
            "Link: https://otakudesu.cloud/anime/black-bull-subtitle-indonesia/\n",
            "--------------------\n"
          ]
        },
        {
          "data": {
            "text/html": [
              "<pre style=\"white-space:pre;overflow-x:auto;line-height:normal;font-family:Menlo,'DejaVu Sans Mono',consolas,'Courier New',monospace\"><span style=\"color: #800000; text-decoration-color: #800000; font-weight: bold\">Cari Anime : ⚠(type </span><span style=\"color: #800000; text-decoration-color: #800000; font-weight: bold\">'exit'</span><span style=\"color: #800000; text-decoration-color: #800000; font-weight: bold\"> to exit)</span></pre>\n"
            ],
            "text/plain": [
              "\u001b[1;31mCari Anime : ⚠\u001b[0m\u001b[1;31m(\u001b[0m\u001b[1;31mtype \u001b[0m\u001b[1;31m'exit'\u001b[0m\u001b[1;31m to exit\u001b[0m\u001b[1;31m)\u001b[0m"
            ]
          },
          "metadata": {},
          "output_type": "display_data"
        },
        {
          "metadata": {
            "tags": null
          },
          "name": "stdout",
          "output_type": "stream",
          "text": [
            "\n",
            "\n"
          ]
        },
        {
          "data": {
            "text/html": [
              "<pre style=\"white-space:pre;overflow-x:auto;line-height:normal;font-family:Menlo,'DejaVu Sans Mono',consolas,'Courier New',monospace\">👍 Anime ditemukan!\n",
              "</pre>\n"
            ],
            "text/plain": [
              "👍 Anime ditemukan!\n"
            ]
          },
          "metadata": {},
          "output_type": "display_data"
        },
        {
          "data": {
            "text/html": [
              "<pre style=\"white-space:pre;overflow-x:auto;line-height:normal;font-family:Menlo,'DejaVu Sans Mono',consolas,'Courier New',monospace\"><span style=\"color: #008080; text-decoration-color: #008080\">╭────────────────────────────────────────────────╮</span>\n",
              "<span style=\"color: #008080; text-decoration-color: #008080\">│</span> <span style=\"color: #008000; text-decoration-color: #008000; font-weight: bold\">Judul : Boruto: Naruto Next Generations </span>       <span style=\"color: #008080; text-decoration-color: #008080\">│</span>\n",
              "<span style=\"color: #008080; text-decoration-color: #008080\">│</span> <span style=\"color: #008000; text-decoration-color: #008000; font-weight: bold\">Subtitle Indonesia</span>                             <span style=\"color: #008080; text-decoration-color: #008080\">│</span>\n",
              "<span style=\"color: #008080; text-decoration-color: #008080\">│</span> <span style=\"color: #800080; text-decoration-color: #800080; font-weight: bold\">Status : Ongoing</span>                               <span style=\"color: #008080; text-decoration-color: #008080\">│</span>\n",
              "<span style=\"color: #008080; text-decoration-color: #008080\">│</span> <span style=\"color: #c0c0c0; text-decoration-color: #c0c0c0; font-weight: bold\">Skor: 6.15</span>                                     <span style=\"color: #008080; text-decoration-color: #008080\">│</span>\n",
              "<span style=\"color: #008080; text-decoration-color: #008080\">│</span> <span style=\"color: #808000; text-decoration-color: #808000; font-weight: bold\">Tanggal Rilis: Apr 5, 2017</span>                     <span style=\"color: #008080; text-decoration-color: #008080\">│</span>\n",
              "<span style=\"color: #008080; text-decoration-color: #008080\">│</span> <span style=\"color: #008080; text-decoration-color: #008080; font-weight: bold\">Produser: TV Tokyo, Aniplex, Rakuonsha, </span>       <span style=\"color: #008080; text-decoration-color: #008080\">│</span>\n",
              "<span style=\"color: #008080; text-decoration-color: #008080\">│</span> <span style=\"color: #008080; text-decoration-color: #008080; font-weight: bold\">Shueisha</span>                                       <span style=\"color: #008080; text-decoration-color: #008080\">│</span>\n",
              "<span style=\"color: #008080; text-decoration-color: #008080\">│</span> <span style=\"color: #800000; text-decoration-color: #800000; font-weight: bold\">Genre : Action, Adventure, Martial Arts, </span>      <span style=\"color: #008080; text-decoration-color: #008080\">│</span>\n",
              "<span style=\"color: #008080; text-decoration-color: #008080\">│</span> <span style=\"color: #800000; text-decoration-color: #800000; font-weight: bold\">Shounen, Super Power</span>                           <span style=\"color: #008080; text-decoration-color: #008080\">│</span>\n",
              "<span style=\"color: #008080; text-decoration-color: #008080\">│</span> <span style=\"color: #000080; text-decoration-color: #000080; font-weight: bold\">Sinopsis : Boruto: Naruto Next Generations </span>    <span style=\"color: #008080; text-decoration-color: #008080\">│</span>\n",
              "<span style=\"color: #008080; text-decoration-color: #008080\">│</span> <span style=\"color: #000080; text-decoration-color: #000080; font-weight: bold\">menceritakan tentang dunia ninja yang damai </span>   <span style=\"color: #008080; text-decoration-color: #008080\">│</span>\n",
              "<span style=\"color: #008080; text-decoration-color: #008080\">│</span> <span style=\"color: #000080; text-decoration-color: #000080; font-weight: bold\">setelah peperangan yang terjadi di Naruto: </span>    <span style=\"color: #008080; text-decoration-color: #008080\">│</span>\n",
              "<span style=\"color: #008080; text-decoration-color: #008080\">│</span> <span style=\"color: #000080; text-decoration-color: #000080; font-weight: bold\">Shippuuden.Cerita berfokus terhadap Boruto </span>    <span style=\"color: #008080; text-decoration-color: #008080\">│</span>\n",
              "<span style=\"color: #008080; text-decoration-color: #008080\">│</span> <span style=\"color: #000080; text-decoration-color: #000080; font-weight: bold\">Uzumaki yang merupakan putra dari sang ninja </span>  <span style=\"color: #008080; text-decoration-color: #008080\">│</span>\n",
              "<span style=\"color: #008080; text-decoration-color: #008080\">│</span> <span style=\"color: #000080; text-decoration-color: #000080; font-weight: bold\">legendaris penyelamat dunia, Naruto Uzumaki </span>   <span style=\"color: #008080; text-decoration-color: #008080\">│</span>\n",
              "<span style=\"color: #008080; text-decoration-color: #008080\">│</span> <span style=\"color: #000080; text-decoration-color: #000080; font-weight: bold\">yang kini menjabat sebagai Hokage ke-7. Boruto</span> <span style=\"color: #008080; text-decoration-color: #008080\">│</span>\n",
              "<span style=\"color: #008080; text-decoration-color: #008080\">│</span> <span style=\"color: #000080; text-decoration-color: #000080; font-weight: bold\">memiliki sifat yang keras kepala dan susah </span>    <span style=\"color: #008080; text-decoration-color: #008080\">│</span>\n",
              "<span style=\"color: #008080; text-decoration-color: #008080\">│</span> <span style=\"color: #000080; text-decoration-color: #000080; font-weight: bold\">diatur, ia ingin terbebas dari kehidupan yang </span> <span style=\"color: #008080; text-decoration-color: #008080\">│</span>\n",
              "<span style=\"color: #008080; text-decoration-color: #008080\">│</span> <span style=\"color: #000080; text-decoration-color: #000080; font-weight: bold\">mengekangnya dan ingin melangkah bebas sesuai </span> <span style=\"color: #008080; text-decoration-color: #008080\">│</span>\n",
              "<span style=\"color: #008080; text-decoration-color: #008080\">│</span> <span style=\"color: #000080; text-decoration-color: #000080; font-weight: bold\">keinginannya sendiri.Kehidupan para ninja </span>     <span style=\"color: #008080; text-decoration-color: #008080\">│</span>\n",
              "<span style=\"color: #008080; text-decoration-color: #008080\">│</span> <span style=\"color: #000080; text-decoration-color: #000080; font-weight: bold\">generasi baru di dunia yang sedang berevolusi </span> <span style=\"color: #008080; text-decoration-color: #008080\">│</span>\n",
              "<span style=\"color: #008080; text-decoration-color: #008080\">│</span> <span style=\"color: #000080; text-decoration-color: #000080; font-weight: bold\">menjadi modern membuat tujuan utama para </span>      <span style=\"color: #008080; text-decoration-color: #008080\">│</span>\n",
              "<span style=\"color: #008080; text-decoration-color: #008080\">│</span> <span style=\"color: #000080; text-decoration-color: #000080; font-weight: bold\">shinobi berubah, tak lagi berfokus pada </span>       <span style=\"color: #008080; text-decoration-color: #008080\">│</span>\n",
              "<span style=\"color: #008080; text-decoration-color: #008080\">│</span> <span style=\"color: #000080; text-decoration-color: #000080; font-weight: bold\">kekuatan dan peperangan, mereka harus ikut </span>    <span style=\"color: #008080; text-decoration-color: #008080\">│</span>\n",
              "<span style=\"color: #008080; text-decoration-color: #008080\">│</span> <span style=\"color: #000080; text-decoration-color: #000080; font-weight: bold\">dalam perkembangan jaman dan </span>                  <span style=\"color: #008080; text-decoration-color: #008080\">│</span>\n",
              "<span style=\"color: #008080; text-decoration-color: #008080\">│</span> <span style=\"color: #000080; text-decoration-color: #000080; font-weight: bold\">teknologi.Bagaimanakah kisah Boruto dan </span>       <span style=\"color: #008080; text-decoration-color: #008080\">│</span>\n",
              "<span style=\"color: #008080; text-decoration-color: #008080\">│</span> <span style=\"color: #000080; text-decoration-color: #000080; font-weight: bold\">teman-temannya beserta seluruh shinobi di </span>     <span style=\"color: #008080; text-decoration-color: #008080\">│</span>\n",
              "<span style=\"color: #008080; text-decoration-color: #008080\">│</span> <span style=\"color: #000080; text-decoration-color: #000080; font-weight: bold\">generasi baru kali ini? </span>                       <span style=\"color: #008080; text-decoration-color: #008080\">│</span>\n",
              "<span style=\"color: #008080; text-decoration-color: #008080\">╰────────────────────────────────────────────────╯</span>\n",
              "</pre>\n"
            ],
            "text/plain": [
              "\u001b[36m╭────────────────────────────────────────────────╮\u001b[0m\n",
              "\u001b[36m│\u001b[0m \u001b[1;32mJudul : Boruto: Naruto Next Generations \u001b[0m       \u001b[36m│\u001b[0m\n",
              "\u001b[36m│\u001b[0m \u001b[1;32mSubtitle Indonesia\u001b[0m                             \u001b[36m│\u001b[0m\n",
              "\u001b[36m│\u001b[0m \u001b[1;35mStatus : Ongoing\u001b[0m                               \u001b[36m│\u001b[0m\n",
              "\u001b[36m│\u001b[0m \u001b[1;37mSkor: 6.15\u001b[0m                                     \u001b[36m│\u001b[0m\n",
              "\u001b[36m│\u001b[0m \u001b[1;33mTanggal Rilis: Apr 5, 2017\u001b[0m                     \u001b[36m│\u001b[0m\n",
              "\u001b[36m│\u001b[0m \u001b[1;36mProduser: TV Tokyo, Aniplex, Rakuonsha, \u001b[0m       \u001b[36m│\u001b[0m\n",
              "\u001b[36m│\u001b[0m \u001b[1;36mShueisha\u001b[0m                                       \u001b[36m│\u001b[0m\n",
              "\u001b[36m│\u001b[0m \u001b[1;31mGenre : Action, Adventure, Martial Arts, \u001b[0m      \u001b[36m│\u001b[0m\n",
              "\u001b[36m│\u001b[0m \u001b[1;31mShounen, Super Power\u001b[0m                           \u001b[36m│\u001b[0m\n",
              "\u001b[36m│\u001b[0m \u001b[1;34mSinopsis : Boruto: Naruto Next Generations \u001b[0m    \u001b[36m│\u001b[0m\n",
              "\u001b[36m│\u001b[0m \u001b[1;34mmenceritakan tentang dunia ninja yang damai \u001b[0m   \u001b[36m│\u001b[0m\n",
              "\u001b[36m│\u001b[0m \u001b[1;34msetelah peperangan yang terjadi di Naruto: \u001b[0m    \u001b[36m│\u001b[0m\n",
              "\u001b[36m│\u001b[0m \u001b[1;34mShippuuden.Cerita berfokus terhadap Boruto \u001b[0m    \u001b[36m│\u001b[0m\n",
              "\u001b[36m│\u001b[0m \u001b[1;34mUzumaki yang merupakan putra dari sang ninja \u001b[0m  \u001b[36m│\u001b[0m\n",
              "\u001b[36m│\u001b[0m \u001b[1;34mlegendaris penyelamat dunia, Naruto Uzumaki \u001b[0m   \u001b[36m│\u001b[0m\n",
              "\u001b[36m│\u001b[0m \u001b[1;34myang kini menjabat sebagai Hokage ke-7. Boruto\u001b[0m \u001b[36m│\u001b[0m\n",
              "\u001b[36m│\u001b[0m \u001b[1;34mmemiliki sifat yang keras kepala dan susah \u001b[0m    \u001b[36m│\u001b[0m\n",
              "\u001b[36m│\u001b[0m \u001b[1;34mdiatur, ia ingin terbebas dari kehidupan yang \u001b[0m \u001b[36m│\u001b[0m\n",
              "\u001b[36m│\u001b[0m \u001b[1;34mmengekangnya dan ingin melangkah bebas sesuai \u001b[0m \u001b[36m│\u001b[0m\n",
              "\u001b[36m│\u001b[0m \u001b[1;34mkeinginannya sendiri.Kehidupan para ninja \u001b[0m     \u001b[36m│\u001b[0m\n",
              "\u001b[36m│\u001b[0m \u001b[1;34mgenerasi baru di dunia yang sedang berevolusi \u001b[0m \u001b[36m│\u001b[0m\n",
              "\u001b[36m│\u001b[0m \u001b[1;34mmenjadi modern membuat tujuan utama para \u001b[0m      \u001b[36m│\u001b[0m\n",
              "\u001b[36m│\u001b[0m \u001b[1;34mshinobi berubah, tak lagi berfokus pada \u001b[0m       \u001b[36m│\u001b[0m\n",
              "\u001b[36m│\u001b[0m \u001b[1;34mkekuatan dan peperangan, mereka harus ikut \u001b[0m    \u001b[36m│\u001b[0m\n",
              "\u001b[36m│\u001b[0m \u001b[1;34mdalam perkembangan jaman dan \u001b[0m                  \u001b[36m│\u001b[0m\n",
              "\u001b[36m│\u001b[0m \u001b[1;34mteknologi.Bagaimanakah kisah Boruto dan \u001b[0m       \u001b[36m│\u001b[0m\n",
              "\u001b[36m│\u001b[0m \u001b[1;34mteman-temannya beserta seluruh shinobi di \u001b[0m     \u001b[36m│\u001b[0m\n",
              "\u001b[36m│\u001b[0m \u001b[1;34mgenerasi baru kali ini? \u001b[0m                       \u001b[36m│\u001b[0m\n",
              "\u001b[36m╰────────────────────────────────────────────────╯\u001b[0m\n"
            ]
          },
          "metadata": {},
          "output_type": "display_data"
        },
        {
          "metadata": {
            "tags": null
          },
          "name": "stdout",
          "output_type": "stream",
          "text": [
            "Link: https://otakudesu.cloud/anime/borto-sub-indo/\n",
            "--------------------\n"
          ]
        },
        {
          "data": {
            "text/html": [
              "<pre style=\"white-space:pre;overflow-x:auto;line-height:normal;font-family:Menlo,'DejaVu Sans Mono',consolas,'Courier New',monospace\"><span style=\"color: #800000; text-decoration-color: #800000; font-weight: bold\">Cari Anime : ⚠(type </span><span style=\"color: #800000; text-decoration-color: #800000; font-weight: bold\">'exit'</span><span style=\"color: #800000; text-decoration-color: #800000; font-weight: bold\"> to exit)</span></pre>\n"
            ],
            "text/plain": [
              "\u001b[1;31mCari Anime : ⚠\u001b[0m\u001b[1;31m(\u001b[0m\u001b[1;31mtype \u001b[0m\u001b[1;31m'exit'\u001b[0m\u001b[1;31m to exit\u001b[0m\u001b[1;31m)\u001b[0m"
            ]
          },
          "metadata": {},
          "output_type": "display_data"
        },
        {
          "metadata": {
            "tags": null
          },
          "name": "stdout",
          "output_type": "stream",
          "text": [
            "\n",
            "\n"
          ]
        },
        {
          "data": {
            "text/html": [
              "<pre style=\"white-space:pre;overflow-x:auto;line-height:normal;font-family:Menlo,'DejaVu Sans Mono',consolas,'Courier New',monospace\">👍 Anime ditemukan!\n",
              "</pre>\n"
            ],
            "text/plain": [
              "👍 Anime ditemukan!\n"
            ]
          },
          "metadata": {},
          "output_type": "display_data"
        },
        {
          "data": {
            "text/html": [
              "<pre style=\"white-space:pre;overflow-x:auto;line-height:normal;font-family:Menlo,'DejaVu Sans Mono',consolas,'Courier New',monospace\"><span style=\"color: #008080; text-decoration-color: #008080\">╭────────────────────────────────────────────────╮</span>\n",
              "<span style=\"color: #008080; text-decoration-color: #008080\">│</span> <span style=\"color: #008000; text-decoration-color: #008000; font-weight: bold\">Judul : Fate/Grand Order: Zettai Majuu Sensen </span> <span style=\"color: #008080; text-decoration-color: #008080\">│</span>\n",
              "<span style=\"color: #008080; text-decoration-color: #008080\">│</span> <span style=\"color: #008000; text-decoration-color: #008000; font-weight: bold\">Babylonia (Episode 1 – 21) Subtitle Indonesia</span>  <span style=\"color: #008080; text-decoration-color: #008080\">│</span>\n",
              "<span style=\"color: #008080; text-decoration-color: #008080\">│</span> <span style=\"color: #800080; text-decoration-color: #800080; font-weight: bold\">Status : Completed</span>                             <span style=\"color: #008080; text-decoration-color: #008080\">│</span>\n",
              "<span style=\"color: #008080; text-decoration-color: #008080\">│</span> <span style=\"color: #c0c0c0; text-decoration-color: #c0c0c0; font-weight: bold\">Skor: 8.04</span>                                     <span style=\"color: #008080; text-decoration-color: #008080\">│</span>\n",
              "<span style=\"color: #008080; text-decoration-color: #008080\">│</span> <span style=\"color: #808000; text-decoration-color: #808000; font-weight: bold\">Tanggal Rilis: Oct 5, 2019</span>                     <span style=\"color: #008080; text-decoration-color: #008080\">│</span>\n",
              "<span style=\"color: #008080; text-decoration-color: #008080\">│</span> <span style=\"color: #008080; text-decoration-color: #008080; font-weight: bold\">Produser: Aniplex</span>                              <span style=\"color: #008080; text-decoration-color: #008080\">│</span>\n",
              "<span style=\"color: #008080; text-decoration-color: #008080\">│</span> <span style=\"color: #800000; text-decoration-color: #800000; font-weight: bold\">Genre : Action, Fantasy, Magic, Supernatural, </span> <span style=\"color: #008080; text-decoration-color: #008080\">│</span>\n",
              "<span style=\"color: #008080; text-decoration-color: #008080\">│</span> <span style=\"color: #800000; text-decoration-color: #800000; font-weight: bold\">Action, Fantasy, Magic, Supernatural, Action, </span> <span style=\"color: #008080; text-decoration-color: #008080\">│</span>\n",
              "<span style=\"color: #008080; text-decoration-color: #008080\">│</span> <span style=\"color: #800000; text-decoration-color: #800000; font-weight: bold\">Fantasy, Magic, Supernatural, Action, Drama, </span>  <span style=\"color: #008080; text-decoration-color: #008080\">│</span>\n",
              "<span style=\"color: #008080; text-decoration-color: #008080\">│</span> <span style=\"color: #800000; text-decoration-color: #800000; font-weight: bold\">Fantasy, Magic, Supernatural, Action, Comedy, </span> <span style=\"color: #008080; text-decoration-color: #008080\">│</span>\n",
              "<span style=\"color: #008080; text-decoration-color: #008080\">│</span> <span style=\"color: #800000; text-decoration-color: #800000; font-weight: bold\">Fantasy, Magic, Slice of Life, Action, Comedy,</span> <span style=\"color: #008080; text-decoration-color: #008080\">│</span>\n",
              "<span style=\"color: #008080; text-decoration-color: #008080\">│</span> <span style=\"color: #800000; text-decoration-color: #800000; font-weight: bold\">Fantasy, Magic, Slice of Life, Action, Comedy,</span> <span style=\"color: #008080; text-decoration-color: #008080\">│</span>\n",
              "<span style=\"color: #008080; text-decoration-color: #008080\">│</span> <span style=\"color: #800000; text-decoration-color: #800000; font-weight: bold\">Fantasy, Magic, Action, Fantasy, Magic, </span>       <span style=\"color: #008080; text-decoration-color: #008080\">│</span>\n",
              "<span style=\"color: #008080; text-decoration-color: #008080\">│</span> <span style=\"color: #800000; text-decoration-color: #800000; font-weight: bold\">Supernatural, Action, Fantasy, Magic, </span>         <span style=\"color: #008080; text-decoration-color: #008080\">│</span>\n",
              "<span style=\"color: #008080; text-decoration-color: #008080\">│</span> <span style=\"color: #800000; text-decoration-color: #800000; font-weight: bold\">Supernatural, Action, Fantasy, Fantasy, </span>       <span style=\"color: #008080; text-decoration-color: #008080\">│</span>\n",
              "<span style=\"color: #008080; text-decoration-color: #008080\">│</span> <span style=\"color: #800000; text-decoration-color: #800000; font-weight: bold\">Mystery, Supernatural</span>                          <span style=\"color: #008080; text-decoration-color: #008080\">│</span>\n",
              "<span style=\"color: #008080; text-decoration-color: #008080\">│</span> <span style=\"color: #000080; text-decoration-color: #000080; font-weight: bold\">Sinopsis : Mengisahkan tentang perang cawan </span>   <span style=\"color: #008080; text-decoration-color: #008080\">│</span>\n",
              "<span style=\"color: #008080; text-decoration-color: #008080\">│</span> <span style=\"color: #000080; text-decoration-color: #000080; font-weight: bold\">ke-7. </span>                                         <span style=\"color: #008080; text-decoration-color: #008080\">│</span>\n",
              "<span style=\"color: #008080; text-decoration-color: #008080\">╰────────────────────────────────────────────────╯</span>\n",
              "</pre>\n"
            ],
            "text/plain": [
              "\u001b[36m╭────────────────────────────────────────────────╮\u001b[0m\n",
              "\u001b[36m│\u001b[0m \u001b[1;32mJudul : Fate/Grand Order: Zettai Majuu Sensen \u001b[0m \u001b[36m│\u001b[0m\n",
              "\u001b[36m│\u001b[0m \u001b[1;32mBabylonia (Episode 1 – 21) Subtitle Indonesia\u001b[0m  \u001b[36m│\u001b[0m\n",
              "\u001b[36m│\u001b[0m \u001b[1;35mStatus : Completed\u001b[0m                             \u001b[36m│\u001b[0m\n",
              "\u001b[36m│\u001b[0m \u001b[1;37mSkor: 8.04\u001b[0m                                     \u001b[36m│\u001b[0m\n",
              "\u001b[36m│\u001b[0m \u001b[1;33mTanggal Rilis: Oct 5, 2019\u001b[0m                     \u001b[36m│\u001b[0m\n",
              "\u001b[36m│\u001b[0m \u001b[1;36mProduser: Aniplex\u001b[0m                              \u001b[36m│\u001b[0m\n",
              "\u001b[36m│\u001b[0m \u001b[1;31mGenre : Action, Fantasy, Magic, Supernatural, \u001b[0m \u001b[36m│\u001b[0m\n",
              "\u001b[36m│\u001b[0m \u001b[1;31mAction, Fantasy, Magic, Supernatural, Action, \u001b[0m \u001b[36m│\u001b[0m\n",
              "\u001b[36m│\u001b[0m \u001b[1;31mFantasy, Magic, Supernatural, Action, Drama, \u001b[0m  \u001b[36m│\u001b[0m\n",
              "\u001b[36m│\u001b[0m \u001b[1;31mFantasy, Magic, Supernatural, Action, Comedy, \u001b[0m \u001b[36m│\u001b[0m\n",
              "\u001b[36m│\u001b[0m \u001b[1;31mFantasy, Magic, Slice of Life, Action, Comedy,\u001b[0m \u001b[36m│\u001b[0m\n",
              "\u001b[36m│\u001b[0m \u001b[1;31mFantasy, Magic, Slice of Life, Action, Comedy,\u001b[0m \u001b[36m│\u001b[0m\n",
              "\u001b[36m│\u001b[0m \u001b[1;31mFantasy, Magic, Action, Fantasy, Magic, \u001b[0m       \u001b[36m│\u001b[0m\n",
              "\u001b[36m│\u001b[0m \u001b[1;31mSupernatural, Action, Fantasy, Magic, \u001b[0m         \u001b[36m│\u001b[0m\n",
              "\u001b[36m│\u001b[0m \u001b[1;31mSupernatural, Action, Fantasy, Fantasy, \u001b[0m       \u001b[36m│\u001b[0m\n",
              "\u001b[36m│\u001b[0m \u001b[1;31mMystery, Supernatural\u001b[0m                          \u001b[36m│\u001b[0m\n",
              "\u001b[36m│\u001b[0m \u001b[1;34mSinopsis : Mengisahkan tentang perang cawan \u001b[0m   \u001b[36m│\u001b[0m\n",
              "\u001b[36m│\u001b[0m \u001b[1;34mke-7. \u001b[0m                                         \u001b[36m│\u001b[0m\n",
              "\u001b[36m╰────────────────────────────────────────────────╯\u001b[0m\n"
            ]
          },
          "metadata": {},
          "output_type": "display_data"
        },
        {
          "metadata": {
            "tags": null
          },
          "name": "stdout",
          "output_type": "stream",
          "text": [
            "Link: https://otakudesu.cloud/anime/fgo-zettai-babylonia-sub-indo/\n",
            "--------------------\n"
          ]
        },
        {
          "data": {
            "text/html": [
              "<pre style=\"white-space:pre;overflow-x:auto;line-height:normal;font-family:Menlo,'DejaVu Sans Mono',consolas,'Courier New',monospace\"><span style=\"color: #800000; text-decoration-color: #800000; font-weight: bold\">Cari Anime : ⚠(type </span><span style=\"color: #800000; text-decoration-color: #800000; font-weight: bold\">'exit'</span><span style=\"color: #800000; text-decoration-color: #800000; font-weight: bold\"> to exit)</span></pre>\n"
            ],
            "text/plain": [
              "\u001b[1;31mCari Anime : ⚠\u001b[0m\u001b[1;31m(\u001b[0m\u001b[1;31mtype \u001b[0m\u001b[1;31m'exit'\u001b[0m\u001b[1;31m to exit\u001b[0m\u001b[1;31m)\u001b[0m"
            ]
          },
          "metadata": {},
          "output_type": "display_data"
        },
        {
          "metadata": {
            "tags": null
          },
          "name": "stdout",
          "output_type": "stream",
          "text": [
            "\n",
            "\n"
          ]
        },
        {
          "data": {
            "text/html": [
              "<pre style=\"white-space:pre;overflow-x:auto;line-height:normal;font-family:Menlo,'DejaVu Sans Mono',consolas,'Courier New',monospace\">👍 Anime ditemukan!\n",
              "</pre>\n"
            ],
            "text/plain": [
              "👍 Anime ditemukan!\n"
            ]
          },
          "metadata": {},
          "output_type": "display_data"
        },
        {
          "data": {
            "text/html": [
              "<pre style=\"white-space:pre;overflow-x:auto;line-height:normal;font-family:Menlo,'DejaVu Sans Mono',consolas,'Courier New',monospace\"><span style=\"color: #008080; text-decoration-color: #008080\">╭────────────────────────────────────────────────╮</span>\n",
              "<span style=\"color: #008080; text-decoration-color: #008080\">│</span> <span style=\"color: #008000; text-decoration-color: #008000; font-weight: bold\">Judul : Boushoku no Berserk (Episode 1 – 12) </span>  <span style=\"color: #008080; text-decoration-color: #008080\">│</span>\n",
              "<span style=\"color: #008080; text-decoration-color: #008080\">│</span> <span style=\"color: #008000; text-decoration-color: #008000; font-weight: bold\">Subtitle Indonesia</span>                             <span style=\"color: #008080; text-decoration-color: #008080\">│</span>\n",
              "<span style=\"color: #008080; text-decoration-color: #008080\">│</span> <span style=\"color: #800080; text-decoration-color: #800080; font-weight: bold\">Status : Completed</span>                             <span style=\"color: #008080; text-decoration-color: #008080\">│</span>\n",
              "<span style=\"color: #008080; text-decoration-color: #008080\">│</span> <span style=\"color: #c0c0c0; text-decoration-color: #c0c0c0; font-weight: bold\">Skor: 6.78</span>                                     <span style=\"color: #008080; text-decoration-color: #008080\">│</span>\n",
              "<span style=\"color: #008080; text-decoration-color: #008080\">│</span> <span style=\"color: #808000; text-decoration-color: #808000; font-weight: bold\">Tanggal Rilis: Okt 05, 2023</span>                    <span style=\"color: #008080; text-decoration-color: #008080\">│</span>\n",
              "<span style=\"color: #008080; text-decoration-color: #008080\">│</span> <span style=\"color: #008080; text-decoration-color: #008080; font-weight: bold\">Produser: Genco, Pony Canyon, BS11, </span>           <span style=\"color: #008080; text-decoration-color: #008080\">│</span>\n",
              "<span style=\"color: #008080; text-decoration-color: #008080\">│</span> <span style=\"color: #008080; text-decoration-color: #008080; font-weight: bold\">Crunchyroll, U-NEXT, Muse Communication, Micro</span> <span style=\"color: #008080; text-decoration-color: #008080\">│</span>\n",
              "<span style=\"color: #008080; text-decoration-color: #008080\">│</span> <span style=\"color: #008080; text-decoration-color: #008080; font-weight: bold\">Magazine Publishing, HIAN</span>                      <span style=\"color: #008080; text-decoration-color: #008080\">│</span>\n",
              "<span style=\"color: #008080; text-decoration-color: #008080\">│</span> <span style=\"color: #800000; text-decoration-color: #800000; font-weight: bold\">Genre : Action, Fantasy, Action, Adventure, </span>   <span style=\"color: #008080; text-decoration-color: #008080\">│</span>\n",
              "<span style=\"color: #008080; text-decoration-color: #008080\">│</span> <span style=\"color: #800000; text-decoration-color: #800000; font-weight: bold\">Drama, Fantasy, Gore, Horror, Military, </span>       <span style=\"color: #008080; text-decoration-color: #008080\">│</span>\n",
              "<span style=\"color: #008080; text-decoration-color: #008080\">│</span> <span style=\"color: #800000; text-decoration-color: #800000; font-weight: bold\">Mythology, Supernatural, Action, Fantasy, </span>     <span style=\"color: #008080; text-decoration-color: #008080\">│</span>\n",
              "<span style=\"color: #008080; text-decoration-color: #008080\">│</span> <span style=\"color: #800000; text-decoration-color: #800000; font-weight: bold\">Magic, Supernatural, Action, Fantasy, Magic, </span>  <span style=\"color: #008080; text-decoration-color: #008080\">│</span>\n",
              "<span style=\"color: #008080; text-decoration-color: #008080\">│</span> <span style=\"color: #800000; text-decoration-color: #800000; font-weight: bold\">Supernatural</span>                                   <span style=\"color: #008080; text-decoration-color: #008080\">│</span>\n",
              "<span style=\"color: #008080; text-decoration-color: #008080\">│</span> <span style=\"color: #000080; text-decoration-color: #000080; font-weight: bold\">Sinopsis : Mengisahkan seorang pemuda bernama </span> <span style=\"color: #008080; text-decoration-color: #008080\">│</span>\n",
              "<span style=\"color: #008080; text-decoration-color: #008080\">│</span> <span style=\"color: #000080; text-decoration-color: #000080; font-weight: bold\">Fate Graphite yang bekerja sebagai penjaga </span>    <span style=\"color: #008080; text-decoration-color: #008080\">│</span>\n",
              "<span style=\"color: #008080; text-decoration-color: #008080\">│</span> <span style=\"color: #000080; text-decoration-color: #000080; font-weight: bold\">gerbang kerajaan. Di tempat kerjanya ini, ia </span>  <span style=\"color: #008080; text-decoration-color: #008080\">│</span>\n",
              "<span style=\"color: #008080; text-decoration-color: #008080\">│</span> <span style=\"color: #000080; text-decoration-color: #000080; font-weight: bold\">mendapatkan perlakuan yang kurang </span>             <span style=\"color: #008080; text-decoration-color: #008080\">│</span>\n",
              "<span style=\"color: #008080; text-decoration-color: #008080\">│</span> <span style=\"color: #000080; text-decoration-color: #000080; font-weight: bold\">menyenangkan.Walau sering dirundung, ia tetap </span> <span style=\"color: #008080; text-decoration-color: #008080\">│</span>\n",
              "<span style=\"color: #008080; text-decoration-color: #008080\">│</span> <span style=\"color: #000080; text-decoration-color: #000080; font-weight: bold\">mendapat perhatian dari Roxy Heart, seorang </span>   <span style=\"color: #008080; text-decoration-color: #008080\">│</span>\n",
              "<span style=\"color: #008080; text-decoration-color: #008080\">│</span> <span style=\"color: #000080; text-decoration-color: #000080; font-weight: bold\">wanita cantik yang bekerja sebagai kesatria </span>   <span style=\"color: #008080; text-decoration-color: #008080\">│</span>\n",
              "<span style=\"color: #008080; text-decoration-color: #008080\">│</span> <span style=\"color: #000080; text-decoration-color: #000080; font-weight: bold\">suci.Suatu hari, rumah kerajaan diserang oleh </span> <span style=\"color: #008080; text-decoration-color: #008080\">│</span>\n",
              "<span style=\"color: #008080; text-decoration-color: #008080\">│</span> <span style=\"color: #000080; text-decoration-color: #000080; font-weight: bold\">musuh dan Fate yang tengah bekerja berhasil </span>   <span style=\"color: #008080; text-decoration-color: #008080\">│</span>\n",
              "<span style=\"color: #008080; text-decoration-color: #008080\">│</span> <span style=\"color: #000080; text-decoration-color: #000080; font-weight: bold\">membunuh salah satu penyusup. Setelah </span>         <span style=\"color: #008080; text-decoration-color: #008080\">│</span>\n",
              "<span style=\"color: #008080; text-decoration-color: #008080\">│</span> <span style=\"color: #000080; text-decoration-color: #000080; font-weight: bold\">pembunuhan tersebut, Fate mendapatkan kekuatan</span> <span style=\"color: #008080; text-decoration-color: #008080\">│</span>\n",
              "<span style=\"color: #008080; text-decoration-color: #008080\">│</span> <span style=\"color: #000080; text-decoration-color: #000080; font-weight: bold\">Gluttony.Menyadari bahwa ia memiliki kemampuan</span> <span style=\"color: #008080; text-decoration-color: #008080\">│</span>\n",
              "<span style=\"color: #008080; text-decoration-color: #008080\">│</span> <span style=\"color: #000080; text-decoration-color: #000080; font-weight: bold\">yang baru, Fate memilih untuk menjadi seorang </span> <span style=\"color: #008080; text-decoration-color: #008080\">│</span>\n",
              "<span style=\"color: #008080; text-decoration-color: #008080\">│</span> <span style=\"color: #000080; text-decoration-color: #000080; font-weight: bold\">kesatria. </span>                                     <span style=\"color: #008080; text-decoration-color: #008080\">│</span>\n",
              "<span style=\"color: #008080; text-decoration-color: #008080\">╰────────────────────────────────────────────────╯</span>\n",
              "</pre>\n"
            ],
            "text/plain": [
              "\u001b[36m╭────────────────────────────────────────────────╮\u001b[0m\n",
              "\u001b[36m│\u001b[0m \u001b[1;32mJudul : Boushoku no Berserk (Episode 1 – 12) \u001b[0m  \u001b[36m│\u001b[0m\n",
              "\u001b[36m│\u001b[0m \u001b[1;32mSubtitle Indonesia\u001b[0m                             \u001b[36m│\u001b[0m\n",
              "\u001b[36m│\u001b[0m \u001b[1;35mStatus : Completed\u001b[0m                             \u001b[36m│\u001b[0m\n",
              "\u001b[36m│\u001b[0m \u001b[1;37mSkor: 6.78\u001b[0m                                     \u001b[36m│\u001b[0m\n",
              "\u001b[36m│\u001b[0m \u001b[1;33mTanggal Rilis: Okt 05, 2023\u001b[0m                    \u001b[36m│\u001b[0m\n",
              "\u001b[36m│\u001b[0m \u001b[1;36mProduser: Genco, Pony Canyon, BS11, \u001b[0m           \u001b[36m│\u001b[0m\n",
              "\u001b[36m│\u001b[0m \u001b[1;36mCrunchyroll, U-NEXT, Muse Communication, Micro\u001b[0m \u001b[36m│\u001b[0m\n",
              "\u001b[36m│\u001b[0m \u001b[1;36mMagazine Publishing, HIAN\u001b[0m                      \u001b[36m│\u001b[0m\n",
              "\u001b[36m│\u001b[0m \u001b[1;31mGenre : Action, Fantasy, Action, Adventure, \u001b[0m   \u001b[36m│\u001b[0m\n",
              "\u001b[36m│\u001b[0m \u001b[1;31mDrama, Fantasy, Gore, Horror, Military, \u001b[0m       \u001b[36m│\u001b[0m\n",
              "\u001b[36m│\u001b[0m \u001b[1;31mMythology, Supernatural, Action, Fantasy, \u001b[0m     \u001b[36m│\u001b[0m\n",
              "\u001b[36m│\u001b[0m \u001b[1;31mMagic, Supernatural, Action, Fantasy, Magic, \u001b[0m  \u001b[36m│\u001b[0m\n",
              "\u001b[36m│\u001b[0m \u001b[1;31mSupernatural\u001b[0m                                   \u001b[36m│\u001b[0m\n",
              "\u001b[36m│\u001b[0m \u001b[1;34mSinopsis : Mengisahkan seorang pemuda bernama \u001b[0m \u001b[36m│\u001b[0m\n",
              "\u001b[36m│\u001b[0m \u001b[1;34mFate Graphite yang bekerja sebagai penjaga \u001b[0m    \u001b[36m│\u001b[0m\n",
              "\u001b[36m│\u001b[0m \u001b[1;34mgerbang kerajaan. Di tempat kerjanya ini, ia \u001b[0m  \u001b[36m│\u001b[0m\n",
              "\u001b[36m│\u001b[0m \u001b[1;34mmendapatkan perlakuan yang kurang \u001b[0m             \u001b[36m│\u001b[0m\n",
              "\u001b[36m│\u001b[0m \u001b[1;34mmenyenangkan.Walau sering dirundung, ia tetap \u001b[0m \u001b[36m│\u001b[0m\n",
              "\u001b[36m│\u001b[0m \u001b[1;34mmendapat perhatian dari Roxy Heart, seorang \u001b[0m   \u001b[36m│\u001b[0m\n",
              "\u001b[36m│\u001b[0m \u001b[1;34mwanita cantik yang bekerja sebagai kesatria \u001b[0m   \u001b[36m│\u001b[0m\n",
              "\u001b[36m│\u001b[0m \u001b[1;34msuci.Suatu hari, rumah kerajaan diserang oleh \u001b[0m \u001b[36m│\u001b[0m\n",
              "\u001b[36m│\u001b[0m \u001b[1;34mmusuh dan Fate yang tengah bekerja berhasil \u001b[0m   \u001b[36m│\u001b[0m\n",
              "\u001b[36m│\u001b[0m \u001b[1;34mmembunuh salah satu penyusup. Setelah \u001b[0m         \u001b[36m│\u001b[0m\n",
              "\u001b[36m│\u001b[0m \u001b[1;34mpembunuhan tersebut, Fate mendapatkan kekuatan\u001b[0m \u001b[36m│\u001b[0m\n",
              "\u001b[36m│\u001b[0m \u001b[1;34mGluttony.Menyadari bahwa ia memiliki kemampuan\u001b[0m \u001b[36m│\u001b[0m\n",
              "\u001b[36m│\u001b[0m \u001b[1;34myang baru, Fate memilih untuk menjadi seorang \u001b[0m \u001b[36m│\u001b[0m\n",
              "\u001b[36m│\u001b[0m \u001b[1;34mkesatria. \u001b[0m                                     \u001b[36m│\u001b[0m\n",
              "\u001b[36m╰────────────────────────────────────────────────╯\u001b[0m\n"
            ]
          },
          "metadata": {},
          "output_type": "display_data"
        },
        {
          "metadata": {
            "tags": null
          },
          "name": "stdout",
          "output_type": "stream",
          "text": [
            "Link: https://otakudesu.cloud/anime/berserk-gluttony-sub-indo/\n",
            "--------------------\n"
          ]
        },
        {
          "data": {
            "text/html": [
              "<pre style=\"white-space:pre;overflow-x:auto;line-height:normal;font-family:Menlo,'DejaVu Sans Mono',consolas,'Courier New',monospace\"><span style=\"color: #800000; text-decoration-color: #800000; font-weight: bold\">Cari Anime : ⚠(type </span><span style=\"color: #800000; text-decoration-color: #800000; font-weight: bold\">'exit'</span><span style=\"color: #800000; text-decoration-color: #800000; font-weight: bold\"> to exit)</span></pre>\n"
            ],
            "text/plain": [
              "\u001b[1;31mCari Anime : ⚠\u001b[0m\u001b[1;31m(\u001b[0m\u001b[1;31mtype \u001b[0m\u001b[1;31m'exit'\u001b[0m\u001b[1;31m to exit\u001b[0m\u001b[1;31m)\u001b[0m"
            ]
          },
          "metadata": {},
          "output_type": "display_data"
        },
        {
          "data": {
            "text/html": [
              "<pre style=\"white-space:pre;overflow-x:auto;line-height:normal;font-family:Menlo,'DejaVu Sans Mono',consolas,'Courier New',monospace\">👎 Anime tidak ditemukan!\n",
              "</pre>\n"
            ],
            "text/plain": [
              "👎 Anime tidak ditemukan!\n"
            ]
          },
          "metadata": {},
          "output_type": "display_data"
        },
        {
          "data": {
            "text/html": [
              "<pre style=\"white-space:pre;overflow-x:auto;line-height:normal;font-family:Menlo,'DejaVu Sans Mono',consolas,'Courier New',monospace\"><span style=\"color: #800000; text-decoration-color: #800000; font-weight: bold\">Cari Anime : ⚠(type </span><span style=\"color: #800000; text-decoration-color: #800000; font-weight: bold\">'exit'</span><span style=\"color: #800000; text-decoration-color: #800000; font-weight: bold\"> to exit)</span></pre>\n"
            ],
            "text/plain": [
              "\u001b[1;31mCari Anime : ⚠\u001b[0m\u001b[1;31m(\u001b[0m\u001b[1;31mtype \u001b[0m\u001b[1;31m'exit'\u001b[0m\u001b[1;31m to exit\u001b[0m\u001b[1;31m)\u001b[0m"
            ]
          },
          "metadata": {},
          "output_type": "display_data"
        },
        {
          "metadata": {
            "tags": null
          },
          "name": "stdout",
          "output_type": "stream",
          "text": [
            "\n",
            "\n"
          ]
        },
        {
          "data": {
            "text/html": [
              "<pre style=\"white-space:pre;overflow-x:auto;line-height:normal;font-family:Menlo,'DejaVu Sans Mono',consolas,'Courier New',monospace\">👍 Anime ditemukan!\n",
              "</pre>\n"
            ],
            "text/plain": [
              "👍 Anime ditemukan!\n"
            ]
          },
          "metadata": {},
          "output_type": "display_data"
        },
        {
          "data": {
            "text/html": [
              "<pre style=\"white-space:pre;overflow-x:auto;line-height:normal;font-family:Menlo,'DejaVu Sans Mono',consolas,'Courier New',monospace\"><span style=\"color: #008080; text-decoration-color: #008080\">╭────────────────────────────────────────────────╮</span>\n",
              "<span style=\"color: #008080; text-decoration-color: #008080\">│</span> <span style=\"color: #008000; text-decoration-color: #008000; font-weight: bold\">Judul : Bocchi the Rock! (Episode 1 – 12) </span>     <span style=\"color: #008080; text-decoration-color: #008080\">│</span>\n",
              "<span style=\"color: #008080; text-decoration-color: #008080\">│</span> <span style=\"color: #008000; text-decoration-color: #008000; font-weight: bold\">Subtitle Indonesia</span>                             <span style=\"color: #008080; text-decoration-color: #008080\">│</span>\n",
              "<span style=\"color: #008080; text-decoration-color: #008080\">│</span> <span style=\"color: #800080; text-decoration-color: #800080; font-weight: bold\">Status : Completed</span>                             <span style=\"color: #008080; text-decoration-color: #008080\">│</span>\n",
              "<span style=\"color: #008080; text-decoration-color: #008080\">│</span> <span style=\"color: #c0c0c0; text-decoration-color: #c0c0c0; font-weight: bold\">Skor: 9.00</span>                                     <span style=\"color: #008080; text-decoration-color: #008080\">│</span>\n",
              "<span style=\"color: #008080; text-decoration-color: #008080\">│</span> <span style=\"color: #808000; text-decoration-color: #808000; font-weight: bold\">Tanggal Rilis: Okt 09, 2022</span>                    <span style=\"color: #008080; text-decoration-color: #008080\">│</span>\n",
              "<span style=\"color: #008080; text-decoration-color: #008080\">│</span> <span style=\"color: #008080; text-decoration-color: #008080; font-weight: bold\">Produser: Aniplex, Houbunsha</span>                   <span style=\"color: #008080; text-decoration-color: #008080\">│</span>\n",
              "<span style=\"color: #008080; text-decoration-color: #008080\">│</span> <span style=\"color: #800000; text-decoration-color: #800000; font-weight: bold\">Genre : CGDCT, Comedy, Music, Slice of Life, </span>  <span style=\"color: #008080; text-decoration-color: #008080\">│</span>\n",
              "<span style=\"color: #008080; text-decoration-color: #008080\">│</span> <span style=\"color: #800000; text-decoration-color: #800000; font-weight: bold\">Comedy, School, Shounen, Slice of Life</span>         <span style=\"color: #008080; text-decoration-color: #008080\">│</span>\n",
              "<span style=\"color: #008080; text-decoration-color: #008080\">│</span> <span style=\"color: #000080; text-decoration-color: #000080; font-weight: bold\">Sinopsis : Cerita berpusat ke Gotou Hitori, </span>   <span style=\"color: #008080; text-decoration-color: #008080\">│</span>\n",
              "<span style=\"color: #008080; text-decoration-color: #008080\">│</span> <span style=\"color: #000080; text-decoration-color: #000080; font-weight: bold\">seorang gadis SMA yang baru belajar bermain </span>   <span style=\"color: #008080; text-decoration-color: #008080\">│</span>\n",
              "<span style=\"color: #008080; text-decoration-color: #008080\">│</span> <span style=\"color: #000080; text-decoration-color: #000080; font-weight: bold\">gitar. Ia memilih bermain Gitar dengan tujuan </span> <span style=\"color: #008080; text-decoration-color: #008080\">│</span>\n",
              "<span style=\"color: #008080; text-decoration-color: #008080\">│</span> <span style=\"color: #000080; text-decoration-color: #000080; font-weight: bold\">membentuk sebuah band. Sayangnya, tujuan ini </span>  <span style=\"color: #008080; text-decoration-color: #008080\">│</span>\n",
              "<span style=\"color: #008080; text-decoration-color: #008080\">│</span> <span style=\"color: #000080; text-decoration-color: #000080; font-weight: bold\">tidak berhasil terwujud sampai ia bertemu </span>     <span style=\"color: #008080; text-decoration-color: #008080\">│</span>\n",
              "<span style=\"color: #008080; text-decoration-color: #008080\">│</span> <span style=\"color: #000080; text-decoration-color: #000080; font-weight: bold\">dengan Ijichi Nijika, seorang pemain </span>          <span style=\"color: #008080; text-decoration-color: #008080\">│</span>\n",
              "<span style=\"color: #008080; text-decoration-color: #008080\">│</span> <span style=\"color: #000080; text-decoration-color: #000080; font-weight: bold\">drum.Menariknya, Nijika rupanya tengah mencari</span> <span style=\"color: #008080; text-decoration-color: #008080\">│</span>\n",
              "<span style=\"color: #008080; text-decoration-color: #008080\">│</span> <span style=\"color: #000080; text-decoration-color: #000080; font-weight: bold\">seseorang yang bisa bermain gitar. Untuk itu, </span> <span style=\"color: #008080; text-decoration-color: #008080\">│</span>\n",
              "<span style=\"color: #008080; text-decoration-color: #008080\">│</span> <span style=\"color: #000080; text-decoration-color: #000080; font-weight: bold\">Nijika mengajak Gotou agar bergabung dengan </span>   <span style=\"color: #008080; text-decoration-color: #008080\">│</span>\n",
              "<span style=\"color: #008080; text-decoration-color: #008080\">│</span> <span style=\"color: #000080; text-decoration-color: #000080; font-weight: bold\">formasi band miliknya. Melihat kesempatan yang</span> <span style=\"color: #008080; text-decoration-color: #008080\">│</span>\n",
              "<span style=\"color: #008080; text-decoration-color: #008080\">│</span> <span style=\"color: #000080; text-decoration-color: #000080; font-weight: bold\">langka ini, Gotou tanpa pikir panjang menerima</span> <span style=\"color: #008080; text-decoration-color: #008080\">│</span>\n",
              "<span style=\"color: #008080; text-decoration-color: #008080\">│</span> <span style=\"color: #000080; text-decoration-color: #000080; font-weight: bold\">tawaran Nijika dan membentuk band bernama </span>     <span style=\"color: #008080; text-decoration-color: #008080\">│</span>\n",
              "<span style=\"color: #008080; text-decoration-color: #008080\">│</span> <span style=\"color: #000080; text-decoration-color: #000080; font-weight: bold\">Kessoku. </span>                                      <span style=\"color: #008080; text-decoration-color: #008080\">│</span>\n",
              "<span style=\"color: #008080; text-decoration-color: #008080\">╰────────────────────────────────────────────────╯</span>\n",
              "</pre>\n"
            ],
            "text/plain": [
              "\u001b[36m╭────────────────────────────────────────────────╮\u001b[0m\n",
              "\u001b[36m│\u001b[0m \u001b[1;32mJudul : Bocchi the Rock! (Episode 1 – 12) \u001b[0m     \u001b[36m│\u001b[0m\n",
              "\u001b[36m│\u001b[0m \u001b[1;32mSubtitle Indonesia\u001b[0m                             \u001b[36m│\u001b[0m\n",
              "\u001b[36m│\u001b[0m \u001b[1;35mStatus : Completed\u001b[0m                             \u001b[36m│\u001b[0m\n",
              "\u001b[36m│\u001b[0m \u001b[1;37mSkor: 9.00\u001b[0m                                     \u001b[36m│\u001b[0m\n",
              "\u001b[36m│\u001b[0m \u001b[1;33mTanggal Rilis: Okt 09, 2022\u001b[0m                    \u001b[36m│\u001b[0m\n",
              "\u001b[36m│\u001b[0m \u001b[1;36mProduser: Aniplex, Houbunsha\u001b[0m                   \u001b[36m│\u001b[0m\n",
              "\u001b[36m│\u001b[0m \u001b[1;31mGenre : CGDCT, Comedy, Music, Slice of Life, \u001b[0m  \u001b[36m│\u001b[0m\n",
              "\u001b[36m│\u001b[0m \u001b[1;31mComedy, School, Shounen, Slice of Life\u001b[0m         \u001b[36m│\u001b[0m\n",
              "\u001b[36m│\u001b[0m \u001b[1;34mSinopsis : Cerita berpusat ke Gotou Hitori, \u001b[0m   \u001b[36m│\u001b[0m\n",
              "\u001b[36m│\u001b[0m \u001b[1;34mseorang gadis SMA yang baru belajar bermain \u001b[0m   \u001b[36m│\u001b[0m\n",
              "\u001b[36m│\u001b[0m \u001b[1;34mgitar. Ia memilih bermain Gitar dengan tujuan \u001b[0m \u001b[36m│\u001b[0m\n",
              "\u001b[36m│\u001b[0m \u001b[1;34mmembentuk sebuah band. Sayangnya, tujuan ini \u001b[0m  \u001b[36m│\u001b[0m\n",
              "\u001b[36m│\u001b[0m \u001b[1;34mtidak berhasil terwujud sampai ia bertemu \u001b[0m     \u001b[36m│\u001b[0m\n",
              "\u001b[36m│\u001b[0m \u001b[1;34mdengan Ijichi Nijika, seorang pemain \u001b[0m          \u001b[36m│\u001b[0m\n",
              "\u001b[36m│\u001b[0m \u001b[1;34mdrum.Menariknya, Nijika rupanya tengah mencari\u001b[0m \u001b[36m│\u001b[0m\n",
              "\u001b[36m│\u001b[0m \u001b[1;34mseseorang yang bisa bermain gitar. Untuk itu, \u001b[0m \u001b[36m│\u001b[0m\n",
              "\u001b[36m│\u001b[0m \u001b[1;34mNijika mengajak Gotou agar bergabung dengan \u001b[0m   \u001b[36m│\u001b[0m\n",
              "\u001b[36m│\u001b[0m \u001b[1;34mformasi band miliknya. Melihat kesempatan yang\u001b[0m \u001b[36m│\u001b[0m\n",
              "\u001b[36m│\u001b[0m \u001b[1;34mlangka ini, Gotou tanpa pikir panjang menerima\u001b[0m \u001b[36m│\u001b[0m\n",
              "\u001b[36m│\u001b[0m \u001b[1;34mtawaran Nijika dan membentuk band bernama \u001b[0m     \u001b[36m│\u001b[0m\n",
              "\u001b[36m│\u001b[0m \u001b[1;34mKessoku. \u001b[0m                                      \u001b[36m│\u001b[0m\n",
              "\u001b[36m╰────────────────────────────────────────────────╯\u001b[0m\n"
            ]
          },
          "metadata": {},
          "output_type": "display_data"
        },
        {
          "metadata": {
            "tags": null
          },
          "name": "stdout",
          "output_type": "stream",
          "text": [
            "Link: https://otakudesu.cloud/anime/bochi-rock-sub-indo/\n",
            "--------------------\n"
          ]
        },
        {
          "data": {
            "text/html": [
              "<pre style=\"white-space:pre;overflow-x:auto;line-height:normal;font-family:Menlo,'DejaVu Sans Mono',consolas,'Courier New',monospace\"><span style=\"color: #800000; text-decoration-color: #800000; font-weight: bold\">Cari Anime : ⚠(type </span><span style=\"color: #800000; text-decoration-color: #800000; font-weight: bold\">'exit'</span><span style=\"color: #800000; text-decoration-color: #800000; font-weight: bold\"> to exit)</span></pre>\n"
            ],
            "text/plain": [
              "\u001b[1;31mCari Anime : ⚠\u001b[0m\u001b[1;31m(\u001b[0m\u001b[1;31mtype \u001b[0m\u001b[1;31m'exit'\u001b[0m\u001b[1;31m to exit\u001b[0m\u001b[1;31m)\u001b[0m"
            ]
          },
          "metadata": {},
          "output_type": "display_data"
        },
        {
          "output_type": "error",
          "ename": "KeyboardInterrupt",
          "evalue": "Interrupted by user",
          "traceback": [
            "\u001b[0;31m---------------------------------------------------------------------------\u001b[0m",
            "\u001b[0;31mKeyboardInterrupt\u001b[0m                         Traceback (most recent call last)",
            "\u001b[0;32m<ipython-input-3-e2cb999bb1aa>\u001b[0m in \u001b[0;36m<cell line: 253>\u001b[0;34m()\u001b[0m\n\u001b[1;32m    254\u001b[0m     \u001b[0;32mwith\u001b[0m \u001b[0mcs\u001b[0m\u001b[0;34m.\u001b[0m\u001b[0mstatus\u001b[0m\u001b[0;34m(\u001b[0m\u001b[0;34m\"Memuat data...\"\u001b[0m\u001b[0;34m,\u001b[0m \u001b[0mspinner\u001b[0m \u001b[0;34m=\u001b[0m \u001b[0;34m\"monkey\"\u001b[0m\u001b[0;34m)\u001b[0m\u001b[0;34m:\u001b[0m\u001b[0;34m\u001b[0m\u001b[0;34m\u001b[0m\u001b[0m\n\u001b[1;32m    255\u001b[0m        \u001b[0mtime\u001b[0m\u001b[0;34m.\u001b[0m\u001b[0msleep\u001b[0m\u001b[0;34m(\u001b[0m\u001b[0;36m2\u001b[0m\u001b[0;34m)\u001b[0m\u001b[0;34m\u001b[0m\u001b[0;34m\u001b[0m\u001b[0m\n\u001b[0;32m--> 256\u001b[0;31m     \u001b[0mmain\u001b[0m\u001b[0;34m(\u001b[0m\u001b[0;34m)\u001b[0m\u001b[0;34m\u001b[0m\u001b[0;34m\u001b[0m\u001b[0m\n\u001b[0m",
            "\u001b[0;32m<ipython-input-3-e2cb999bb1aa>\u001b[0m in \u001b[0;36mmain\u001b[0;34m()\u001b[0m\n\u001b[1;32m     60\u001b[0m        \u001b[0mlist_anime\u001b[0m\u001b[0;34m(\u001b[0m\u001b[0;34m)\u001b[0m\u001b[0;34m\u001b[0m\u001b[0;34m\u001b[0m\u001b[0m\n\u001b[1;32m     61\u001b[0m     \u001b[0;32melif\u001b[0m \u001b[0minp\u001b[0m \u001b[0;34m==\u001b[0m \u001b[0;34m\"4\"\u001b[0m\u001b[0;34m:\u001b[0m\u001b[0;34m\u001b[0m\u001b[0;34m\u001b[0m\u001b[0m\n\u001b[0;32m---> 62\u001b[0;31m         \u001b[0mcari_anime\u001b[0m\u001b[0;34m(\u001b[0m\u001b[0;34m)\u001b[0m\u001b[0;34m\u001b[0m\u001b[0;34m\u001b[0m\u001b[0m\n\u001b[0m\u001b[1;32m     63\u001b[0m     \u001b[0;32melif\u001b[0m \u001b[0minp\u001b[0m \u001b[0;34m==\u001b[0m \u001b[0;34m\"5\"\u001b[0m\u001b[0;34m:\u001b[0m\u001b[0;34m\u001b[0m\u001b[0;34m\u001b[0m\u001b[0m\n\u001b[1;32m     64\u001b[0m         \u001b[0mexit\u001b[0m\u001b[0;34m(\u001b[0m\u001b[0;34m)\u001b[0m\u001b[0;34m\u001b[0m\u001b[0;34m\u001b[0m\u001b[0m\n",
            "\u001b[0;32m<ipython-input-3-e2cb999bb1aa>\u001b[0m in \u001b[0;36mcari_anime\u001b[0;34m()\u001b[0m\n\u001b[1;32m    187\u001b[0m        \u001b[0mcari_anime\u001b[0m\u001b[0;34m(\u001b[0m\u001b[0;34m)\u001b[0m\u001b[0;34m\u001b[0m\u001b[0;34m\u001b[0m\u001b[0m\n\u001b[1;32m    188\u001b[0m     \u001b[0;32melif\u001b[0m \u001b[0mcari\u001b[0m\u001b[0;34m.\u001b[0m\u001b[0mlower\u001b[0m\u001b[0;34m(\u001b[0m\u001b[0;34m)\u001b[0m \u001b[0;34m==\u001b[0m \u001b[0;34m'exit'\u001b[0m\u001b[0;34m:\u001b[0m\u001b[0;34m\u001b[0m\u001b[0;34m\u001b[0m\u001b[0m\n\u001b[0;32m--> 189\u001b[0;31m         \u001b[0mmain\u001b[0m\u001b[0;34m(\u001b[0m\u001b[0;34m)\u001b[0m\u001b[0;34m\u001b[0m\u001b[0;34m\u001b[0m\u001b[0m\n\u001b[0m\u001b[1;32m    190\u001b[0m \u001b[0;34m\u001b[0m\u001b[0m\n\u001b[1;32m    191\u001b[0m     \u001b[0;31m#Mengganti link sesuai input\u001b[0m\u001b[0;34m\u001b[0m\u001b[0;34m\u001b[0m\u001b[0m\n",
            "\u001b[0;32m<ipython-input-3-e2cb999bb1aa>\u001b[0m in \u001b[0;36mmain\u001b[0;34m()\u001b[0m\n\u001b[1;32m     60\u001b[0m        \u001b[0mlist_anime\u001b[0m\u001b[0;34m(\u001b[0m\u001b[0;34m)\u001b[0m\u001b[0;34m\u001b[0m\u001b[0;34m\u001b[0m\u001b[0m\n\u001b[1;32m     61\u001b[0m     \u001b[0;32melif\u001b[0m \u001b[0minp\u001b[0m \u001b[0;34m==\u001b[0m \u001b[0;34m\"4\"\u001b[0m\u001b[0;34m:\u001b[0m\u001b[0;34m\u001b[0m\u001b[0;34m\u001b[0m\u001b[0m\n\u001b[0;32m---> 62\u001b[0;31m         \u001b[0mcari_anime\u001b[0m\u001b[0;34m(\u001b[0m\u001b[0;34m)\u001b[0m\u001b[0;34m\u001b[0m\u001b[0;34m\u001b[0m\u001b[0m\n\u001b[0m\u001b[1;32m     63\u001b[0m     \u001b[0;32melif\u001b[0m \u001b[0minp\u001b[0m \u001b[0;34m==\u001b[0m \u001b[0;34m\"5\"\u001b[0m\u001b[0;34m:\u001b[0m\u001b[0;34m\u001b[0m\u001b[0;34m\u001b[0m\u001b[0m\n\u001b[1;32m     64\u001b[0m         \u001b[0mexit\u001b[0m\u001b[0;34m(\u001b[0m\u001b[0;34m)\u001b[0m\u001b[0;34m\u001b[0m\u001b[0;34m\u001b[0m\u001b[0m\n",
            "\u001b[0;32m<ipython-input-3-e2cb999bb1aa>\u001b[0m in \u001b[0;36mcari_anime\u001b[0;34m()\u001b[0m\n\u001b[1;32m    234\u001b[0m     \u001b[0;32mexcept\u001b[0m \u001b[0mAttributeError\u001b[0m\u001b[0;34m:\u001b[0m\u001b[0;34m\u001b[0m\u001b[0;34m\u001b[0m\u001b[0m\n\u001b[1;32m    235\u001b[0m            \u001b[0mcs\u001b[0m\u001b[0;34m.\u001b[0m\u001b[0mprint\u001b[0m\u001b[0;34m(\u001b[0m\u001b[0;34m\":thumbs_down: Anime tidak ditemukan!\"\u001b[0m\u001b[0;34m)\u001b[0m\u001b[0;34m\u001b[0m\u001b[0;34m\u001b[0m\u001b[0m\n\u001b[0;32m--> 236\u001b[0;31m     \u001b[0mcari_anime\u001b[0m\u001b[0;34m(\u001b[0m\u001b[0;34m)\u001b[0m\u001b[0;34m\u001b[0m\u001b[0;34m\u001b[0m\u001b[0m\n\u001b[0m\u001b[1;32m    237\u001b[0m \u001b[0;34m\u001b[0m\u001b[0m\n\u001b[1;32m    238\u001b[0m \u001b[0;34m\u001b[0m\u001b[0m\n",
            "\u001b[0;32m<ipython-input-3-e2cb999bb1aa>\u001b[0m in \u001b[0;36mcari_anime\u001b[0;34m()\u001b[0m\n\u001b[1;32m    234\u001b[0m     \u001b[0;32mexcept\u001b[0m \u001b[0mAttributeError\u001b[0m\u001b[0;34m:\u001b[0m\u001b[0;34m\u001b[0m\u001b[0;34m\u001b[0m\u001b[0m\n\u001b[1;32m    235\u001b[0m            \u001b[0mcs\u001b[0m\u001b[0;34m.\u001b[0m\u001b[0mprint\u001b[0m\u001b[0;34m(\u001b[0m\u001b[0;34m\":thumbs_down: Anime tidak ditemukan!\"\u001b[0m\u001b[0;34m)\u001b[0m\u001b[0;34m\u001b[0m\u001b[0;34m\u001b[0m\u001b[0m\n\u001b[0;32m--> 236\u001b[0;31m     \u001b[0mcari_anime\u001b[0m\u001b[0;34m(\u001b[0m\u001b[0;34m)\u001b[0m\u001b[0;34m\u001b[0m\u001b[0;34m\u001b[0m\u001b[0m\n\u001b[0m\u001b[1;32m    237\u001b[0m \u001b[0;34m\u001b[0m\u001b[0m\n\u001b[1;32m    238\u001b[0m \u001b[0;34m\u001b[0m\u001b[0m\n",
            "\u001b[0;32m<ipython-input-3-e2cb999bb1aa>\u001b[0m in \u001b[0;36mcari_anime\u001b[0;34m()\u001b[0m\n\u001b[1;32m    234\u001b[0m     \u001b[0;32mexcept\u001b[0m \u001b[0mAttributeError\u001b[0m\u001b[0;34m:\u001b[0m\u001b[0;34m\u001b[0m\u001b[0;34m\u001b[0m\u001b[0m\n\u001b[1;32m    235\u001b[0m            \u001b[0mcs\u001b[0m\u001b[0;34m.\u001b[0m\u001b[0mprint\u001b[0m\u001b[0;34m(\u001b[0m\u001b[0;34m\":thumbs_down: Anime tidak ditemukan!\"\u001b[0m\u001b[0;34m)\u001b[0m\u001b[0;34m\u001b[0m\u001b[0;34m\u001b[0m\u001b[0m\n\u001b[0;32m--> 236\u001b[0;31m     \u001b[0mcari_anime\u001b[0m\u001b[0;34m(\u001b[0m\u001b[0;34m)\u001b[0m\u001b[0;34m\u001b[0m\u001b[0;34m\u001b[0m\u001b[0m\n\u001b[0m\u001b[1;32m    237\u001b[0m \u001b[0;34m\u001b[0m\u001b[0m\n\u001b[1;32m    238\u001b[0m \u001b[0;34m\u001b[0m\u001b[0m\n",
            "\u001b[0;32m<ipython-input-3-e2cb999bb1aa>\u001b[0m in \u001b[0;36mcari_anime\u001b[0;34m()\u001b[0m\n\u001b[1;32m    234\u001b[0m     \u001b[0;32mexcept\u001b[0m \u001b[0mAttributeError\u001b[0m\u001b[0;34m:\u001b[0m\u001b[0;34m\u001b[0m\u001b[0;34m\u001b[0m\u001b[0m\n\u001b[1;32m    235\u001b[0m            \u001b[0mcs\u001b[0m\u001b[0;34m.\u001b[0m\u001b[0mprint\u001b[0m\u001b[0;34m(\u001b[0m\u001b[0;34m\":thumbs_down: Anime tidak ditemukan!\"\u001b[0m\u001b[0;34m)\u001b[0m\u001b[0;34m\u001b[0m\u001b[0;34m\u001b[0m\u001b[0m\n\u001b[0;32m--> 236\u001b[0;31m     \u001b[0mcari_anime\u001b[0m\u001b[0;34m(\u001b[0m\u001b[0;34m)\u001b[0m\u001b[0;34m\u001b[0m\u001b[0;34m\u001b[0m\u001b[0m\n\u001b[0m\u001b[1;32m    237\u001b[0m \u001b[0;34m\u001b[0m\u001b[0m\n\u001b[1;32m    238\u001b[0m \u001b[0;34m\u001b[0m\u001b[0m\n",
            "\u001b[0;32m<ipython-input-3-e2cb999bb1aa>\u001b[0m in \u001b[0;36mcari_anime\u001b[0;34m()\u001b[0m\n\u001b[1;32m    234\u001b[0m     \u001b[0;32mexcept\u001b[0m \u001b[0mAttributeError\u001b[0m\u001b[0;34m:\u001b[0m\u001b[0;34m\u001b[0m\u001b[0;34m\u001b[0m\u001b[0m\n\u001b[1;32m    235\u001b[0m            \u001b[0mcs\u001b[0m\u001b[0;34m.\u001b[0m\u001b[0mprint\u001b[0m\u001b[0;34m(\u001b[0m\u001b[0;34m\":thumbs_down: Anime tidak ditemukan!\"\u001b[0m\u001b[0;34m)\u001b[0m\u001b[0;34m\u001b[0m\u001b[0;34m\u001b[0m\u001b[0m\n\u001b[0;32m--> 236\u001b[0;31m     \u001b[0mcari_anime\u001b[0m\u001b[0;34m(\u001b[0m\u001b[0;34m)\u001b[0m\u001b[0;34m\u001b[0m\u001b[0;34m\u001b[0m\u001b[0m\n\u001b[0m\u001b[1;32m    237\u001b[0m \u001b[0;34m\u001b[0m\u001b[0m\n\u001b[1;32m    238\u001b[0m \u001b[0;34m\u001b[0m\u001b[0m\n",
            "\u001b[0;32m<ipython-input-3-e2cb999bb1aa>\u001b[0m in \u001b[0;36mcari_anime\u001b[0;34m()\u001b[0m\n\u001b[1;32m    234\u001b[0m     \u001b[0;32mexcept\u001b[0m \u001b[0mAttributeError\u001b[0m\u001b[0;34m:\u001b[0m\u001b[0;34m\u001b[0m\u001b[0;34m\u001b[0m\u001b[0m\n\u001b[1;32m    235\u001b[0m            \u001b[0mcs\u001b[0m\u001b[0;34m.\u001b[0m\u001b[0mprint\u001b[0m\u001b[0;34m(\u001b[0m\u001b[0;34m\":thumbs_down: Anime tidak ditemukan!\"\u001b[0m\u001b[0;34m)\u001b[0m\u001b[0;34m\u001b[0m\u001b[0;34m\u001b[0m\u001b[0m\n\u001b[0;32m--> 236\u001b[0;31m     \u001b[0mcari_anime\u001b[0m\u001b[0;34m(\u001b[0m\u001b[0;34m)\u001b[0m\u001b[0;34m\u001b[0m\u001b[0;34m\u001b[0m\u001b[0m\n\u001b[0m\u001b[1;32m    237\u001b[0m \u001b[0;34m\u001b[0m\u001b[0m\n\u001b[1;32m    238\u001b[0m \u001b[0;34m\u001b[0m\u001b[0m\n",
            "\u001b[0;32m<ipython-input-3-e2cb999bb1aa>\u001b[0m in \u001b[0;36mcari_anime\u001b[0;34m()\u001b[0m\n\u001b[1;32m    234\u001b[0m     \u001b[0;32mexcept\u001b[0m \u001b[0mAttributeError\u001b[0m\u001b[0;34m:\u001b[0m\u001b[0;34m\u001b[0m\u001b[0;34m\u001b[0m\u001b[0m\n\u001b[1;32m    235\u001b[0m            \u001b[0mcs\u001b[0m\u001b[0;34m.\u001b[0m\u001b[0mprint\u001b[0m\u001b[0;34m(\u001b[0m\u001b[0;34m\":thumbs_down: Anime tidak ditemukan!\"\u001b[0m\u001b[0;34m)\u001b[0m\u001b[0;34m\u001b[0m\u001b[0;34m\u001b[0m\u001b[0m\n\u001b[0;32m--> 236\u001b[0;31m     \u001b[0mcari_anime\u001b[0m\u001b[0;34m(\u001b[0m\u001b[0;34m)\u001b[0m\u001b[0;34m\u001b[0m\u001b[0;34m\u001b[0m\u001b[0m\n\u001b[0m\u001b[1;32m    237\u001b[0m \u001b[0;34m\u001b[0m\u001b[0m\n\u001b[1;32m    238\u001b[0m \u001b[0;34m\u001b[0m\u001b[0m\n",
            "\u001b[0;32m<ipython-input-3-e2cb999bb1aa>\u001b[0m in \u001b[0;36mcari_anime\u001b[0;34m()\u001b[0m\n\u001b[1;32m    234\u001b[0m     \u001b[0;32mexcept\u001b[0m \u001b[0mAttributeError\u001b[0m\u001b[0;34m:\u001b[0m\u001b[0;34m\u001b[0m\u001b[0;34m\u001b[0m\u001b[0m\n\u001b[1;32m    235\u001b[0m            \u001b[0mcs\u001b[0m\u001b[0;34m.\u001b[0m\u001b[0mprint\u001b[0m\u001b[0;34m(\u001b[0m\u001b[0;34m\":thumbs_down: Anime tidak ditemukan!\"\u001b[0m\u001b[0;34m)\u001b[0m\u001b[0;34m\u001b[0m\u001b[0;34m\u001b[0m\u001b[0m\n\u001b[0;32m--> 236\u001b[0;31m     \u001b[0mcari_anime\u001b[0m\u001b[0;34m(\u001b[0m\u001b[0;34m)\u001b[0m\u001b[0;34m\u001b[0m\u001b[0;34m\u001b[0m\u001b[0m\n\u001b[0m\u001b[1;32m    237\u001b[0m \u001b[0;34m\u001b[0m\u001b[0m\n\u001b[1;32m    238\u001b[0m \u001b[0;34m\u001b[0m\u001b[0m\n",
            "\u001b[0;32m<ipython-input-3-e2cb999bb1aa>\u001b[0m in \u001b[0;36mcari_anime\u001b[0;34m()\u001b[0m\n\u001b[1;32m    234\u001b[0m     \u001b[0;32mexcept\u001b[0m \u001b[0mAttributeError\u001b[0m\u001b[0;34m:\u001b[0m\u001b[0;34m\u001b[0m\u001b[0;34m\u001b[0m\u001b[0m\n\u001b[1;32m    235\u001b[0m            \u001b[0mcs\u001b[0m\u001b[0;34m.\u001b[0m\u001b[0mprint\u001b[0m\u001b[0;34m(\u001b[0m\u001b[0;34m\":thumbs_down: Anime tidak ditemukan!\"\u001b[0m\u001b[0;34m)\u001b[0m\u001b[0;34m\u001b[0m\u001b[0;34m\u001b[0m\u001b[0m\n\u001b[0;32m--> 236\u001b[0;31m     \u001b[0mcari_anime\u001b[0m\u001b[0;34m(\u001b[0m\u001b[0;34m)\u001b[0m\u001b[0;34m\u001b[0m\u001b[0;34m\u001b[0m\u001b[0m\n\u001b[0m\u001b[1;32m    237\u001b[0m \u001b[0;34m\u001b[0m\u001b[0m\n\u001b[1;32m    238\u001b[0m \u001b[0;34m\u001b[0m\u001b[0m\n",
            "\u001b[0;32m<ipython-input-3-e2cb999bb1aa>\u001b[0m in \u001b[0;36mcari_anime\u001b[0;34m()\u001b[0m\n\u001b[1;32m    234\u001b[0m     \u001b[0;32mexcept\u001b[0m \u001b[0mAttributeError\u001b[0m\u001b[0;34m:\u001b[0m\u001b[0;34m\u001b[0m\u001b[0;34m\u001b[0m\u001b[0m\n\u001b[1;32m    235\u001b[0m            \u001b[0mcs\u001b[0m\u001b[0;34m.\u001b[0m\u001b[0mprint\u001b[0m\u001b[0;34m(\u001b[0m\u001b[0;34m\":thumbs_down: Anime tidak ditemukan!\"\u001b[0m\u001b[0;34m)\u001b[0m\u001b[0;34m\u001b[0m\u001b[0;34m\u001b[0m\u001b[0m\n\u001b[0;32m--> 236\u001b[0;31m     \u001b[0mcari_anime\u001b[0m\u001b[0;34m(\u001b[0m\u001b[0;34m)\u001b[0m\u001b[0;34m\u001b[0m\u001b[0;34m\u001b[0m\u001b[0m\n\u001b[0m\u001b[1;32m    237\u001b[0m \u001b[0;34m\u001b[0m\u001b[0m\n\u001b[1;32m    238\u001b[0m \u001b[0;34m\u001b[0m\u001b[0m\n",
            "\u001b[0;32m<ipython-input-3-e2cb999bb1aa>\u001b[0m in \u001b[0;36mcari_anime\u001b[0;34m()\u001b[0m\n\u001b[1;32m    234\u001b[0m     \u001b[0;32mexcept\u001b[0m \u001b[0mAttributeError\u001b[0m\u001b[0;34m:\u001b[0m\u001b[0;34m\u001b[0m\u001b[0;34m\u001b[0m\u001b[0m\n\u001b[1;32m    235\u001b[0m            \u001b[0mcs\u001b[0m\u001b[0;34m.\u001b[0m\u001b[0mprint\u001b[0m\u001b[0;34m(\u001b[0m\u001b[0;34m\":thumbs_down: Anime tidak ditemukan!\"\u001b[0m\u001b[0;34m)\u001b[0m\u001b[0;34m\u001b[0m\u001b[0;34m\u001b[0m\u001b[0m\n\u001b[0;32m--> 236\u001b[0;31m     \u001b[0mcari_anime\u001b[0m\u001b[0;34m(\u001b[0m\u001b[0;34m)\u001b[0m\u001b[0;34m\u001b[0m\u001b[0;34m\u001b[0m\u001b[0m\n\u001b[0m\u001b[1;32m    237\u001b[0m \u001b[0;34m\u001b[0m\u001b[0m\n\u001b[1;32m    238\u001b[0m \u001b[0;34m\u001b[0m\u001b[0m\n",
            "\u001b[0;32m<ipython-input-3-e2cb999bb1aa>\u001b[0m in \u001b[0;36mcari_anime\u001b[0;34m()\u001b[0m\n\u001b[1;32m    234\u001b[0m     \u001b[0;32mexcept\u001b[0m \u001b[0mAttributeError\u001b[0m\u001b[0;34m:\u001b[0m\u001b[0;34m\u001b[0m\u001b[0;34m\u001b[0m\u001b[0m\n\u001b[1;32m    235\u001b[0m            \u001b[0mcs\u001b[0m\u001b[0;34m.\u001b[0m\u001b[0mprint\u001b[0m\u001b[0;34m(\u001b[0m\u001b[0;34m\":thumbs_down: Anime tidak ditemukan!\"\u001b[0m\u001b[0;34m)\u001b[0m\u001b[0;34m\u001b[0m\u001b[0;34m\u001b[0m\u001b[0m\n\u001b[0;32m--> 236\u001b[0;31m     \u001b[0mcari_anime\u001b[0m\u001b[0;34m(\u001b[0m\u001b[0;34m)\u001b[0m\u001b[0;34m\u001b[0m\u001b[0;34m\u001b[0m\u001b[0m\n\u001b[0m\u001b[1;32m    237\u001b[0m \u001b[0;34m\u001b[0m\u001b[0m\n\u001b[1;32m    238\u001b[0m \u001b[0;34m\u001b[0m\u001b[0m\n",
            "\u001b[0;32m<ipython-input-3-e2cb999bb1aa>\u001b[0m in \u001b[0;36mcari_anime\u001b[0;34m()\u001b[0m\n\u001b[1;32m    234\u001b[0m     \u001b[0;32mexcept\u001b[0m \u001b[0mAttributeError\u001b[0m\u001b[0;34m:\u001b[0m\u001b[0;34m\u001b[0m\u001b[0;34m\u001b[0m\u001b[0m\n\u001b[1;32m    235\u001b[0m            \u001b[0mcs\u001b[0m\u001b[0;34m.\u001b[0m\u001b[0mprint\u001b[0m\u001b[0;34m(\u001b[0m\u001b[0;34m\":thumbs_down: Anime tidak ditemukan!\"\u001b[0m\u001b[0;34m)\u001b[0m\u001b[0;34m\u001b[0m\u001b[0;34m\u001b[0m\u001b[0m\n\u001b[0;32m--> 236\u001b[0;31m     \u001b[0mcari_anime\u001b[0m\u001b[0;34m(\u001b[0m\u001b[0;34m)\u001b[0m\u001b[0;34m\u001b[0m\u001b[0;34m\u001b[0m\u001b[0m\n\u001b[0m\u001b[1;32m    237\u001b[0m \u001b[0;34m\u001b[0m\u001b[0m\n\u001b[1;32m    238\u001b[0m \u001b[0;34m\u001b[0m\u001b[0m\n",
            "\u001b[0;32m<ipython-input-3-e2cb999bb1aa>\u001b[0m in \u001b[0;36mcari_anime\u001b[0;34m()\u001b[0m\n\u001b[1;32m    234\u001b[0m     \u001b[0;32mexcept\u001b[0m \u001b[0mAttributeError\u001b[0m\u001b[0;34m:\u001b[0m\u001b[0;34m\u001b[0m\u001b[0;34m\u001b[0m\u001b[0m\n\u001b[1;32m    235\u001b[0m            \u001b[0mcs\u001b[0m\u001b[0;34m.\u001b[0m\u001b[0mprint\u001b[0m\u001b[0;34m(\u001b[0m\u001b[0;34m\":thumbs_down: Anime tidak ditemukan!\"\u001b[0m\u001b[0;34m)\u001b[0m\u001b[0;34m\u001b[0m\u001b[0;34m\u001b[0m\u001b[0m\n\u001b[0;32m--> 236\u001b[0;31m     \u001b[0mcari_anime\u001b[0m\u001b[0;34m(\u001b[0m\u001b[0;34m)\u001b[0m\u001b[0;34m\u001b[0m\u001b[0;34m\u001b[0m\u001b[0m\n\u001b[0m\u001b[1;32m    237\u001b[0m \u001b[0;34m\u001b[0m\u001b[0m\n\u001b[1;32m    238\u001b[0m \u001b[0;34m\u001b[0m\u001b[0m\n",
            "\u001b[0;32m<ipython-input-3-e2cb999bb1aa>\u001b[0m in \u001b[0;36mcari_anime\u001b[0;34m()\u001b[0m\n\u001b[1;32m    182\u001b[0m \u001b[0;34m\u001b[0m\u001b[0m\n\u001b[1;32m    183\u001b[0m     \u001b[0;31m#Membuat input untuk cari Anime\u001b[0m\u001b[0;34m\u001b[0m\u001b[0;34m\u001b[0m\u001b[0m\n\u001b[0;32m--> 184\u001b[0;31m     \u001b[0mcari\u001b[0m \u001b[0;34m=\u001b[0m \u001b[0mcs\u001b[0m\u001b[0;34m.\u001b[0m\u001b[0minput\u001b[0m\u001b[0;34m(\u001b[0m\u001b[0;34m\"[bold red]Cari Anime : :warning:(type 'exit' to exit)\"\u001b[0m\u001b[0;34m)\u001b[0m\u001b[0;34m\u001b[0m\u001b[0;34m\u001b[0m\u001b[0m\n\u001b[0m\u001b[1;32m    185\u001b[0m     \u001b[0;32mif\u001b[0m \u001b[0mcari\u001b[0m \u001b[0;34m==\u001b[0m \u001b[0;34m''\u001b[0m\u001b[0;34m:\u001b[0m\u001b[0;34m\u001b[0m\u001b[0;34m\u001b[0m\u001b[0m\n\u001b[1;32m    186\u001b[0m        \u001b[0mcs\u001b[0m\u001b[0;34m.\u001b[0m\u001b[0mprint\u001b[0m\u001b[0;34m(\u001b[0m\u001b[0;34m\"Tidak boleh kosong!\"\u001b[0m\u001b[0;34m)\u001b[0m\u001b[0;34m\u001b[0m\u001b[0;34m\u001b[0m\u001b[0m\n",
            "\u001b[0;32m/usr/local/lib/python3.10/dist-packages/rich/console.py\u001b[0m in \u001b[0;36minput\u001b[0;34m(self, prompt, markup, emoji, password, stream)\u001b[0m\n\u001b[1;32m   2121\u001b[0m                 \u001b[0mresult\u001b[0m \u001b[0;34m=\u001b[0m \u001b[0mstream\u001b[0m\u001b[0;34m.\u001b[0m\u001b[0mreadline\u001b[0m\u001b[0;34m(\u001b[0m\u001b[0;34m)\u001b[0m\u001b[0;34m\u001b[0m\u001b[0;34m\u001b[0m\u001b[0m\n\u001b[1;32m   2122\u001b[0m             \u001b[0;32melse\u001b[0m\u001b[0;34m:\u001b[0m\u001b[0;34m\u001b[0m\u001b[0;34m\u001b[0m\u001b[0m\n\u001b[0;32m-> 2123\u001b[0;31m                 \u001b[0mresult\u001b[0m \u001b[0;34m=\u001b[0m \u001b[0minput\u001b[0m\u001b[0;34m(\u001b[0m\u001b[0;34m)\u001b[0m\u001b[0;34m\u001b[0m\u001b[0;34m\u001b[0m\u001b[0m\n\u001b[0m\u001b[1;32m   2124\u001b[0m         \u001b[0;32mreturn\u001b[0m \u001b[0mresult\u001b[0m\u001b[0;34m\u001b[0m\u001b[0;34m\u001b[0m\u001b[0m\n\u001b[1;32m   2125\u001b[0m \u001b[0;34m\u001b[0m\u001b[0m\n",
            "\u001b[0;32m/usr/local/lib/python3.10/dist-packages/ipykernel/kernelbase.py\u001b[0m in \u001b[0;36mraw_input\u001b[0;34m(self, prompt)\u001b[0m\n\u001b[1;32m    849\u001b[0m                 \u001b[0;34m\"raw_input was called, but this frontend does not support input requests.\"\u001b[0m\u001b[0;34m\u001b[0m\u001b[0;34m\u001b[0m\u001b[0m\n\u001b[1;32m    850\u001b[0m             )\n\u001b[0;32m--> 851\u001b[0;31m         return self._input_request(str(prompt),\n\u001b[0m\u001b[1;32m    852\u001b[0m             \u001b[0mself\u001b[0m\u001b[0;34m.\u001b[0m\u001b[0m_parent_ident\u001b[0m\u001b[0;34m,\u001b[0m\u001b[0;34m\u001b[0m\u001b[0;34m\u001b[0m\u001b[0m\n\u001b[1;32m    853\u001b[0m             \u001b[0mself\u001b[0m\u001b[0;34m.\u001b[0m\u001b[0m_parent_header\u001b[0m\u001b[0;34m,\u001b[0m\u001b[0;34m\u001b[0m\u001b[0;34m\u001b[0m\u001b[0m\n",
            "\u001b[0;32m/usr/local/lib/python3.10/dist-packages/ipykernel/kernelbase.py\u001b[0m in \u001b[0;36m_input_request\u001b[0;34m(self, prompt, ident, parent, password)\u001b[0m\n\u001b[1;32m    893\u001b[0m             \u001b[0;32mexcept\u001b[0m \u001b[0mKeyboardInterrupt\u001b[0m\u001b[0;34m:\u001b[0m\u001b[0;34m\u001b[0m\u001b[0;34m\u001b[0m\u001b[0m\n\u001b[1;32m    894\u001b[0m                 \u001b[0;31m# re-raise KeyboardInterrupt, to truncate traceback\u001b[0m\u001b[0;34m\u001b[0m\u001b[0;34m\u001b[0m\u001b[0m\n\u001b[0;32m--> 895\u001b[0;31m                 \u001b[0;32mraise\u001b[0m \u001b[0mKeyboardInterrupt\u001b[0m\u001b[0;34m(\u001b[0m\u001b[0;34m\"Interrupted by user\"\u001b[0m\u001b[0;34m)\u001b[0m \u001b[0;32mfrom\u001b[0m \u001b[0;32mNone\u001b[0m\u001b[0;34m\u001b[0m\u001b[0;34m\u001b[0m\u001b[0m\n\u001b[0m\u001b[1;32m    896\u001b[0m             \u001b[0;32mexcept\u001b[0m \u001b[0mException\u001b[0m \u001b[0;32mas\u001b[0m \u001b[0me\u001b[0m\u001b[0;34m:\u001b[0m\u001b[0;34m\u001b[0m\u001b[0;34m\u001b[0m\u001b[0m\n\u001b[1;32m    897\u001b[0m                 \u001b[0mself\u001b[0m\u001b[0;34m.\u001b[0m\u001b[0mlog\u001b[0m\u001b[0;34m.\u001b[0m\u001b[0mwarning\u001b[0m\u001b[0;34m(\u001b[0m\u001b[0;34m\"Invalid Message:\"\u001b[0m\u001b[0;34m,\u001b[0m \u001b[0mexc_info\u001b[0m\u001b[0;34m=\u001b[0m\u001b[0;32mTrue\u001b[0m\u001b[0;34m)\u001b[0m\u001b[0;34m\u001b[0m\u001b[0;34m\u001b[0m\u001b[0m\n",
            "\u001b[0;31mKeyboardInterrupt\u001b[0m: Interrupted by user"
          ]
        }
      ],
      "source": [
        "\n",
        "###########IMPORT MODULE##########\n",
        "#Main lib\n",
        "import requests as re\n",
        "from bs4 import BeautifulSoup\n",
        "import time\n",
        "import json\n",
        "import pandas as pd\n",
        "import matplotlib.pyplot as plt\n",
        "from datetime import datetime\n",
        "from time import sleep\n",
        "\n",
        "#Decoration lib\n",
        "import rich\n",
        "from rich.panel import Panel as nel\n",
        "from rich.console import Console\n",
        "########################################\n",
        "\n",
        "#Variable\n",
        "cs = Console(width=50)\n",
        "username = 'Bima'\n",
        "index = 1\n",
        "link = ['https://otakudesu.cloud', 'https://otakudesu.cloud/jadwal-rilis/', 'https://otakudesu.cloud/anime-list']\n",
        "\n",
        "#try to ping web\n",
        "try:\n",
        "    response = re.get(link[0])\n",
        "    ip = re.get('https://api.ipify.org/').text\n",
        "    html = response.text\n",
        "    statuscd = response.status_code\n",
        "except Exception as e:\n",
        "    cs.print(nel(f\"[bold red]Terjadi Kesalahan : {e}\"))\n",
        "    statuscd = 404\n",
        "\n",
        "#Fungsi Waktu\n",
        "def get_waktu(jam):\n",
        "    if 0 <= jam < 11:\n",
        "        return \"Pagi\"\n",
        "    elif 11 <= jam < 18:\n",
        "        return \"Sore\"\n",
        "    else:\n",
        "        return \"Malam\"\n",
        "\n",
        "def main():\n",
        "    #Show status\n",
        "    cs.rule(\"[bold cyan]Program Web Scraping CODE by BIMZ\", style = \"yellow\")\n",
        "    get_time = datetime.now().hour\n",
        "    get_time_minute = datetime.now().minute\n",
        "    get_time_rn = get_waktu(get_time)\n",
        "    cs.print(nel.fit(f\"[bold cyan on magenta]Selamat {get_time_rn},{username} :moyai:\"))\n",
        "    cs.print(nel.fit(f\"[bold white on red]Link/Sumber : {link[0]}\\n[bold white on yellow]Waktu saat ini : {get_time} : {get_time_minute}\\n[bold white on green]Status code Web : {statuscd}\\n[bold magenta]Ip kamu : {ip}\\n[bold blue]Country : Unknown\", border_style = \"blue\"))\n",
        "    cs.rule(\"[bold cyan] Main Menu\", style = \"yellow\")\n",
        "    cs.print(\"[bold magenta]1.Trending Anime\\n2.Jadwal rilis Anime\\n3.List semua Anime A-Z[bold red ](Unstable)\\n[bold magenta]4.Cari Anime[red](Beta)\\n[bold magenta]5.Keluar\", justify = \"center\")\n",
        "    cs.print(\"[bold cyan]Created with :red_heart-emoji: by BIMZ\", justify = \"center\")\n",
        "    inp = cs.input(\"[bold red]$[BIMZ:smiley:] >>\")\n",
        "    if inp == \"1\":\n",
        "       get_trending()\n",
        "    elif inp == \"2\":\n",
        "       release_date()\n",
        "    elif inp == \"3\":\n",
        "       list_anime()\n",
        "    elif inp == \"4\":\n",
        "        cari_anime()\n",
        "    elif inp == \"5\":\n",
        "        exit()\n",
        "    else:\n",
        "       cs.print(\"[bold red] Input tidak valid!\")\n",
        "       main()\n",
        "\n",
        "#Fungsi Trending Anime\n",
        "def get_trending():\n",
        "    global index\n",
        "    soup = BeautifulSoup(html, 'html.parser')\n",
        "\n",
        "    # Judul\n",
        "    titles = soup.find_all(class_='jdlflm')\n",
        "\n",
        "    # Episode\n",
        "    episodes = soup.find_all(class_='epz')\n",
        "\n",
        "    # tanggal rilis\n",
        "    release_dates = soup.find_all(class_='newnime')\n",
        "\n",
        "    # Menampilkan data\n",
        "    for title, episode, release_date in zip(titles, episodes, release_dates):\n",
        "        cs.print(\n",
        "        nel.fit(f\"{index}.[bold green]{title.text.strip()}\\n\"\n",
        "        f\"[bold cyan]Episode: {episode.text.strip()}\\n[bold magenta]Release Date: {release_date.text.strip()}\", border_style = \"red\"))\n",
        "        print('\\n')\n",
        "        index = index + 1\n",
        "        time.sleep(0.3)\n",
        "    index = index -1\n",
        "    print(f\"Total anime terkumpul : {index}\")\n",
        "    index = 1\n",
        "    tanya()\n",
        "\n",
        "#Fungsi Tanggal rilis\n",
        "def release_date():\n",
        "    response = re.get(link[1])\n",
        "    soup = BeautifulSoup(response.text, 'html.parser')\n",
        "    schedule_data = soup.find_all('div', class_='kglist321')\n",
        "\n",
        "    # Inisialisasi list untuk menyimpan data\n",
        "    days_list = []\n",
        "    anime_count_list = []\n",
        "\n",
        "    #Merekap data hari\n",
        "    for day_data in schedule_data:\n",
        "        day = day_data.find('h2').text\n",
        "        animes = day_data.find_all('a')\n",
        "        days_list.append(day)\n",
        "        anime_count_list.append(len(animes))\n",
        "\n",
        "        #Menampilkan data\n",
        "        cs.rule(f'[cyan]{day}', style=\"red\")\n",
        "        for anime in animes:\n",
        "            cs.print(anime.text)\n",
        "            print('\\n')\n",
        "            time.sleep(0.3)\n",
        "\n",
        "    #Membuat input menampilkan diagram\n",
        "    datafr = cs.input(\"[bold cyan]Tampilkan diagram? (y/n)\")\n",
        "    if datafr.lower() == 'y':\n",
        "        df = pd.DataFrame({'Day': days_list, 'Anime Count': anime_count_list})\n",
        "        # Membuat diagram batang\n",
        "        plt.bar(df['Day'], df['Anime Count'], color='cyan')\n",
        "        plt.xlabel('Hari')\n",
        "        plt.ylabel('Jumlah')\n",
        "        plt.title('Jumlah rilis anime harian')\n",
        "        with cs.status(\"Memuat diagram...\", spinner = \"monkey\"):\n",
        "           time.sleep(2)\n",
        "           plt.show()\n",
        "        tanya()\n",
        "    else:\n",
        "        main()\n",
        "\n",
        "\n",
        "#Fungsi list Anime\n",
        "def list_anime():\n",
        "\n",
        "    #Memuat data\n",
        "    with cs.status(\"Memuat data...(Mungkin agak lama karena datanya banyak :v)\", spinner=\"monkey\"):\n",
        "        time.sleep(3)\n",
        "    response = re.get(link[2])\n",
        "    soup = BeautifulSoup(response.text, \"html.parser\")\n",
        "\n",
        "    #Mencari class\n",
        "    sections = soup.find_all(class_=\"jdlbar\")\n",
        "    anime_dict = {}\n",
        "\n",
        "    #Merekap anime dan menyimpan dalam variable\n",
        "    for section in sections:\n",
        "        title = section.find(\"ul\").find(\"li\").text.strip()\n",
        "        category = title[0]\n",
        "        anime_list = [anime.text.strip() for anime in section.find_all(\"a\")]\n",
        "        anime_dict.setdefault(category, []).extend(anime_list)\n",
        "\n",
        "    # Menampilkan list Anime dengan perulangan\n",
        "    for category, anime_list in sorted(anime_dict.items()):\n",
        "        cs.rule(f\"[bold red]{category}\", style=\"yellow\")\n",
        "        cs.print(f\"• \" + '\\n• '.join(sorted(set(anime_list))) + \"\\n\")\n",
        "        time.sleep(0.3)\n",
        "\n",
        "    #Mengambil input\n",
        "    cts = cs.input(\"[bold cyan]Tampilkan diagram? (y/n) :\")\n",
        "    if cts.lower() == 'y':\n",
        "       categories = sorted(anime_dict.keys())\n",
        "       anime_counts = [len(anime_list) for anime_list in anime_dict.values()]\n",
        "       plt.figure(figsize=(10, 6))\n",
        "       plt.bar(categories, anime_counts, color='skyblue')\n",
        "       plt.xlabel('Kategori')\n",
        "       plt.ylabel('Jumlah Anime')\n",
        "       plt.title('Jumlah Anime per Kategori')\n",
        "       with cs.status(\"Memuat diagram...\"):\n",
        "           time.sleep(1)\n",
        "       plt.show()\n",
        "       tanya()\n",
        "    else:\n",
        "        main()\n",
        "\n",
        "#Fungsi Cari Anime\n",
        "def cari_anime():\n",
        "\n",
        "    #Membuat input untuk cari Anime\n",
        "    cari = cs.input(\"[bold red]Cari Anime : :warning:(type 'exit' to exit)\")\n",
        "    if cari == '':\n",
        "       cs.print(\"Tidak boleh kosong!\")\n",
        "       cari_anime()\n",
        "    elif cari.lower() == 'exit':\n",
        "        main()\n",
        "\n",
        "    #Mengganti link sesuai input\n",
        "    linkcari = f\"https://otakudesu.cloud/?s={cari}&post_type=anime\"\n",
        "\n",
        "    #Mendapatkan elemen html\n",
        "    response = re.get(linkcari)\n",
        "    soup = BeautifulSoup(response.text, \"html.parser\")\n",
        "\n",
        "    #Merekap semua element html yg memiliki tag'ul'\n",
        "    anime_list = soup.find_all(\"ul\", class_=\"chivsrc\")\n",
        "\n",
        "    #Mencoba mendapatkan data dari html(scrape)\n",
        "    try:\n",
        "       for anime in anime_list:\n",
        "           title = anime.h2.text.strip()\n",
        "           rating = 'gagal mendapatkan data rating'\n",
        "           status = anime.find(\"div\", class_=\"set\").find_next(\"div\", class_=\"set\").text.split(\":\")[1].strip()\n",
        "           genres = [genre.text.strip() for genre in anime.find_all(\"a\", rel=\"tag\")]\n",
        "           linkk = anime.h2.a.get(\"href\")\n",
        "           get_sinopsis = re.get(linkk)\n",
        "           soup_linkk = BeautifulSoup(get_sinopsis.text, 'html.parser')\n",
        "           sinopsis = soup_linkk.find('div', class_='sinopc').text\n",
        "           if sinopsis == '':\n",
        "              sinopsis = 'Sinopsis tidak tersedia!(Null)'\n",
        "           skor_element = soup_linkk.select_one('p:contains(\"Skor:\") span')\n",
        "           skor = skor_element.text.strip() if skor_element else \"Not Found\"\n",
        "\n",
        "           # Mengambil tanggal rilis\n",
        "           tanggal_rilis_element = soup_linkk.select_one('p:contains(\"Tanggal Rilis:\") span')\n",
        "           tanggal_rilis = tanggal_rilis_element.text.strip() if tanggal_rilis_element else \"Not Found\"\n",
        "\n",
        "           # Mengambil produser\n",
        "           produser_element = soup_linkk.select_one('p:contains(\"Produser:\") span')\n",
        "           produser = produser_element.text.strip() if produser_element else \"Not Found\"\n",
        "\n",
        "\n",
        "           #Menampilkan Hasil\n",
        "           print(\"\\n\")#Ini margin/memberi jarak\n",
        "           cs.print(\":thumbs_up: Anime ditemukan!\")\n",
        "           cs.print(nel.fit(f\"[bold green]Judul : {title}\\n[magenta]Status : {status}\\n[white]{skor}\\n[bold yellow]{tanggal_rilis}\\n[bold cyan]{produser}\\n[red]Genre : {', '.join(genres)}\\n[bold blue]Sinopsis : {sinopsis} \", border_style = \"cyan\"))\n",
        "           print(f\"Link: {linkk}\")\n",
        "           print(\"-\" * 20)\n",
        "\n",
        "    #Mengontrol error jika anime tidak ditemukan\n",
        "    except AttributeError:\n",
        "           cs.print(\":thumbs_down: Anime tidak ditemukan!\")\n",
        "    cari_anime()\n",
        "\n",
        "\n",
        "\n",
        "def tanya():\n",
        "\n",
        "     #Fungsi kembali ke menu utama/awal\n",
        "    iqn = cs.input(\"[bold cyan] Back to menu? (y/n) : \")\n",
        "    if iqn.lower() == 'y':\n",
        "       main()\n",
        "    else:\n",
        "       exit()\n",
        "\n",
        "\n",
        "\n",
        "\n",
        "#First time setup\n",
        "if __name__ == \"__main__\" :\n",
        "    with cs.status(\"Memuat data...\", spinner = \"monkey\"):\n",
        "       time.sleep(2)\n",
        "    main()"
      ]
    }
  ],
  "metadata": {
    "colab": {
      "provenance": [],
      "authorship_tag": "ABX9TyNOYXebillcrOXxSTJlF1jn",
      "include_colab_link": true
    },
    "kernelspec": {
      "display_name": "Python 3",
      "name": "python3"
    },
    "language_info": {
      "name": "python"
    }
  },
  "nbformat": 4,
  "nbformat_minor": 0
}